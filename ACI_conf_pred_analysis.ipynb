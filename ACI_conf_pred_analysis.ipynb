{
 "cells": [
  {
   "cell_type": "code",
   "execution_count": 89,
   "metadata": {},
   "outputs": [],
   "source": [
    "import numpy as np\n",
    "\n",
    "from tqdm.notebook import tqdm\n",
    "import matplotlib.pyplot as plt\n",
    "\n",
    "from sklearn.model_selection import train_test_split\n",
    "from copy import deepcopy\n",
    "\n",
    "import time"
   ]
  },
  {
   "cell_type": "markdown",
   "metadata": {},
   "source": [
    "# Synthetic linear data"
   ]
  },
  {
   "cell_type": "markdown",
   "metadata": {},
   "source": [
    "## Test I: iid"
   ]
  },
  {
   "cell_type": "code",
   "execution_count": 90,
   "metadata": {},
   "outputs": [
    {
     "data": {
      "application/vnd.jupyter.widget-view+json": {
       "model_id": "2d5d5ceb79cc480b82a52dc47080a85f",
       "version_major": 2,
       "version_minor": 0
      },
      "text/plain": [
       "Running experiment:   0%|          | 0/20 [00:00<?, ?it/s]"
      ]
     },
     "metadata": {},
     "output_type": "display_data"
    }
   ],
   "source": [
    "# Target error rate and step size\n",
    "epsilon = 0.1\n",
    "gamma = 0.005\n",
    "\n",
    "# Guarantee of ACI is absolute deviation of error rate <= bound\n",
    "bound = (max(epsilon, 1-epsilon) + gamma) / (gamma * y_run.shape[0])\n",
    "\n",
    "cp_res = {}\n",
    "ols_res = {}\n",
    "\n",
    "# Set seed\n",
    "# seed = 2024\n",
    "N = 20\n",
    "for seed in tqdm(range(N), desc='Running experiment', total=N):\n",
    "    rnd_gen = np.random.default_rng(seed)\n",
    "\n",
    "    # Generate data\n",
    "    X = rnd_gen.normal(loc=0, scale=1, size=(2000, 4))\n",
    "    beta = np.array([2, 1, 0, 0])\n",
    "    Y = X @ beta + rnd_gen.normal(loc=0, scale=1, size=2000)\n",
    "\n",
    "    # Split data\n",
    "    initial_training_size = 100\n",
    "    X_train = X[:initial_training_size]\n",
    "    y_train = Y[:initial_training_size]\n",
    "\n",
    "    X_run = X[initial_training_size:]\n",
    "    y_run = Y[initial_training_size:]\n",
    "\n",
    "    # Run full CP\n",
    "\n",
    "    from CRR import ConformalRidgeRegressor\n",
    "    cp = ConformalRidgeRegressor(a=0)\n",
    "\n",
    "    time_init_cp = time.time()\n",
    "    cp.learn_initial_training_set(X_train, y_train)\n",
    "\n",
    "    Err_cp = 0\n",
    "\n",
    "    eps = epsilon\n",
    "\n",
    "    predictions_cp = np.empty((X_run.shape[0], 5))\n",
    "    for i, (obj, label) in enumerate(zip(X_run, y_run)):\n",
    "        # Reality presents the object x\n",
    "        x = obj\n",
    "        # Forecaster outputs Gamma\n",
    "        Gamma, precomputed = cp.predict(x, epsilon=eps, bounds='both', return_update=True)\n",
    "        width = cp.width(Gamma)\n",
    "        # Reality presents the label\n",
    "        y = label\n",
    "        cp.learn_one(x, y, precomputed)\n",
    "        err = cp.err(Gamma, label)\n",
    "\n",
    "        eps += gamma*(epsilon - err)\n",
    "        eps = max(2/cp.X.shape[0], eps)\n",
    "\n",
    "        Err_cp += err\n",
    "        predictions_cp[i, 0] = Gamma[0] # Lower \n",
    "        predictions_cp[i, 1] = Gamma[1] # Upper \n",
    "        predictions_cp[i, 2] = err # Error\n",
    "        predictions_cp[i, 3] = eps # True label\n",
    "        predictions_cp[i, 4] = width # True label\n",
    "    time_cp = time.time() - time_init_cp\n",
    "\n",
    "    cp_res[seed] = {'time': time_cp, 'res': predictions_cp}\n",
    "\n",
    "\n",
    "    # Run OLS\n",
    "\n",
    "    from Ridge_point_predictor import OnlineRidgeRegressor\n",
    "\n",
    "    ols = OnlineRidgeRegressor(a=0)\n",
    "\n",
    "    time_init_ols = time.time()\n",
    "\n",
    "    ols.learn_initial_training_set(X_train, y_train)\n",
    "\n",
    "    Err_ols = 0\n",
    "\n",
    "    eps = epsilon\n",
    "\n",
    "    predictions_ols = np.empty((X_run.shape[0], 5))\n",
    "    for i, (obj, label) in enumerate(zip(X_run, y_run)):\n",
    "        # Reality presents the object x\n",
    "        x = obj\n",
    "        Gamma = ols.predict_interval(x, epsilon=eps)\n",
    "        width = ols.width(Gamma)\n",
    "        # Reality reveals y\n",
    "        y = label\n",
    "        ols.learn_one(x, y)\n",
    "        err = ols.err(Gamma, label)\n",
    "\n",
    "        eps += gamma*(epsilon - err)\n",
    "        eps = max(2/ols.X.shape[0], eps)\n",
    "\n",
    "        Err_ols += err\n",
    "        predictions_ols[i, 0] = Gamma[0] # Lower \n",
    "        predictions_ols[i, 1] = Gamma[1] # Upper \n",
    "        predictions_ols[i, 2] = err # Error\n",
    "        predictions_ols[i, 3] = eps # True label\n",
    "        predictions_ols[i, 4] = width # True label\n",
    "    time_ols = time.time() - time_init_ols\n",
    "\n",
    "    ols_res[seed] = {'time': time_ols, 'res': predictions_ols}"
   ]
  },
  {
   "cell_type": "code",
   "execution_count": 91,
   "metadata": {},
   "outputs": [
    {
     "data": {
      "text/plain": [
       "0.10028947368421053"
      ]
     },
     "execution_count": 91,
     "metadata": {},
     "output_type": "execute_result"
    }
   ],
   "source": [
    "# Mean error cp\n",
    "sum([cp_res[i]['res'][:,2].sum() for i in range(N)]) / (N*y_run.shape[0])"
   ]
  },
  {
   "cell_type": "code",
   "execution_count": 92,
   "metadata": {},
   "outputs": [
    {
     "data": {
      "text/plain": [
       "0.1003157894736842"
      ]
     },
     "execution_count": 92,
     "metadata": {},
     "output_type": "execute_result"
    }
   ],
   "source": [
    "# Mean error ols\n",
    "sum([ols_res[i]['res'][:,2].sum() for i in range(N)]) / (N*y_run.shape[0])"
   ]
  },
  {
   "cell_type": "code",
   "execution_count": 93,
   "metadata": {},
   "outputs": [
    {
     "data": {
      "text/plain": [
       "3.3204386313527405"
      ]
     },
     "execution_count": 93,
     "metadata": {},
     "output_type": "execute_result"
    }
   ],
   "source": [
    "# Mean width cp\n",
    "sum([cp_res[i]['res'][:,4].sum() for i in range(N)]) / (N*y_run.shape[0])"
   ]
  },
  {
   "cell_type": "code",
   "execution_count": 94,
   "metadata": {},
   "outputs": [
    {
     "data": {
      "text/plain": [
       "3.314483523458401"
      ]
     },
     "execution_count": 94,
     "metadata": {},
     "output_type": "execute_result"
    }
   ],
   "source": [
    "# Mean width ols\n",
    "sum([ols_res[i]['res'][:,4].sum() for i in range(N)]) / (N*y_run.shape[0])"
   ]
  },
  {
   "cell_type": "code",
   "execution_count": 95,
   "metadata": {},
   "outputs": [
    {
     "data": {
      "text/plain": [
       "33.28716924190521"
      ]
     },
     "execution_count": 95,
     "metadata": {},
     "output_type": "execute_result"
    }
   ],
   "source": [
    "# Mean time cp\n",
    "np.mean([cp_res[i]['time'] for i in range(N)])"
   ]
  },
  {
   "cell_type": "code",
   "execution_count": 96,
   "metadata": {},
   "outputs": [
    {
     "data": {
      "text/plain": [
       "0.57648766040802"
      ]
     },
     "execution_count": 96,
     "metadata": {},
     "output_type": "execute_result"
    }
   ],
   "source": [
    "# Mean time ols\n",
    "np.mean([ols_res[i]['time'] for i in range(N)])"
   ]
  },
  {
   "cell_type": "code",
   "execution_count": 97,
   "metadata": {},
   "outputs": [
    {
     "data": {
      "text/plain": [
       "Text(0.5, 1.0, 'IID')"
      ]
     },
     "execution_count": 97,
     "metadata": {},
     "output_type": "execute_result"
    },
    {
     "data": {
      "image/png": "[encoded data removed]",
      "text/plain": [
       "<Figure size 640x480 with 1 Axes>"
      ]
     },
     "metadata": {},
     "output_type": "display_data"
    }
   ],
   "source": [
    "plt.plot(np.array([cp_res[i]['res'][:,4] for i in range(N)]).mean(axis=0), label='CP')\n",
    "plt.plot(np.array([ols_res[i]['res'][:,4] for i in range(N)]).mean(axis=0), label='OLS')\n",
    "plt.legend()\n",
    "plt.title('IID')"
   ]
  },
  {
   "cell_type": "code",
   "execution_count": 98,
   "metadata": {},
   "outputs": [],
   "source": [
    "iid_cp_res = deepcopy(cp_res)\n",
    "iid_ols_res = deepcopy(ols_res)"
   ]
  },
  {
   "cell_type": "markdown",
   "metadata": {},
   "source": [
    "## Test 2: Change points"
   ]
  },
  {
   "cell_type": "code",
   "execution_count": 99,
   "metadata": {},
   "outputs": [
    {
     "data": {
      "application/vnd.jupyter.widget-view+json": {
       "model_id": "9967cd86a5df4f57830217199ac3fcf7",
       "version_major": 2,
       "version_minor": 0
      },
      "text/plain": [
       "Running experiment:   0%|          | 0/20 [00:00<?, ?it/s]"
      ]
     },
     "metadata": {},
     "output_type": "display_data"
    }
   ],
   "source": [
    "# Target error rate and step size\n",
    "epsilon = 0.1\n",
    "gamma = 0.005\n",
    "\n",
    "cp_res = {}\n",
    "ols_res = {}\n",
    "\n",
    "for seed in tqdm(range(N), desc='Running experiment', total=N):\n",
    "    rnd_gen = np.random.default_rng(seed)\n",
    "\n",
    "    # Generate data\n",
    "    X = rnd_gen.normal(loc=0, scale=1, size=(2000, 4))\n",
    "    beta1 = np.array([2, 1, 0, 0])\n",
    "    beta2 = np.array([0, -2,-1, 0])\n",
    "    beta3 = np.array([0, 0, 2, 1])\n",
    "\n",
    "    Y1 = X[:500] @ beta1 + rnd_gen.normal(loc=0, scale=1, size=500)\n",
    "    Y2 = X[500:1500] @ beta2 + rnd_gen.normal(loc=0, scale=1, size=1000)\n",
    "    Y3 = X[1500:] @ beta3 + rnd_gen.normal(loc=0, scale=1, size=500)\n",
    "    Y = np.concatenate([Y1, Y2, Y3])\n",
    "\n",
    "    # Split data\n",
    "    initial_training_size = 100\n",
    "    X_train = X[:initial_training_size]\n",
    "    y_train = Y[:initial_training_size]\n",
    "\n",
    "    X_run = X[initial_training_size:]\n",
    "    y_run = Y[initial_training_size:]\n",
    "\n",
    "    # Run full CP\n",
    "\n",
    "    from CRR import ConformalRidgeRegressor\n",
    "    cp = ConformalRidgeRegressor(a=0)\n",
    "\n",
    "    time_init_cp = time.time()\n",
    "    cp.learn_initial_training_set(X_train, y_train)\n",
    "\n",
    "    Err_cp = 0\n",
    "\n",
    "    eps = epsilon\n",
    "\n",
    "    predictions_cp = np.empty((X_run.shape[0], 5))\n",
    "    for i, (obj, label) in enumerate(zip(X_run, y_run)):\n",
    "        # Reality presents the object x\n",
    "        x = obj\n",
    "        # Forecaster outputs Gamma\n",
    "        Gamma, precomputed = cp.predict(x, epsilon=eps, bounds='both', return_update=True)\n",
    "        width = cp.width(Gamma)\n",
    "        # Reality presents the label\n",
    "        y = label\n",
    "        cp.learn_one(x, y, precomputed)\n",
    "        err = cp.err(Gamma, label)\n",
    "\n",
    "        eps += gamma*(epsilon - err)\n",
    "        eps = max(2/cp.X.shape[0], eps)\n",
    "\n",
    "        Err_cp += err\n",
    "        predictions_cp[i, 0] = Gamma[0] # Lower \n",
    "        predictions_cp[i, 1] = Gamma[1] # Upper \n",
    "        predictions_cp[i, 2] = err # Error\n",
    "        predictions_cp[i, 3] = eps # True label\n",
    "        predictions_cp[i, 4] = width # True label\n",
    "    time_cp = time.time() - time_init_cp\n",
    "\n",
    "    cp_res[seed] = {'time': time_cp, 'res': predictions_cp}\n",
    "\n",
    "\n",
    "    # Run OLS\n",
    "\n",
    "    from Ridge_point_predictor import OnlineRidgeRegressor\n",
    "\n",
    "    ols = OnlineRidgeRegressor(a=0)\n",
    "\n",
    "    time_init_ols = time.time()\n",
    "\n",
    "    ols.learn_initial_training_set(X_train, y_train)\n",
    "\n",
    "    Err_ols = 0\n",
    "\n",
    "    eps = epsilon\n",
    "\n",
    "    predictions_ols = np.empty((X_run.shape[0], 5))\n",
    "    for i, (obj, label) in enumerate(zip(X_run, y_run)):\n",
    "        # Reality presents the object x\n",
    "        x = obj\n",
    "        Gamma = ols.predict_interval(x, epsilon=eps)\n",
    "        width = ols.width(Gamma)\n",
    "        # Reality reveals y\n",
    "        y = label\n",
    "        ols.learn_one(x, y)\n",
    "        err = ols.err(Gamma, label)\n",
    "\n",
    "        eps += gamma*(epsilon - err)\n",
    "        eps = max(2/ols.X.shape[0], eps)\n",
    "\n",
    "        Err_ols += err\n",
    "        predictions_ols[i, 0] = Gamma[0] # Lower \n",
    "        predictions_ols[i, 1] = Gamma[1] # Upper \n",
    "        predictions_ols[i, 2] = err # Error\n",
    "        predictions_ols[i, 3] = eps # True label\n",
    "        predictions_ols[i, 4] = width # True label\n",
    "    time_ols = time.time() - time_init_ols\n",
    "\n",
    "    ols_res[seed] = {'time': time_ols, 'res': predictions_ols}"
   ]
  },
  {
   "cell_type": "code",
   "execution_count": 100,
   "metadata": {},
   "outputs": [
    {
     "data": {
      "text/plain": [
       "0.10526315789473684"
      ]
     },
     "execution_count": 100,
     "metadata": {},
     "output_type": "execute_result"
    }
   ],
   "source": [
    "# Mean error cp\n",
    "sum([cp_res[i]['res'][:,2].sum() for i in range(N)]) / (N*y_run.shape[0])"
   ]
  },
  {
   "cell_type": "code",
   "execution_count": 101,
   "metadata": {},
   "outputs": [
    {
     "data": {
      "text/plain": [
       "0.11021052631578947"
      ]
     },
     "execution_count": 101,
     "metadata": {},
     "output_type": "execute_result"
    }
   ],
   "source": [
    "# Mean error ols\n",
    "sum([ols_res[i]['res'][:,2].sum() for i in range(N)]) / (N*y_run.shape[0])"
   ]
  },
  {
   "cell_type": "code",
   "execution_count": 102,
   "metadata": {},
   "outputs": [
    {
     "data": {
      "text/plain": [
       "7.234555183644337"
      ]
     },
     "execution_count": 102,
     "metadata": {},
     "output_type": "execute_result"
    }
   ],
   "source": [
    "# Mean width cp\n",
    "sum([cp_res[i]['res'][:,4].sum() for i in range(N)]) / (N*y_run.shape[0])"
   ]
  },
  {
   "cell_type": "code",
   "execution_count": 103,
   "metadata": {},
   "outputs": [
    {
     "data": {
      "text/plain": [
       "7.074104164619598"
      ]
     },
     "execution_count": 103,
     "metadata": {},
     "output_type": "execute_result"
    }
   ],
   "source": [
    "# Mean width ols\n",
    "sum([ols_res[i]['res'][:,4].sum() for i in range(N)]) / (N*y_run.shape[0])"
   ]
  },
  {
   "cell_type": "code",
   "execution_count": 104,
   "metadata": {},
   "outputs": [
    {
     "data": {
      "text/plain": [
       "30.56385979652405"
      ]
     },
     "execution_count": 104,
     "metadata": {},
     "output_type": "execute_result"
    }
   ],
   "source": [
    "# Mean time cp\n",
    "np.mean([cp_res[i]['time'] for i in range(N)])"
   ]
  },
  {
   "cell_type": "code",
   "execution_count": 105,
   "metadata": {},
   "outputs": [
    {
     "data": {
      "text/plain": [
       "0.578895115852356"
      ]
     },
     "execution_count": 105,
     "metadata": {},
     "output_type": "execute_result"
    }
   ],
   "source": [
    "# Mean time ols\n",
    "np.mean([ols_res[i]['time'] for i in range(N)])"
   ]
  },
  {
   "cell_type": "code",
   "execution_count": 106,
   "metadata": {},
   "outputs": [
    {
     "data": {
      "text/plain": [
       "Text(0.5, 1.0, 'Change points')"
      ]
     },
     "execution_count": 106,
     "metadata": {},
     "output_type": "execute_result"
    },
    {
     "data": {
      "image/png": "[encoded data removed]",
      "text/plain": [
       "<Figure size 640x480 with 1 Axes>"
      ]
     },
     "metadata": {},
     "output_type": "display_data"
    }
   ],
   "source": [
    "plt.plot(np.array([cp_res[i]['res'][:,4] for i in range(N)]).mean(axis=0), label='CP')\n",
    "plt.plot(np.array([ols_res[i]['res'][:,4] for i in range(N)]).mean(axis=0), label='OLS')\n",
    "plt.legend()\n",
    "plt.title('Change points')"
   ]
  },
  {
   "cell_type": "code",
   "execution_count": 107,
   "metadata": {},
   "outputs": [],
   "source": [
    "change_point_cp_res = deepcopy(cp_res)\n",
    "change_point_ols_res = deepcopy(ols_res)"
   ]
  },
  {
   "cell_type": "markdown",
   "metadata": {},
   "source": [
    "## Test 3: Drift (mean)"
   ]
  },
  {
   "cell_type": "code",
   "execution_count": 108,
   "metadata": {},
   "outputs": [
    {
     "data": {
      "application/vnd.jupyter.widget-view+json": {
       "model_id": "3aa5cb0c9cb149b7892511c0f16ad7ba",
       "version_major": 2,
       "version_minor": 0
      },
      "text/plain": [
       "Running experiment:   0%|          | 0/20 [00:00<?, ?it/s]"
      ]
     },
     "metadata": {},
     "output_type": "display_data"
    }
   ],
   "source": [
    "# Target error rate and step size\n",
    "epsilon = 0.1\n",
    "gamma = 0.005\n",
    "\n",
    "cp_res = {}\n",
    "ols_res = {}\n",
    "\n",
    "for seed in tqdm(range(N), desc='Running experiment', total=N):\n",
    "    rnd_gen = np.random.default_rng(seed)\n",
    "\n",
    "    # Generate data\n",
    "    X = rnd_gen.normal(loc=0, scale=1, size=(2000, 4))\n",
    "    beta1 = np.array([2, 1, 0, 0])\n",
    "    betaN = np.array([0, 0, 2, 1])\n",
    "    Y = np.zeros((X.shape[0]))\n",
    "    for i, x in enumerate(X):\n",
    "        Y[i] = x @ ((1 - i/(X.shape[0]-1))*beta1 + (i/(X.shape[0]-1))*betaN) + rnd_gen.normal(loc=0, scale=1)\n",
    "\n",
    "    # Split data\n",
    "    initial_training_size = 100\n",
    "    X_train = X[:initial_training_size]\n",
    "    y_train = Y[:initial_training_size]\n",
    "\n",
    "    X_run = X[initial_training_size:]\n",
    "    y_run = Y[initial_training_size:]\n",
    "\n",
    "    # Guarantee of ACI is absolute deviation of error rate <= bound\n",
    "    bound = (max(epsilon, 1-epsilon) + gamma) / (gamma * y_run.shape[0])\n",
    "\n",
    "    # Run full CP\n",
    "\n",
    "    from CRR import ConformalRidgeRegressor\n",
    "    cp = ConformalRidgeRegressor(a=0)\n",
    "\n",
    "    time_init_cp = time.time()\n",
    "    cp.learn_initial_training_set(X_train, y_train)\n",
    "\n",
    "    Err_cp = 0\n",
    "\n",
    "    eps = epsilon\n",
    "\n",
    "    predictions_cp = np.empty((X_run.shape[0], 5))\n",
    "    for i, (obj, label) in enumerate(zip(X_run, y_run)):\n",
    "        # Reality presents the object x\n",
    "        x = obj\n",
    "        # Forecaster outputs Gamma\n",
    "        Gamma, precomputed = cp.predict(x, epsilon=eps, bounds='both', return_update=True)\n",
    "        width = cp.width(Gamma)\n",
    "        # Reality presents the label\n",
    "        y = label\n",
    "        cp.learn_one(x, y, precomputed)\n",
    "        err = cp.err(Gamma, label)\n",
    "\n",
    "        eps += gamma*(epsilon - err)\n",
    "        eps = max(2/cp.X.shape[0], eps)\n",
    "\n",
    "        Err_cp += err\n",
    "        predictions_cp[i, 0] = Gamma[0] # Lower \n",
    "        predictions_cp[i, 1] = Gamma[1] # Upper \n",
    "        predictions_cp[i, 2] = err # Error\n",
    "        predictions_cp[i, 3] = eps # True label\n",
    "        predictions_cp[i, 4] = width # True label\n",
    "    time_cp = time.time() - time_init_cp\n",
    "\n",
    "    cp_res[seed] = {'time': time_cp, 'res': predictions_cp}\n",
    "\n",
    "\n",
    "    # Run OLS\n",
    "\n",
    "    from Ridge_point_predictor import OnlineRidgeRegressor\n",
    "\n",
    "    ols = OnlineRidgeRegressor(a=0)\n",
    "\n",
    "    time_init_ols = time.time()\n",
    "\n",
    "    ols.learn_initial_training_set(X_train, y_train)\n",
    "\n",
    "    Err_ols = 0\n",
    "\n",
    "    eps = epsilon\n",
    "\n",
    "    predictions_ols = np.empty((X_run.shape[0], 5))\n",
    "    for i, (obj, label) in enumerate(zip(X_run, y_run)):\n",
    "        # Reality presents the object x\n",
    "        x = obj\n",
    "        Gamma = ols.predict_interval(x, epsilon=eps)\n",
    "        width = ols.width(Gamma)\n",
    "        # Reality reveals y\n",
    "        y = label\n",
    "        ols.learn_one(x, y)\n",
    "        err = ols.err(Gamma, label)\n",
    "\n",
    "        eps += gamma*(epsilon - err)\n",
    "        eps = max(2/ols.X.shape[0], eps)\n",
    "\n",
    "        Err_ols += err\n",
    "        predictions_ols[i, 0] = Gamma[0] # Lower \n",
    "        predictions_ols[i, 1] = Gamma[1] # Upper \n",
    "        predictions_ols[i, 2] = err # Error\n",
    "        predictions_ols[i, 3] = eps # True label\n",
    "        predictions_ols[i, 4] = width # True label\n",
    "    time_ols = time.time() - time_init_ols\n",
    "\n",
    "    ols_res[seed] = {'time': time_ols, 'res': predictions_ols}"
   ]
  },
  {
   "cell_type": "code",
   "execution_count": 109,
   "metadata": {},
   "outputs": [
    {
     "data": {
      "text/plain": [
       "0.10736842105263159"
      ]
     },
     "execution_count": 109,
     "metadata": {},
     "output_type": "execute_result"
    }
   ],
   "source": [
    "# Mean error cp\n",
    "sum([cp_res[i]['res'][:,2].sum() for i in range(N)]) / (N*y_run.shape[0])"
   ]
  },
  {
   "cell_type": "code",
   "execution_count": 110,
   "metadata": {},
   "outputs": [
    {
     "data": {
      "text/plain": [
       "0.10773684210526316"
      ]
     },
     "execution_count": 110,
     "metadata": {},
     "output_type": "execute_result"
    }
   ],
   "source": [
    "# Mean error ols\n",
    "sum([ols_res[i]['res'][:,2].sum() for i in range(N)]) / (N*y_run.shape[0])"
   ]
  },
  {
   "cell_type": "code",
   "execution_count": 111,
   "metadata": {},
   "outputs": [
    {
     "data": {
      "text/plain": [
       "4.388946342825405"
      ]
     },
     "execution_count": 111,
     "metadata": {},
     "output_type": "execute_result"
    }
   ],
   "source": [
    "# Mean width cp\n",
    "sum([cp_res[i]['res'][:,4].sum() for i in range(N)]) / (N*y_run.shape[0])"
   ]
  },
  {
   "cell_type": "code",
   "execution_count": 112,
   "metadata": {},
   "outputs": [
    {
     "data": {
      "text/plain": [
       "4.368054188090125"
      ]
     },
     "execution_count": 112,
     "metadata": {},
     "output_type": "execute_result"
    }
   ],
   "source": [
    "# Mean width ols\n",
    "sum([ols_res[i]['res'][:,4].sum() for i in range(N)]) / (N*y_run.shape[0])"
   ]
  },
  {
   "cell_type": "code",
   "execution_count": 113,
   "metadata": {},
   "outputs": [
    {
     "data": {
      "text/plain": [
       "33.42615451812744"
      ]
     },
     "execution_count": 113,
     "metadata": {},
     "output_type": "execute_result"
    }
   ],
   "source": [
    "# Mean time cp\n",
    "np.mean([cp_res[i]['time'] for i in range(N)])"
   ]
  },
  {
   "cell_type": "code",
   "execution_count": 114,
   "metadata": {},
   "outputs": [
    {
     "data": {
      "text/plain": [
       "0.552030348777771"
      ]
     },
     "execution_count": 114,
     "metadata": {},
     "output_type": "execute_result"
    }
   ],
   "source": [
    "# Mean time ols\n",
    "np.mean([ols_res[i]['time'] for i in range(N)])"
   ]
  },
  {
   "cell_type": "code",
   "execution_count": 115,
   "metadata": {},
   "outputs": [
    {
     "data": {
      "text/plain": [
       "Text(0.5, 1.0, 'Drift')"
      ]
     },
     "execution_count": 115,
     "metadata": {},
     "output_type": "execute_result"
    },
    {
     "data": {
      "image/png": "[encoded data removed]",
      "text/plain": [
       "<Figure size 640x480 with 1 Axes>"
      ]
     },
     "metadata": {},
     "output_type": "display_data"
    }
   ],
   "source": [
    "plt.plot(np.array([cp_res[i]['res'][:,4] for i in range(N)]).mean(axis=0), label='CP')\n",
    "plt.plot(np.array([ols_res[i]['res'][:,4] for i in range(N)]).mean(axis=0), label='OLS')\n",
    "plt.legend()\n",
    "plt.title('Drift')"
   ]
  },
  {
   "cell_type": "code",
   "execution_count": 116,
   "metadata": {},
   "outputs": [],
   "source": [
    "drift_cp_res = deepcopy(cp_res)\n",
    "drift_ols_res = deepcopy(ols_res)"
   ]
  },
  {
   "cell_type": "markdown",
   "metadata": {},
   "source": [
    "## Statistics"
   ]
  },
  {
   "cell_type": "code",
   "execution_count": 117,
   "metadata": {},
   "outputs": [],
   "source": [
    "# Width\n",
    "cp_iid_mean_width = np.array([iid_cp_res[i]['res'][:,4] for i in range(N)]).mean(axis=1)\n",
    "ols_iid_mean_width = np.array([iid_ols_res[i]['res'][:,4] for i in range(N)]).mean(axis=1)\n",
    "\n",
    "cp_change_point_mean_width = np.array([change_point_cp_res[i]['res'][:,4] for i in range(N)]).mean(axis=1)\n",
    "ols_change_point_mean_width = np.array([change_point_ols_res[i]['res'][:,4] for i in range(N)]).mean(axis=1)\n",
    "\n",
    "cp_drift_mean_width = np.array([drift_cp_res[i]['res'][:,4] for i in range(N)]).mean(axis=1)\n",
    "ols_drift_mean_width = np.array([drift_ols_res[i]['res'][:,4] for i in range(N)]).mean(axis=1)\n",
    "\n",
    "# Absolute deviation\n",
    "cp_iid_dev = np.abs(np.array([iid_cp_res[i]['res'][:,2] for i in range(N)]).mean(axis=1) - epsilon)\n",
    "ols_iid_dev = np.abs(np.array([iid_ols_res[i]['res'][:,2] for i in range(N)]).mean(axis=1) - epsilon)\n",
    "\n",
    "cp_change_point_dev = np.abs(np.array([change_point_cp_res[i]['res'][:,2] for i in range(N)]).mean(axis=1) - epsilon)\n",
    "ols_change_point_dev = np.abs(np.array([change_point_ols_res[i]['res'][:,2] for i in range(N)]).mean(axis=1) - epsilon)\n",
    "\n",
    "cp_drift_dev = np.abs(np.array([drift_cp_res[i]['res'][:,2] for i in range(N)]).mean(axis=1) - epsilon)\n",
    "ols_drift_dev = np.abs(np.array([drift_ols_res[i]['res'][:,2] for i in range(N)]).mean(axis=1) - epsilon)"
   ]
  },
  {
   "cell_type": "markdown",
   "metadata": {},
   "source": [
    "What do we do about these then...?"
   ]
  },
  {
   "cell_type": "code",
   "execution_count": 138,
   "metadata": {},
   "outputs": [
    {
     "data": {
      "text/plain": [
       "BinomTestResult(k=207, n=1900, alternative='two-sided', statistic=0.10894736842105263, pvalue=0.1935393313172712)"
      ]
     },
     "execution_count": 138,
     "metadata": {},
     "output_type": "execute_result"
    }
   ],
   "source": [
    "# Nice and out of the box, but the p-values can not be combined\n",
    "from scipy.stats import binomtest\n",
    "\n",
    "seq = np.array([drift_ols_res[i]['res'][:,2] for i in range(N)])[0]\n",
    "k = int(seq.sum())\n",
    "n = int(seq.shape[0])\n",
    "binomtest(k, n, epsilon)"
   ]
  },
  {
   "cell_type": "markdown",
   "metadata": {},
   "source": [
    "Let's compute confidence intervals using Ramdas' method. The variance should be fairly low, so they should be tight. We should expect to need about 1000 runs, which takes approximately one day to run. "
   ]
  },
  {
   "cell_type": "markdown",
   "metadata": {},
   "source": [
    "But before we run it, let's ensure that we save the data in some good way."
   ]
  },
  {
   "cell_type": "code",
   "execution_count": null,
   "metadata": {},
   "outputs": [],
   "source": []
  }
 ],
 "metadata": {
  "kernelspec": {
   "display_name": "onlineCP",
   "language": "python",
   "name": "python3"
  },
  "language_info": {
   "codemirror_mode": {
    "name": "ipython",
    "version": 3
   },
   "file_extension": ".py",
   "mimetype": "text/x-python",
   "name": "python",
   "nbconvert_exporter": "python",
   "pygments_lexer": "ipython3",
   "version": "3.11.9"
  }
 },
 "nbformat": 4,
 "nbformat_minor": 2
}
