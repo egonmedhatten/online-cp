{
 "cells": [
  {
   "cell_type": "code",
   "execution_count": 1,
   "metadata": {},
   "outputs": [],
   "source": [
    "import numpy as np\n",
    "from scipy.spatial.distance import pdist, cdist, squareform"
   ]
  },
  {
   "cell_type": "code",
   "execution_count": 2,
   "metadata": {},
   "outputs": [],
   "source": [
    "N = 1200\n",
    "np.random.seed(2024)\n",
    "X = np.random.uniform(0, 1, (N, 6))\n",
    "Y = np.sin(X.sum(axis=1)) + np.random.normal(0, 0.1*N, N) # Gaussian noise wiht zero mean and variance 0.1"
   ]
  },
  {
   "cell_type": "code",
   "execution_count": 3,
   "metadata": {},
   "outputs": [],
   "source": [
    "from CRR import ConformalNearestNeighboursRegressor\n",
    "M = 4\n",
    "cp = ConformalNearestNeighboursRegressor(3)\n",
    "cp.learn_initial_training_set(X[:M], Y[:M])"
   ]
  },
  {
   "cell_type": "code",
   "execution_count": 4,
   "metadata": {},
   "outputs": [
    {
     "data": {
      "text/plain": [
       "(4, 4)"
      ]
     },
     "execution_count": 4,
     "metadata": {},
     "output_type": "execute_result"
    }
   ],
   "source": [
    "cp.D.shape"
   ]
  },
  {
   "cell_type": "code",
   "execution_count": 5,
   "metadata": {},
   "outputs": [
    {
     "data": {
      "text/plain": [
       "array([[0.        , 0.84709765, 0.82860374, 0.77990332, 0.90988838],\n",
       "       [0.84709765, 0.        , 0.78714859, 1.14685844, 0.76810604],\n",
       "       [0.82860374, 0.78714859, 0.        , 0.86290875, 0.4366131 ],\n",
       "       [0.77990332, 1.14685844, 0.86290875, 0.        , 0.99772932],\n",
       "       [0.90988838, 0.76810604, 0.4366131 , 0.99772932, 0.        ]])"
      ]
     },
     "execution_count": 5,
     "metadata": {},
     "output_type": "execute_result"
    }
   ],
   "source": [
    "x = X[M]\n",
    "y = Y[M]\n",
    "cp.learn_one(x, y)\n",
    "cp.D"
   ]
  },
  {
   "cell_type": "code",
   "execution_count": 6,
   "metadata": {},
   "outputs": [
    {
     "data": {
      "text/plain": [
       "array([[0.        , 0.84709765, 0.82860374, 0.77990332, 0.90988838],\n",
       "       [0.84709765, 0.        , 0.78714859, 1.14685844, 0.76810604],\n",
       "       [0.82860374, 0.78714859, 0.        , 0.86290875, 0.4366131 ],\n",
       "       [0.77990332, 1.14685844, 0.86290875, 0.        , 0.99772932],\n",
       "       [0.90988838, 0.76810604, 0.4366131 , 0.99772932, 0.        ]])"
      ]
     },
     "execution_count": 6,
     "metadata": {},
     "output_type": "execute_result"
    }
   ],
   "source": [
    "cp2 = ConformalNearestNeighboursRegressor(k=3)\n",
    "cp2.learn_initial_training_set(X[:M+1], Y[:M+1])\n",
    "cp2.D"
   ]
  },
  {
   "cell_type": "code",
   "execution_count": 7,
   "metadata": {},
   "outputs": [
    {
     "data": {
      "text/plain": [
       "True"
      ]
     },
     "execution_count": 7,
     "metadata": {},
     "output_type": "execute_result"
    }
   ],
   "source": [
    "np.allclose(cp.D, cp2.D)"
   ]
  },
  {
   "cell_type": "code",
   "execution_count": 8,
   "metadata": {},
   "outputs": [
    {
     "data": {
      "text/plain": [
       "array([[0.        , 0.84709765, 0.82860374, 0.77990332, 0.90988838],\n",
       "       [0.84709765, 0.        , 0.78714859, 1.14685844, 0.76810604],\n",
       "       [0.82860374, 0.78714859, 0.        , 0.86290875, 0.4366131 ],\n",
       "       [0.77990332, 1.14685844, 0.86290875, 0.        , 0.99772932],\n",
       "       [0.90988838, 0.76810604, 0.4366131 , 0.99772932, 0.        ]])"
      ]
     },
     "execution_count": 8,
     "metadata": {},
     "output_type": "execute_result"
    }
   ],
   "source": [
    "cp.D"
   ]
  },
  {
   "cell_type": "code",
   "execution_count": 9,
   "metadata": {},
   "outputs": [
    {
     "data": {
      "text/plain": [
       "array([[3, 2, 1],\n",
       "       [4, 2, 0],\n",
       "       [4, 1, 0],\n",
       "       [0, 2, 4],\n",
       "       [2, 1, 0]])"
      ]
     },
     "execution_count": 9,
     "metadata": {},
     "output_type": "execute_result"
    }
   ],
   "source": [
    "interesting_object = cp.D.argsort(axis=0)[1:4]\n",
    "interesting_object.T"
   ]
  },
  {
   "cell_type": "code",
   "execution_count": 10,
   "metadata": {},
   "outputs": [
    {
     "data": {
      "text/plain": [
       "5"
      ]
     },
     "execution_count": 10,
     "metadata": {},
     "output_type": "execute_result"
    }
   ],
   "source": [
    "cp.D.shape[0]"
   ]
  },
  {
   "cell_type": "code",
   "execution_count": 11,
   "metadata": {},
   "outputs": [],
   "source": [
    "y = cp.y[:-1]"
   ]
  },
  {
   "cell_type": "code",
   "execution_count": 12,
   "metadata": {},
   "outputs": [
    {
     "data": {
      "text/plain": [
       "-121.32916562118368"
      ]
     },
     "execution_count": 12,
     "metadata": {},
     "output_type": "execute_result"
    }
   ],
   "source": [
    "np.append(y, 0)[np.array([4, 2, 0])].mean()"
   ]
  },
  {
   "cell_type": "code",
   "execution_count": 13,
   "metadata": {},
   "outputs": [
    {
     "data": {
      "text/plain": [
       "-121.32916562118368"
      ]
     },
     "execution_count": 13,
     "metadata": {},
     "output_type": "execute_result"
    }
   ],
   "source": [
    "y[np.array([2, 0])].sum()/3"
   ]
  },
  {
   "cell_type": "code",
   "execution_count": 14,
   "metadata": {},
   "outputs": [
    {
     "name": "stdout",
     "output_type": "stream",
     "text": [
      "[3 2 1]\n",
      "\n",
      "[4 2 0]\n",
      "\n",
      "[4 1 0]\n",
      "\n",
      "[0 2 4]\n",
      "\n",
      "[2 1 0]\n",
      "\n"
     ]
    }
   ],
   "source": [
    "for i, col in enumerate(interesting_object.T): \n",
    "    print(col)\n",
    "    print()\n",
    "    "
   ]
  },
  {
   "cell_type": "code",
   "execution_count": 20,
   "metadata": {},
   "outputs": [],
   "source": [
    "from CRR import ConformalNearestNeighboursRegressor\n",
    "M = 1000\n",
    "k = 20\n",
    "cp = ConformalNearestNeighboursRegressor(k=k)\n",
    "cp.learn_initial_training_set(X[:M], Y[:M])\n",
    "x = X[M]\n",
    "d = cp.distance_func(cp.X, x)\n",
    "D = cp.update_distance_matrix(cp.D, d)"
   ]
  },
  {
   "cell_type": "code",
   "execution_count": 21,
   "metadata": {},
   "outputs": [
    {
     "data": {
      "text/plain": [
       "(-184.17840874936772, 235.32658552882438)"
      ]
     },
     "execution_count": 21,
     "metadata": {},
     "output_type": "execute_result"
    }
   ],
   "source": [
    "cp.predict(x)"
   ]
  },
  {
   "cell_type": "code",
   "execution_count": null,
   "metadata": {},
   "outputs": [],
   "source": []
  },
  {
   "cell_type": "code",
   "execution_count": 22,
   "metadata": {},
   "outputs": [
    {
     "data": {
      "text/plain": [
       "42.10928423984113"
      ]
     },
     "execution_count": 22,
     "metadata": {},
     "output_type": "execute_result"
    }
   ],
   "source": [
    "Y[M]"
   ]
  }
 ],
 "metadata": {
  "kernelspec": {
   "display_name": "onlineCP",
   "language": "python",
   "name": "python3"
  },
  "language_info": {
   "codemirror_mode": {
    "name": "ipython",
    "version": 3
   },
   "file_extension": ".py",
   "mimetype": "text/x-python",
   "name": "python",
   "nbconvert_exporter": "python",
   "pygments_lexer": "ipython3",
   "version": "3.11.9"
  }
 },
 "nbformat": 4,
 "nbformat_minor": 2
}
