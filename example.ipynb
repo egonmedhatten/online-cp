{
 "cells": [
  {
   "cell_type": "code",
   "execution_count": 1,
   "metadata": {},
   "outputs": [],
   "source": [
    "from sklearn.datasets import load_diabetes\n",
    "import numpy as np\n",
    "\n",
    "X, y = load_diabetes(return_X_y=True)"
   ]
  },
  {
   "cell_type": "code",
   "execution_count": 2,
   "metadata": {},
   "outputs": [],
   "source": [
    "from CRR import ConformalRidgeRegressor\n",
    "\n",
    "cp = ConformalRidgeRegressor()\n",
    "\n",
    "Err = 0\n",
    "\n",
    "predictions = np.empty((X.shape[0], 4))\n",
    "for i, (object, label) in enumerate(zip(X, y)):\n",
    "    Gamma = cp.predict(object, epsilon=0.1, bounds='both')\n",
    "    cp.learn_label(label)    \n",
    "    err = cp.err(Gamma, label)\n",
    "    Err += err\n",
    "    predictions[i, 0] = Gamma[0] # Lower \n",
    "    predictions[i, 1] = Gamma[1] # Upper \n",
    "    predictions[i, 2] = err # Error\n",
    "    predictions[i, 3] = label # True label"
   ]
  },
  {
   "cell_type": "code",
   "execution_count": 3,
   "metadata": {},
   "outputs": [
    {
     "data": {
      "text/plain": [
       "0.09954751131221719"
      ]
     },
     "execution_count": 3,
     "metadata": {},
     "output_type": "execute_result"
    }
   ],
   "source": [
    "Err / y.shape[0]"
   ]
  },
  {
   "cell_type": "code",
   "execution_count": 4,
   "metadata": {},
   "outputs": [
    {
     "data": {
      "text/plain": [
       "array([[        -inf,          inf,   0.        , 151.        ],\n",
       "       [        -inf,          inf,   0.        ,  75.        ],\n",
       "       [        -inf,          inf,   0.        , 141.        ],\n",
       "       ...,\n",
       "       [ 34.47840705, 216.20860872,   0.        , 132.        ],\n",
       "       [124.43420816, 306.57968369,   0.        , 220.        ],\n",
       "       [-41.52654072, 151.79321164,   0.        ,  57.        ]])"
      ]
     },
     "execution_count": 4,
     "metadata": {},
     "output_type": "execute_result"
    }
   ],
   "source": [
    "predictions"
   ]
  }
 ],
 "metadata": {
  "kernelspec": {
   "display_name": "online-learning",
   "language": "python",
   "name": "python3"
  },
  "language_info": {
   "codemirror_mode": {
    "name": "ipython",
    "version": 3
   },
   "file_extension": ".py",
   "mimetype": "text/x-python",
   "name": "python",
   "nbconvert_exporter": "python",
   "pygments_lexer": "ipython3",
   "version": "3.11.9"
  }
 },
 "nbformat": 4,
 "nbformat_minor": 2
}
