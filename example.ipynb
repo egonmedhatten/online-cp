{
 "cells": [
  {
   "cell_type": "code",
   "execution_count": 24,
   "metadata": {},
   "outputs": [],
   "source": [
    "from sklearn.datasets import load_diabetes\n",
    "import numpy as np\n",
    "\n",
    "X, y = load_diabetes(return_X_y=True)"
   ]
  },
  {
   "cell_type": "markdown",
   "metadata": {},
   "source": [
    "# Example with no prior training\n",
    "We lear all examples one at a time. The p-values are computed, and the ridge paramter is tuned with regular intervals"
   ]
  },
  {
   "cell_type": "code",
   "execution_count": 25,
   "metadata": {},
   "outputs": [
    {
     "name": "stderr",
     "output_type": "stream",
     "text": [
      "/home/johan/Documents/PhD/PREMACOP/OnlineConformalPrediction/CRR.py:230: UserWarning: Significance level epsilon is too small for training set. Need at least 20 examples. Increase or add more examples\n",
      "  warnings.warn(f'Significance level epsilon is too small for training set. Need at least {int(np.ceil(2/epsilon))} examples. Increase or add more examples')\n",
      "/home/johan/Documents/PhD/PREMACOP/OnlineConformalPrediction/CRR.py:386: UserWarning: The matrix X is rank deficient. Condition number: 1.8377100903521824e+17. Consider changing the ridge prarmeter\n",
      "  warnings.warn(f'The matrix X is rank deficient. Condition number: {np.linalg.cond(M)}. Consider changing the ridge prarmeter')\n",
      "/home/johan/Documents/PhD/PREMACOP/OnlineConformalPrediction/CRR.py:386: UserWarning: The matrix X is rank deficient. Condition number: 1.3639496389468293e+18. Consider changing the ridge prarmeter\n",
      "  warnings.warn(f'The matrix X is rank deficient. Condition number: {np.linalg.cond(M)}. Consider changing the ridge prarmeter')\n",
      "/home/johan/Documents/PhD/PREMACOP/OnlineConformalPrediction/CRR.py:386: UserWarning: The matrix X is rank deficient. Condition number: 2.040059126692832e+19. Consider changing the ridge prarmeter\n",
      "  warnings.warn(f'The matrix X is rank deficient. Condition number: {np.linalg.cond(M)}. Consider changing the ridge prarmeter')\n",
      "/home/johan/Documents/PhD/PREMACOP/OnlineConformalPrediction/CRR.py:386: UserWarning: The matrix X is rank deficient. Condition number: 3.1662206865239085e+17. Consider changing the ridge prarmeter\n",
      "  warnings.warn(f'The matrix X is rank deficient. Condition number: {np.linalg.cond(M)}. Consider changing the ridge prarmeter')\n",
      "/home/johan/Documents/PhD/PREMACOP/OnlineConformalPrediction/CRR.py:386: UserWarning: The matrix X is rank deficient. Condition number: 2.1488325442045213e+17. Consider changing the ridge prarmeter\n",
      "  warnings.warn(f'The matrix X is rank deficient. Condition number: {np.linalg.cond(M)}. Consider changing the ridge prarmeter')\n",
      "/home/johan/Documents/PhD/PREMACOP/OnlineConformalPrediction/CRR.py:386: UserWarning: The matrix X is rank deficient. Condition number: 1.412280919197508e+17. Consider changing the ridge prarmeter\n",
      "  warnings.warn(f'The matrix X is rank deficient. Condition number: {np.linalg.cond(M)}. Consider changing the ridge prarmeter')\n",
      "/home/johan/Documents/PhD/PREMACOP/OnlineConformalPrediction/CRR.py:386: UserWarning: The matrix X is rank deficient. Condition number: 1.2188310986426746e+17. Consider changing the ridge prarmeter\n",
      "  warnings.warn(f'The matrix X is rank deficient. Condition number: {np.linalg.cond(M)}. Consider changing the ridge prarmeter')\n"
     ]
    }
   ],
   "source": [
    "from CRR import ConformalRidgeRegressor\n",
    "\n",
    "cp = ConformalRidgeRegressor(autotune=True)\n",
    "\n",
    "Err = 0\n",
    "\n",
    "predictions = np.empty((X.shape[0], 6))\n",
    "for i, (obj, label) in enumerate(zip(X, y)):\n",
    "    # Reality presents the object x\n",
    "    x = obj\n",
    "    # Forecaster outputs Gamma\n",
    "    Gamma = cp.predict(x, epsilon=0.1, bounds='both')\n",
    "    width = cp.width(Gamma)\n",
    "    # Reality presents the label\n",
    "    cp.learn_one(x, label)  \n",
    "    \n",
    "    if i > 1 and i % 10 == 0:\n",
    "        # Autotune ridge parameter every 10:th step. Not neccesary for validity, but could improve efficiency\n",
    "        # cp.tune_ridge_parameter()\n",
    "        pass\n",
    "    err = cp.err(Gamma, label)\n",
    "    Err += err\n",
    "    predictions[i, 0] = Gamma[0] # Lower \n",
    "    predictions[i, 1] = Gamma[1] # Upper \n",
    "    predictions[i, 2] = err # Error\n",
    "    predictions[i, 3] = label # True label\n",
    "    predictions[i, 4] = width # True label\n"
   ]
  },
  {
   "cell_type": "code",
   "execution_count": 26,
   "metadata": {},
   "outputs": [
    {
     "data": {
      "text/plain": [
       "0"
      ]
     },
     "execution_count": 26,
     "metadata": {},
     "output_type": "execute_result"
    }
   ],
   "source": [
    "cp.a"
   ]
  },
  {
   "cell_type": "code",
   "execution_count": 27,
   "metadata": {},
   "outputs": [
    {
     "data": {
      "text/plain": [
       "0.10180995475113122"
      ]
     },
     "execution_count": 27,
     "metadata": {},
     "output_type": "execute_result"
    }
   ],
   "source": [
    "Err / X.shape[0]"
   ]
  },
  {
   "cell_type": "code",
   "execution_count": 28,
   "metadata": {},
   "outputs": [
    {
     "data": {
      "text/plain": [
       "206.67876093777937"
      ]
     },
     "execution_count": 28,
     "metadata": {},
     "output_type": "execute_result"
    }
   ],
   "source": [
    "predictions[100:,4].mean()"
   ]
  },
  {
   "cell_type": "code",
   "execution_count": 29,
   "metadata": {},
   "outputs": [
    {
     "data": {
      "text/plain": [
       "False"
      ]
     },
     "execution_count": 29,
     "metadata": {},
     "output_type": "execute_result"
    }
   ],
   "source": [
    "np.isclose(cp.XTXinv, np.linalg.inv(cp.X.T @ cp.X + cp.a * cp.Id)).all()"
   ]
  },
  {
   "cell_type": "markdown",
   "metadata": {},
   "source": [
    "# Example with initial training set and no successive tuning"
   ]
  },
  {
   "cell_type": "code",
   "execution_count": 30,
   "metadata": {},
   "outputs": [],
   "source": [
    "from CRR import ConformalRidgeRegressor\n",
    "\n",
    "cp = ConformalRidgeRegressor(autotune=True)\n",
    "\n",
    "initial_training_size = 100\n",
    "X_train = X[:initial_training_size]\n",
    "y_train = y[:initial_training_size]\n",
    "\n",
    "X_run = X[initial_training_size:]\n",
    "y_run = y[initial_training_size:]\n",
    "\n",
    "cp.learn_initial_training_set(X_train, y_train)\n",
    "\n",
    "Err = 0\n",
    "\n",
    "predictions = np.empty((X_run.shape[0], 5))\n",
    "for i, (obj, label) in enumerate(zip(X_run, y_run)):\n",
    "    # Reality presents the object x\n",
    "    x = obj\n",
    "    # Forecaster outputs Gamma\n",
    "    Gamma = cp.predict(x, epsilon=0.1, bounds='both')\n",
    "    width = cp.width(Gamma)\n",
    "    # Reality presents the label\n",
    "    cp.learn_one(x, label)  \n",
    "    err = cp.err(Gamma, label)\n",
    "    Err += err\n",
    "    predictions[i, 0] = Gamma[0] # Lower \n",
    "    predictions[i, 1] = Gamma[1] # Upper \n",
    "    predictions[i, 2] = err # Error\n",
    "    predictions[i, 3] = label # True label\n",
    "    predictions[i, 4] = width # True label"
   ]
  },
  {
   "cell_type": "code",
   "execution_count": 31,
   "metadata": {},
   "outputs": [
    {
     "data": {
      "text/plain": [
       "1.1098525693753387"
      ]
     },
     "execution_count": 31,
     "metadata": {},
     "output_type": "execute_result"
    }
   ],
   "source": [
    "cp.a"
   ]
  },
  {
   "cell_type": "code",
   "execution_count": 32,
   "metadata": {},
   "outputs": [
    {
     "data": {
      "text/plain": [
       "0.09064327485380116"
      ]
     },
     "execution_count": 32,
     "metadata": {},
     "output_type": "execute_result"
    }
   ],
   "source": [
    "Err / X[initial_training_size:].shape[0]"
   ]
  },
  {
   "cell_type": "code",
   "execution_count": 33,
   "metadata": {},
   "outputs": [
    {
     "data": {
      "text/plain": [
       "204.86341348767908"
      ]
     },
     "execution_count": 33,
     "metadata": {},
     "output_type": "execute_result"
    }
   ],
   "source": [
    "predictions[:,4].mean()"
   ]
  },
  {
   "cell_type": "code",
   "execution_count": 34,
   "metadata": {},
   "outputs": [
    {
     "data": {
      "text/plain": [
       "True"
      ]
     },
     "execution_count": 34,
     "metadata": {},
     "output_type": "execute_result"
    }
   ],
   "source": [
    "np.isclose(cp.XTXinv, np.linalg.inv(cp.X.T @ cp.X + cp.a * cp.Id)).all()"
   ]
  },
  {
   "cell_type": "markdown",
   "metadata": {},
   "source": [
    "# Example with test martingale"
   ]
  },
  {
   "cell_type": "code",
   "execution_count": 35,
   "metadata": {},
   "outputs": [],
   "source": [
    "from CRR import ConformalRidgeRegressor\n",
    "from martingale import PluginMartingale\n",
    "\n",
    "X, y = load_diabetes(return_X_y=True)\n",
    "\n",
    "cp = ConformalRidgeRegressor(autotune=True, a=1)\n",
    "martingale = PluginMartingale()\n",
    "\n",
    "p_values = []\n",
    "martingale_values = []\n",
    "\n",
    "for i, (obj, label) in enumerate(zip(X, y)):\n",
    "    # Reality presents the object x\n",
    "    x = obj\n",
    "    # Reality presents the label\n",
    "    p = cp.compute_smoothed_p_value(x, label)\n",
    "    p_values.append(p)\n",
    "    cp.learn_one(x, label) \n",
    "    if i > 1 and i % 10 == 0:\n",
    "        # Autotune ridge parameter every 10:th step. Not neccesary for validity, but could improve efficiency\n",
    "        cp.tune_ridge_parameter()\n",
    "    # Martingale is updated\n",
    "    martingale.update_log_martingale(p_values)\n",
    "    martingale_values.append(martingale.M)"
   ]
  },
  {
   "cell_type": "code",
   "execution_count": 36,
   "metadata": {},
   "outputs": [
    {
     "name": "stdout",
     "output_type": "stream",
     "text": [
      "Exchangeability could be rejected with confidence 0.02847157353870966\n"
     ]
    }
   ],
   "source": [
    "print(f'Exchangeability could be rejected with confidence {1-1/martingale.max}')"
   ]
  },
  {
   "cell_type": "code",
   "execution_count": 37,
   "metadata": {},
   "outputs": [
    {
     "data": {
      "text/plain": [
       "[<matplotlib.lines.Line2D at 0x7ca8bf5734d0>]"
      ]
     },
     "execution_count": 37,
     "metadata": {},
     "output_type": "execute_result"
    },
    {
     "data": {
      "image/png": "[encoded data removed]",
      "text/plain": [
       "<Figure size 640x480 with 1 Axes>"
      ]
     },
     "metadata": {},
     "output_type": "display_data"
    }
   ],
   "source": [
    "import matplotlib.pyplot as plt\n",
    "plt.plot(martingale_values)"
   ]
  }
 ],
 "metadata": {
  "kernelspec": {
   "display_name": "online-learning",
   "language": "python",
   "name": "python3"
  },
  "language_info": {
   "codemirror_mode": {
    "name": "ipython",
    "version": 3
   },
   "file_extension": ".py",
   "mimetype": "text/x-python",
   "name": "python",
   "nbconvert_exporter": "python",
   "pygments_lexer": "ipython3",
   "version": "3.11.9"
  }
 },
 "nbformat": 4,
 "nbformat_minor": 2
}
