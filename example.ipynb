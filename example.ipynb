{
 "cells": [
  {
   "cell_type": "code",
   "execution_count": 1,
   "metadata": {},
   "outputs": [],
   "source": [
    "from sklearn.datasets import load_diabetes\n",
    "import numpy as np\n",
    "\n",
    "X, y = load_diabetes(return_X_y=True)"
   ]
  },
  {
   "cell_type": "markdown",
   "metadata": {},
   "source": [
    "# Example with no prior training\n",
    "We lear all examples one at a time. The p-values are computed, and the ridge paramter is tuned with regular intervals"
   ]
  },
  {
   "cell_type": "code",
   "execution_count": 2,
   "metadata": {},
   "outputs": [
    {
     "name": "stderr",
     "output_type": "stream",
     "text": [
      "/home/johan/Documents/PhD/PREMACOP/OnlineConformalPrediction/CRR.py:299: UserWarning: Significance level epsilon is too small for training set. Need at least 20 examples. Increase or add more examples\n",
      "  warnings.warn(f'Significance level epsilon is too small for training set. Need at least {int(np.ceil(2/epsilon))} examples. Increase or add more examples')\n",
      "/home/johan/Documents/PhD/PREMACOP/OnlineConformalPrediction/CRR.py:472: UserWarning: The matrix X is rank deficient. Condition number: 1.8377100903521824e+17. Consider changing the ridge prarmeter\n",
      "  warnings.warn(f'The matrix X is rank deficient. Condition number: {np.linalg.cond(M)}. Consider changing the ridge prarmeter')\n",
      "/home/johan/Documents/PhD/PREMACOP/OnlineConformalPrediction/CRR.py:472: UserWarning: The matrix X is rank deficient. Condition number: 1.3639496389468293e+18. Consider changing the ridge prarmeter\n",
      "  warnings.warn(f'The matrix X is rank deficient. Condition number: {np.linalg.cond(M)}. Consider changing the ridge prarmeter')\n",
      "/home/johan/Documents/PhD/PREMACOP/OnlineConformalPrediction/CRR.py:472: UserWarning: The matrix X is rank deficient. Condition number: 2.040059126692832e+19. Consider changing the ridge prarmeter\n",
      "  warnings.warn(f'The matrix X is rank deficient. Condition number: {np.linalg.cond(M)}. Consider changing the ridge prarmeter')\n",
      "/home/johan/Documents/PhD/PREMACOP/OnlineConformalPrediction/CRR.py:472: UserWarning: The matrix X is rank deficient. Condition number: 3.1662206865239085e+17. Consider changing the ridge prarmeter\n",
      "  warnings.warn(f'The matrix X is rank deficient. Condition number: {np.linalg.cond(M)}. Consider changing the ridge prarmeter')\n",
      "/home/johan/Documents/PhD/PREMACOP/OnlineConformalPrediction/CRR.py:472: UserWarning: The matrix X is rank deficient. Condition number: 2.1488325442045213e+17. Consider changing the ridge prarmeter\n",
      "  warnings.warn(f'The matrix X is rank deficient. Condition number: {np.linalg.cond(M)}. Consider changing the ridge prarmeter')\n",
      "/home/johan/Documents/PhD/PREMACOP/OnlineConformalPrediction/CRR.py:472: UserWarning: The matrix X is rank deficient. Condition number: 1.412280919197508e+17. Consider changing the ridge prarmeter\n",
      "  warnings.warn(f'The matrix X is rank deficient. Condition number: {np.linalg.cond(M)}. Consider changing the ridge prarmeter')\n",
      "/home/johan/Documents/PhD/PREMACOP/OnlineConformalPrediction/CRR.py:472: UserWarning: The matrix X is rank deficient. Condition number: 1.2188310986426746e+17. Consider changing the ridge prarmeter\n",
      "  warnings.warn(f'The matrix X is rank deficient. Condition number: {np.linalg.cond(M)}. Consider changing the ridge prarmeter')\n"
     ]
    }
   ],
   "source": [
    "from CRR import ConformalRidgeRegressor\n",
    "\n",
    "cp = ConformalRidgeRegressor(autotune=True)\n",
    "\n",
    "Err = 0\n",
    "\n",
    "predictions = np.empty((X.shape[0], 6))\n",
    "for i, (obj, label) in enumerate(zip(X, y)):\n",
    "    # Reality presents the object x\n",
    "    x = obj\n",
    "    # Forecaster outputs Gamma\n",
    "    Gamma = cp.predict(x, epsilon=0.1, bounds='both')\n",
    "    width = cp.width(Gamma)\n",
    "    # Reality presents the label\n",
    "    cp.learn_one(x, label)  \n",
    "    err = cp.err(Gamma, label)\n",
    "    Err += err\n",
    "    predictions[i, 0] = Gamma[0] # Lower \n",
    "    predictions[i, 1] = Gamma[1] # Upper \n",
    "    predictions[i, 2] = err # Error\n",
    "    predictions[i, 3] = label # True label\n",
    "    predictions[i, 4] = width # True label\n"
   ]
  },
  {
   "cell_type": "code",
   "execution_count": 3,
   "metadata": {},
   "outputs": [
    {
     "data": {
      "text/plain": [
       "0"
      ]
     },
     "execution_count": 3,
     "metadata": {},
     "output_type": "execute_result"
    }
   ],
   "source": [
    "cp.a"
   ]
  },
  {
   "cell_type": "code",
   "execution_count": 4,
   "metadata": {},
   "outputs": [
    {
     "data": {
      "text/plain": [
       "0.10180995475113122"
      ]
     },
     "execution_count": 4,
     "metadata": {},
     "output_type": "execute_result"
    }
   ],
   "source": [
    "Err / X.shape[0]"
   ]
  },
  {
   "cell_type": "code",
   "execution_count": 5,
   "metadata": {},
   "outputs": [
    {
     "data": {
      "text/plain": [
       "206.67876093777937"
      ]
     },
     "execution_count": 5,
     "metadata": {},
     "output_type": "execute_result"
    }
   ],
   "source": [
    "predictions[100:,4].mean()"
   ]
  },
  {
   "cell_type": "code",
   "execution_count": 6,
   "metadata": {},
   "outputs": [
    {
     "data": {
      "text/plain": [
       "False"
      ]
     },
     "execution_count": 6,
     "metadata": {},
     "output_type": "execute_result"
    }
   ],
   "source": [
    "np.isclose(cp.XTXinv, np.linalg.inv(cp.X.T @ cp.X + cp.a * cp.Id)).all()"
   ]
  },
  {
   "cell_type": "markdown",
   "metadata": {},
   "source": [
    "# Example with initial training set and no successive tuning"
   ]
  },
  {
   "cell_type": "code",
   "execution_count": 7,
   "metadata": {},
   "outputs": [],
   "source": [
    "from CRR import ConformalRidgeRegressor\n",
    "\n",
    "cp = ConformalRidgeRegressor(autotune=True)\n",
    "\n",
    "initial_training_size = 100\n",
    "X_train = X[:initial_training_size]\n",
    "y_train = y[:initial_training_size]\n",
    "\n",
    "X_run = X[initial_training_size:]\n",
    "y_run = y[initial_training_size:]\n",
    "\n",
    "cp.learn_initial_training_set(X_train, y_train)\n",
    "\n",
    "Err = 0\n",
    "\n",
    "predictions = np.empty((X_run.shape[0], 5))\n",
    "for i, (obj, label) in enumerate(zip(X_run, y_run)):\n",
    "    # Reality presents the object x\n",
    "    x = obj\n",
    "    # Forecaster outputs Gamma\n",
    "    Gamma = cp.predict(x, epsilon=0.1, bounds='both')\n",
    "    width = cp.width(Gamma)\n",
    "    # Reality presents the label\n",
    "    cp.learn_one(x, label)  \n",
    "    err = cp.err(Gamma, label)\n",
    "    Err += err\n",
    "    predictions[i, 0] = Gamma[0] # Lower \n",
    "    predictions[i, 1] = Gamma[1] # Upper \n",
    "    predictions[i, 2] = err # Error\n",
    "    predictions[i, 3] = label # True label\n",
    "    predictions[i, 4] = width # True label"
   ]
  },
  {
   "cell_type": "code",
   "execution_count": 8,
   "metadata": {},
   "outputs": [
    {
     "data": {
      "text/plain": [
       "1.1098525693753387"
      ]
     },
     "execution_count": 8,
     "metadata": {},
     "output_type": "execute_result"
    }
   ],
   "source": [
    "cp.a"
   ]
  },
  {
   "cell_type": "code",
   "execution_count": 9,
   "metadata": {},
   "outputs": [
    {
     "data": {
      "text/plain": [
       "0.09064327485380116"
      ]
     },
     "execution_count": 9,
     "metadata": {},
     "output_type": "execute_result"
    }
   ],
   "source": [
    "Err / X[initial_training_size:].shape[0]"
   ]
  },
  {
   "cell_type": "code",
   "execution_count": 10,
   "metadata": {},
   "outputs": [
    {
     "data": {
      "text/plain": [
       "204.86341348767908"
      ]
     },
     "execution_count": 10,
     "metadata": {},
     "output_type": "execute_result"
    }
   ],
   "source": [
    "predictions[:,4].mean()"
   ]
  },
  {
   "cell_type": "code",
   "execution_count": 11,
   "metadata": {},
   "outputs": [
    {
     "data": {
      "text/plain": [
       "True"
      ]
     },
     "execution_count": 11,
     "metadata": {},
     "output_type": "execute_result"
    }
   ],
   "source": [
    "np.isclose(cp.XTXinv, np.linalg.inv(cp.X.T @ cp.X + cp.a * cp.Id)).all()"
   ]
  },
  {
   "cell_type": "markdown",
   "metadata": {},
   "source": [
    "# Example with test martingale"
   ]
  },
  {
   "cell_type": "code",
   "execution_count": 12,
   "metadata": {},
   "outputs": [
    {
     "ename": "TypeError",
     "evalue": "bad operand type for unary -: 'list'",
     "output_type": "error",
     "traceback": [
      "\u001b[0;31m---------------------------------------------------------------------------\u001b[0m",
      "\u001b[0;31mTypeError\u001b[0m                                 Traceback (most recent call last)",
      "Cell \u001b[0;32mIn[12], line 20\u001b[0m\n\u001b[1;32m     18\u001b[0m cp\u001b[38;5;241m.\u001b[39mlearn_one(x, label) \n\u001b[1;32m     19\u001b[0m \u001b[38;5;66;03m# Martingale is updated\u001b[39;00m\n\u001b[0;32m---> 20\u001b[0m \u001b[43mmartingale\u001b[49m\u001b[38;5;241;43m.\u001b[39;49m\u001b[43mupdate_log_martingale\u001b[49m\u001b[43m(\u001b[49m\u001b[43mp_values\u001b[49m\u001b[43m)\u001b[49m\n\u001b[1;32m     21\u001b[0m martingale_values\u001b[38;5;241m.\u001b[39mappend(martingale\u001b[38;5;241m.\u001b[39mM)\n",
      "File \u001b[0;32m~/Documents/PhD/PREMACOP/OnlineConformalPrediction/martingale.py:61\u001b[0m, in \u001b[0;36mPluginMartingale.update_log_martingale\u001b[0;34m(self, p)\u001b[0m\n\u001b[1;32m     59\u001b[0m \u001b[38;5;28mself\u001b[39m\u001b[38;5;241m.\u001b[39mp_values\u001b[38;5;241m.\u001b[39mappend(p)\n\u001b[1;32m     60\u001b[0m \u001b[38;5;28;01mif\u001b[39;00m \u001b[38;5;28mself\u001b[39m\u001b[38;5;241m.\u001b[39mbetting_function \u001b[38;5;241m==\u001b[39m \u001b[38;5;124m'\u001b[39m\u001b[38;5;124mkernel\u001b[39m\u001b[38;5;124m'\u001b[39m:\n\u001b[0;32m---> 61\u001b[0m     \u001b[38;5;28mself\u001b[39m\u001b[38;5;241m.\u001b[39mlogM \u001b[38;5;241m+\u001b[39m\u001b[38;5;241m=\u001b[39m np\u001b[38;5;241m.\u001b[39mlog(\u001b[38;5;28;43mself\u001b[39;49m\u001b[38;5;241;43m.\u001b[39;49m\u001b[43mkernel_density_betting_function\u001b[49m\u001b[43m(\u001b[49m\u001b[38;5;28;43mself\u001b[39;49m\u001b[38;5;241;43m.\u001b[39;49m\u001b[43mp_values\u001b[49m\u001b[43m)\u001b[49m)\n\u001b[1;32m     62\u001b[0m \u001b[38;5;28;01melse\u001b[39;00m:\n\u001b[1;32m     63\u001b[0m     \u001b[38;5;28;01mraise\u001b[39;00m \u001b[38;5;167;01mNotImplementedError\u001b[39;00m(\u001b[38;5;124m'\u001b[39m\u001b[38;5;124mCurrently only kernel betting function is available. More to come...\u001b[39m\u001b[38;5;124m'\u001b[39m)\n",
      "File \u001b[0;32m~/Documents/PhD/PREMACOP/OnlineConformalPrediction/martingale.py:55\u001b[0m, in \u001b[0;36mPluginMartingale.kernel_density_betting_function\u001b[0;34m(self, p_values)\u001b[0m\n\u001b[1;32m     52\u001b[0m     \u001b[38;5;28;01melse\u001b[39;00m:\n\u001b[1;32m     53\u001b[0m         \u001b[38;5;28;01mreturn\u001b[39;00m \u001b[38;5;241m0.0\u001b[39m\n\u001b[0;32m---> 55\u001b[0m d, norm_fac \u001b[38;5;241m=\u001b[39m \u001b[43mget_density_estimate\u001b[49m\u001b[43m(\u001b[49m\u001b[43mp_values\u001b[49m\u001b[43m[\u001b[49m\u001b[43m:\u001b[49m\u001b[38;5;241;43m-\u001b[39;49m\u001b[38;5;241;43m1\u001b[39;49m\u001b[43m]\u001b[49m\u001b[43m)\u001b[49m\n\u001b[1;32m     56\u001b[0m \u001b[38;5;28;01mreturn\u001b[39;00m betting_function(p_values[\u001b[38;5;241m-\u001b[39m\u001b[38;5;241m1\u001b[39m], d, norm_fac)\n",
      "File \u001b[0;32m~/Documents/PhD/PREMACOP/OnlineConformalPrediction/martingale.py:39\u001b[0m, in \u001b[0;36mPluginMartingale.kernel_density_betting_function.<locals>.get_density_estimate\u001b[0;34m(p_values)\u001b[0m\n\u001b[1;32m     38\u001b[0m \u001b[38;5;28;01mdef\u001b[39;00m \u001b[38;5;21mget_density_estimate\u001b[39m(p_values):\n\u001b[0;32m---> 39\u001b[0m     P \u001b[38;5;241m=\u001b[39m np\u001b[38;5;241m.\u001b[39marray(\u001b[43m[\u001b[49m\u001b[43m[\u001b[49m\u001b[38;5;241;43m-\u001b[39;49m\u001b[43mp\u001b[49m\u001b[43m,\u001b[49m\u001b[43m \u001b[49m\u001b[43mp\u001b[49m\u001b[43m,\u001b[49m\u001b[43m \u001b[49m\u001b[38;5;241;43m2\u001b[39;49m\u001b[38;5;241;43m-\u001b[39;49m\u001b[43mp\u001b[49m\u001b[43m]\u001b[49m\u001b[43m \u001b[49m\u001b[38;5;28;43;01mfor\u001b[39;49;00m\u001b[43m \u001b[49m\u001b[43mp\u001b[49m\u001b[43m \u001b[49m\u001b[38;5;129;43;01min\u001b[39;49;00m\u001b[43m \u001b[49m\u001b[43mp_values\u001b[49m\u001b[43m]\u001b[49m)\u001b[38;5;241m.\u001b[39mflatten()[:, np\u001b[38;5;241m.\u001b[39mnewaxis]\n\u001b[1;32m     40\u001b[0m     \u001b[38;5;28;01mif\u001b[39;00m \u001b[38;5;28mlen\u001b[39m(P) \u001b[38;5;241m==\u001b[39m \u001b[38;5;241m0\u001b[39m:\n\u001b[1;32m     41\u001b[0m         \u001b[38;5;28;01mreturn\u001b[39;00m \u001b[38;5;28;01mNone\u001b[39;00m, \u001b[38;5;28;01mNone\u001b[39;00m\n",
      "File \u001b[0;32m~/Documents/PhD/PREMACOP/OnlineConformalPrediction/martingale.py:39\u001b[0m, in \u001b[0;36m<listcomp>\u001b[0;34m(.0)\u001b[0m\n\u001b[1;32m     38\u001b[0m \u001b[38;5;28;01mdef\u001b[39;00m \u001b[38;5;21mget_density_estimate\u001b[39m(p_values):\n\u001b[0;32m---> 39\u001b[0m     P \u001b[38;5;241m=\u001b[39m np\u001b[38;5;241m.\u001b[39marray([[\u001b[38;5;241;43m-\u001b[39;49m\u001b[43mp\u001b[49m, p, \u001b[38;5;241m2\u001b[39m\u001b[38;5;241m-\u001b[39mp] \u001b[38;5;28;01mfor\u001b[39;00m p \u001b[38;5;129;01min\u001b[39;00m p_values])\u001b[38;5;241m.\u001b[39mflatten()[:, np\u001b[38;5;241m.\u001b[39mnewaxis]\n\u001b[1;32m     40\u001b[0m     \u001b[38;5;28;01mif\u001b[39;00m \u001b[38;5;28mlen\u001b[39m(P) \u001b[38;5;241m==\u001b[39m \u001b[38;5;241m0\u001b[39m:\n\u001b[1;32m     41\u001b[0m         \u001b[38;5;28;01mreturn\u001b[39;00m \u001b[38;5;28;01mNone\u001b[39;00m, \u001b[38;5;28;01mNone\u001b[39;00m\n",
      "\u001b[0;31mTypeError\u001b[0m: bad operand type for unary -: 'list'"
     ]
    }
   ],
   "source": [
    "from CRR import ConformalRidgeRegressor\n",
    "from martingale import PluginMartingale\n",
    "\n",
    "X, y = load_diabetes(return_X_y=True)\n",
    "\n",
    "cp = ConformalRidgeRegressor(autotune=True, a=1)\n",
    "martingale = PluginMartingale()\n",
    "\n",
    "martingale_values = []\n",
    "\n",
    "for i, (obj, label) in enumerate(zip(X, y)):\n",
    "    # Reality presents the object x\n",
    "    x = obj\n",
    "    # Reality presents the label\n",
    "    p = cp.compute_smoothed_p_value(x, label)\n",
    "    cp.learn_one(x, label) \n",
    "    # Martingale is updated\n",
    "    martingale.update_log_martingale(p)\n",
    "    martingale_values.append(martingale.M)"
   ]
  },
  {
   "cell_type": "code",
   "execution_count": null,
   "metadata": {},
   "outputs": [
    {
     "name": "stdout",
     "output_type": "stream",
     "text": [
      "Exchangeability could be rejected with confidence 0.02847157353870966\n"
     ]
    }
   ],
   "source": [
    "print(f'Exchangeability could be rejected with confidence {1-1/martingale.max}')"
   ]
  },
  {
   "cell_type": "code",
   "execution_count": null,
   "metadata": {},
   "outputs": [
    {
     "data": {
      "text/plain": [
       "[<matplotlib.lines.Line2D at 0x7033317bd250>]"
      ]
     },
     "execution_count": 28,
     "metadata": {},
     "output_type": "execute_result"
    },
    {
     "data": {
      "image/png": "[encoded data removed]",
      "text/plain": [
       "<Figure size 640x480 with 1 Axes>"
      ]
     },
     "metadata": {},
     "output_type": "display_data"
    }
   ],
   "source": [
    "import matplotlib.pyplot as plt\n",
    "plt.plot(martingale_values)"
   ]
  }
 ],
 "metadata": {
  "kernelspec": {
   "display_name": "online-learning",
   "language": "python",
   "name": "python3"
  },
  "language_info": {
   "codemirror_mode": {
    "name": "ipython",
    "version": 3
   },
   "file_extension": ".py",
   "mimetype": "text/x-python",
   "name": "python",
   "nbconvert_exporter": "python",
   "pygments_lexer": "ipython3",
   "version": "3.11.9"
  }
 },
 "nbformat": 4,
 "nbformat_minor": 2
}
