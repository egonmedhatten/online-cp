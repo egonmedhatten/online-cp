{
 "cells": [
  {
   "cell_type": "code",
   "execution_count": 1,
   "metadata": {},
   "outputs": [],
   "source": [
    "from sklearn.datasets import load_diabetes\n",
    "import numpy as np\n",
    "\n",
    "X, y = load_diabetes(return_X_y=True)"
   ]
  },
  {
   "cell_type": "code",
   "execution_count": 2,
   "metadata": {},
   "outputs": [
    {
     "name": "stderr",
     "output_type": "stream",
     "text": [
      "/home/johan/Documents/PhD/PREMACOP/OnlineConformalPrediction/CRR.py:146: UserWarning: Significance level epsilon is too small for training set. Need at least 20 examples. Increase or add more examples\n",
      "  warnings.warn(f'Significance level epsilon is too small for training set. Need at least {int(np.ceil(2/epsilon))} examples. Increase or add more examples')\n"
     ]
    }
   ],
   "source": [
    "from CRR import ConformalRidgeRegressor\n",
    "\n",
    "cp = ConformalRidgeRegressor(a=1)\n",
    "\n",
    "Err = 0\n",
    "\n",
    "predictions = np.empty((X.shape[0], 5))\n",
    "for i, (object, label) in enumerate(zip(X, y)):\n",
    "    Gamma = cp.predict(object, epsilon=0.1, bounds='both')\n",
    "    width = cp.width(Gamma)\n",
    "    cp.learn_one(object, label)  \n",
    "    err = cp.err(Gamma, label)\n",
    "    Err += err\n",
    "    predictions[i, 0] = Gamma[0] # Lower \n",
    "    predictions[i, 1] = Gamma[1] # Upper \n",
    "    predictions[i, 2] = err # Error\n",
    "    predictions[i, 3] = label # True label\n",
    "    predictions[i, 4] = width # True label"
   ]
  },
  {
   "cell_type": "code",
   "execution_count": 3,
   "metadata": {},
   "outputs": [
    {
     "data": {
      "text/plain": [
       "0.09276018099547512"
      ]
     },
     "execution_count": 3,
     "metadata": {},
     "output_type": "execute_result"
    }
   ],
   "source": [
    "Err / y.shape[0]"
   ]
  },
  {
   "cell_type": "code",
   "execution_count": 4,
   "metadata": {},
   "outputs": [
    {
     "data": {
      "text/plain": [
       "array([[        -inf,          inf,   0.        , 151.        ,\n",
       "                 inf],\n",
       "       [        -inf,          inf,   0.        ,  75.        ,\n",
       "                 inf],\n",
       "       [        -inf,          inf,   0.        , 141.        ,\n",
       "                 inf],\n",
       "       ...,\n",
       "       [ 56.27410197, 241.70166066,   0.        , 132.        ,\n",
       "        185.4275587 ],\n",
       "       [ 97.48527913, 282.80919234,   0.        , 220.        ,\n",
       "        185.32391321],\n",
       "       [ -1.83417238, 185.52652865,   0.        ,  57.        ,\n",
       "        187.36070103]])"
      ]
     },
     "execution_count": 4,
     "metadata": {},
     "output_type": "execute_result"
    }
   ],
   "source": [
    "predictions"
   ]
  },
  {
   "cell_type": "code",
   "execution_count": 5,
   "metadata": {},
   "outputs": [
    {
     "name": "stdout",
     "output_type": "stream",
     "text": [
      "New ridge parameter: 0.5100057476790449\n"
     ]
    }
   ],
   "source": [
    "cp.tune_ridge_parameter()"
   ]
  }
 ],
 "metadata": {
  "kernelspec": {
   "display_name": "online-learning",
   "language": "python",
   "name": "python3"
  },
  "language_info": {
   "codemirror_mode": {
    "name": "ipython",
    "version": 3
   },
   "file_extension": ".py",
   "mimetype": "text/x-python",
   "name": "python",
   "nbconvert_exporter": "python",
   "pygments_lexer": "ipython3",
   "version": "3.11.9"
  }
 },
 "nbformat": 4,
 "nbformat_minor": 2
}
