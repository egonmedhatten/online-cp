{
 "cells": [
  {
   "cell_type": "code",
   "execution_count": 1,
   "metadata": {},
   "outputs": [],
   "source": [
    "from sklearn.datasets import load_diabetes\n",
    "import numpy as np\n",
    "\n",
    "X, y = load_diabetes(return_X_y=True)"
   ]
  },
  {
   "cell_type": "code",
   "execution_count": 2,
   "metadata": {},
   "outputs": [
    {
     "name": "stderr",
     "output_type": "stream",
     "text": [
      "/home/johan/Documents/PhD/PREMACOP/OnlineConformalPrediction/CRR.py:153: UserWarning: Significance level epsilon is too small for training set. Need at least 20 examples. Increase or add more examples\n",
      "  warnings.warn(f'Significance level epsilon is too small for training set. Need at least {int(np.ceil(2/epsilon))} examples. Increase or add more examples')\n",
      "/home/johan/Documents/PhD/PREMACOP/OnlineConformalPrediction/CRR.py:278: UserWarning: The matrix X is rank deficient. Condition number: 1.8377100903521824e+17. Autotuning ridge prarmeter.\n",
      "  warnings.warn(f'The matrix X is rank deficient. Condition number: {np.linalg.cond(M)}. Autotuning ridge prarmeter.')\n"
     ]
    },
    {
     "name": "stdout",
     "output_type": "stream",
     "text": [
      "New ridge parameter: 5.5626282097064645e-06\n",
      "New ridge parameter: 0.021512812207969443\n",
      "New ridge parameter: 0.06696508785994656\n",
      "New ridge parameter: 0.4965045915438401\n",
      "New ridge parameter: 1012.9496836574162\n",
      "New ridge parameter: 0.24687774224025377\n",
      "New ridge parameter: 0.2928850549802011\n",
      "New ridge parameter: 0.5615596322463227\n",
      "New ridge parameter: 0.5414476880721588\n",
      "New ridge parameter: 0.41561492285170576\n",
      "New ridge parameter: 0.5630163343069224\n",
      "New ridge parameter: 0.5407839757011592\n",
      "New ridge parameter: 0.5886983189337675\n",
      "New ridge parameter: 0.5463296102342337\n",
      "New ridge parameter: 0.45323351965431724\n"
     ]
    }
   ],
   "source": [
    "from CRR import ConformalRidgeRegressor\n",
    "\n",
    "cp = ConformalRidgeRegressor(autotune=True)\n",
    "\n",
    "Err = 0\n",
    "\n",
    "predictions = np.empty((X.shape[0], 5))\n",
    "for i, (object, label) in enumerate(zip(X, y)):\n",
    "    Gamma = cp.predict(object, epsilon=0.1, bounds='both')\n",
    "    width = cp.width(Gamma)\n",
    "    cp.learn_one(object, label)  \n",
    "    if i > 1 and i % 30 == 0:\n",
    "        # Autotune ridge parameter every 30:th step. Not neccesary for validity, but could improve efficiency\n",
    "        cp.tune_ridge_parameter()\n",
    "        pass\n",
    "    err = cp.err(Gamma, label)\n",
    "    Err += err\n",
    "    predictions[i, 0] = Gamma[0] # Lower \n",
    "    predictions[i, 1] = Gamma[1] # Upper \n",
    "    predictions[i, 2] = err # Error\n",
    "    predictions[i, 3] = label # True label\n",
    "    predictions[i, 4] = width # True label"
   ]
  },
  {
   "cell_type": "code",
   "execution_count": 3,
   "metadata": {},
   "outputs": [
    {
     "data": {
      "text/plain": [
       "211.3835474712107"
      ]
     },
     "execution_count": 3,
     "metadata": {},
     "output_type": "execute_result"
    }
   ],
   "source": [
    "predictions[40:,4].mean()"
   ]
  },
  {
   "cell_type": "code",
   "execution_count": 4,
   "metadata": {},
   "outputs": [
    {
     "name": "stdout",
     "output_type": "stream",
     "text": [
      "New ridge parameter: 0.5100057945630463\n"
     ]
    }
   ],
   "source": [
    "cp.tune_ridge_parameter()"
   ]
  }
 ],
 "metadata": {
  "kernelspec": {
   "display_name": "online-learning",
   "language": "python",
   "name": "python3"
  },
  "language_info": {
   "codemirror_mode": {
    "name": "ipython",
    "version": 3
   },
   "file_extension": ".py",
   "mimetype": "text/x-python",
   "name": "python",
   "nbconvert_exporter": "python",
   "pygments_lexer": "ipython3",
   "version": "3.11.9"
  }
 },
 "nbformat": 4,
 "nbformat_minor": 2
}
