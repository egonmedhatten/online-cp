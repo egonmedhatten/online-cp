{
 "cells": [
  {
   "cell_type": "code",
   "execution_count": 129,
   "metadata": {},
   "outputs": [],
   "source": [
    "from sklearn.datasets import load_diabetes\n",
    "import numpy as np\n",
    "\n",
    "X, y = load_diabetes(return_X_y=True)"
   ]
  },
  {
   "cell_type": "markdown",
   "metadata": {},
   "source": [
    "Example with no prior training and successive tuning"
   ]
  },
  {
   "cell_type": "code",
   "execution_count": 130,
   "metadata": {},
   "outputs": [
    {
     "name": "stderr",
     "output_type": "stream",
     "text": [
      "/home/johan/Documents/PhD/PREMACOP/OnlineConformalPrediction/CRR.py:158: UserWarning: Significance level epsilon is too small for training set. Need at least 20 examples. Increase or add more examples\n",
      "  warnings.warn(f'Significance level epsilon is too small for training set. Need at least {int(np.ceil(2/epsilon))} examples. Increase or add more examples')\n",
      "/home/johan/Documents/PhD/PREMACOP/OnlineConformalPrediction/CRR.py:284: UserWarning: The matrix X is rank deficient. Condition number: 1.8377100903521824e+17. Autotuning ridge prarmeter.\n",
      "  warnings.warn(f'The matrix X is rank deficient. Condition number: {np.linalg.cond(M)}. Autotuning ridge prarmeter.')\n"
     ]
    }
   ],
   "source": [
    "from CRR import ConformalRidgeRegressor\n",
    "\n",
    "cp = ConformalRidgeRegressor(autotune=True)\n",
    "\n",
    "Err = 0\n",
    "\n",
    "predictions = np.empty((X.shape[0], 5))\n",
    "for i, (object, label) in enumerate(zip(X, y)):\n",
    "    Gamma = cp.predict(object, epsilon=0.1, bounds='both')\n",
    "    width = cp.width(Gamma)\n",
    "    cp.learn_one(object, label)  \n",
    "    if i > 1 and i % 10 == 0:\n",
    "        # Autotune ridge parameter every 10:th step. Not neccesary for validity, but could improve efficiency\n",
    "        cp.tune_ridge_parameter()\n",
    "    err = cp.err(Gamma, label)\n",
    "    Err += err\n",
    "    predictions[i, 0] = Gamma[0] # Lower \n",
    "    predictions[i, 1] = Gamma[1] # Upper \n",
    "    predictions[i, 2] = err # Error\n",
    "    predictions[i, 3] = label # True label\n",
    "    predictions[i, 4] = width # True label"
   ]
  },
  {
   "cell_type": "code",
   "execution_count": 131,
   "metadata": {},
   "outputs": [
    {
     "data": {
      "text/plain": [
       "0.49224380006203494"
      ]
     },
     "execution_count": 131,
     "metadata": {},
     "output_type": "execute_result"
    }
   ],
   "source": [
    "cp.a"
   ]
  },
  {
   "cell_type": "code",
   "execution_count": 132,
   "metadata": {},
   "outputs": [
    {
     "data": {
      "text/plain": [
       "0.09502262443438914"
      ]
     },
     "execution_count": 132,
     "metadata": {},
     "output_type": "execute_result"
    }
   ],
   "source": [
    "Err / X.shape[0]"
   ]
  },
  {
   "cell_type": "code",
   "execution_count": 133,
   "metadata": {},
   "outputs": [
    {
     "data": {
      "text/plain": [
       "200.07827416759022"
      ]
     },
     "execution_count": 133,
     "metadata": {},
     "output_type": "execute_result"
    }
   ],
   "source": [
    "predictions[100:,4].mean()"
   ]
  },
  {
   "cell_type": "code",
   "execution_count": 134,
   "metadata": {},
   "outputs": [
    {
     "data": {
      "text/plain": [
       "True"
      ]
     },
     "execution_count": 134,
     "metadata": {},
     "output_type": "execute_result"
    }
   ],
   "source": [
    "np.isclose(cp.XTXinv, np.linalg.inv(cp.X.T @ cp.X + cp.a * cp.Id)).all()"
   ]
  },
  {
   "cell_type": "markdown",
   "metadata": {},
   "source": [
    "Example with initial training set and no successive tuning"
   ]
  },
  {
   "cell_type": "code",
   "execution_count": 135,
   "metadata": {},
   "outputs": [],
   "source": [
    "from CRR import ConformalRidgeRegressor\n",
    "\n",
    "cp = ConformalRidgeRegressor(autotune=True)\n",
    "\n",
    "initial_training_size = 100\n",
    "X_train = X[:initial_training_size]\n",
    "y_train = y[:initial_training_size]\n",
    "\n",
    "X_run = X[initial_training_size:]\n",
    "y_run = y[initial_training_size:]\n",
    "\n",
    "cp.learn_initial_training_set(X_train, y_train)\n",
    "\n",
    "Err = 0\n",
    "\n",
    "predictions = np.empty((X_run.shape[0], 5))\n",
    "for i, (object, label) in enumerate(zip(X_run, y_run)):\n",
    "    Gamma = cp.predict(object, epsilon=0.1, bounds='both')\n",
    "    width = cp.width(Gamma)\n",
    "    cp.learn_one(object, label)  \n",
    "    err = cp.err(Gamma, label)\n",
    "    Err += err\n",
    "    predictions[i, 0] = Gamma[0] # Lower \n",
    "    predictions[i, 1] = Gamma[1] # Upper \n",
    "    predictions[i, 2] = err # Error\n",
    "    predictions[i, 3] = label # True label\n",
    "    predictions[i, 4] = width # True label"
   ]
  },
  {
   "cell_type": "code",
   "execution_count": 136,
   "metadata": {},
   "outputs": [
    {
     "data": {
      "text/plain": [
       "1.1098525693753387"
      ]
     },
     "execution_count": 136,
     "metadata": {},
     "output_type": "execute_result"
    }
   ],
   "source": [
    "cp.a"
   ]
  },
  {
   "cell_type": "code",
   "execution_count": 137,
   "metadata": {},
   "outputs": [
    {
     "data": {
      "text/plain": [
       "0.09064327485380116"
      ]
     },
     "execution_count": 137,
     "metadata": {},
     "output_type": "execute_result"
    }
   ],
   "source": [
    "Err / X[initial_training_size:].shape[0]"
   ]
  },
  {
   "cell_type": "code",
   "execution_count": 138,
   "metadata": {},
   "outputs": [
    {
     "data": {
      "text/plain": [
       "204.86341348767908"
      ]
     },
     "execution_count": 138,
     "metadata": {},
     "output_type": "execute_result"
    }
   ],
   "source": [
    "predictions[:,4].mean()"
   ]
  },
  {
   "cell_type": "code",
   "execution_count": 139,
   "metadata": {},
   "outputs": [
    {
     "data": {
      "text/plain": [
       "True"
      ]
     },
     "execution_count": 139,
     "metadata": {},
     "output_type": "execute_result"
    }
   ],
   "source": [
    "np.isclose(cp.XTXinv, np.linalg.inv(cp.X.T @ cp.X + cp.a * cp.Id)).all()"
   ]
  }
 ],
 "metadata": {
  "kernelspec": {
   "display_name": "online-learning",
   "language": "python",
   "name": "python3"
  },
  "language_info": {
   "codemirror_mode": {
    "name": "ipython",
    "version": 3
   },
   "file_extension": ".py",
   "mimetype": "text/x-python",
   "name": "python",
   "nbconvert_exporter": "python",
   "pygments_lexer": "ipython3",
   "version": "3.11.9"
  }
 },
 "nbformat": 4,
 "nbformat_minor": 2
}
