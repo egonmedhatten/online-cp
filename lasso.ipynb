{
 "cells": [
  {
   "cell_type": "markdown",
   "metadata": {},
   "source": [
    "# Purpose\n",
    "The aim of this notebook is to implement the Confromalised Lasso algorithm described in https://arxiv.org/pdf/1708.00427.\n",
    "\n",
    "To do this, we also need to implement the Lasso itself. It involves solving an optimisation problems. A modern survey of methods availabe can be found here https://arxiv.org/pdf/2303.03576#:~:text=In%20this%20section%2C%20we%20presents,path%20following%20algorithm%20(PFA).\n",
    "\n",
    "## Possible starting point\n",
    "We could perhaps simply use the Lasso from scikit-learn https://scikit-learn.org/stable/modules/generated/sklearn.linear_model.Lasso.html\n",
    "to get started on the conformal steps."
   ]
  },
  {
   "cell_type": "code",
   "execution_count": 1,
   "metadata": {},
   "outputs": [],
   "source": [
    "import numpy as np"
   ]
  },
  {
   "cell_type": "code",
   "execution_count": 2,
   "metadata": {},
   "outputs": [],
   "source": [
    "class LassoRegressor:\n",
    "\n",
    "    def __init__(self, l):\n",
    "        self.l = l"
   ]
  },
  {
   "cell_type": "code",
   "execution_count": 3,
   "metadata": {},
   "outputs": [],
   "source": [
    "# Lasso Regression \n",
    "class LassoRegression(): \n",
    "\tdef __init__(self, learning_rate, iterations, l1_penalty): \n",
    "\t\tself.learning_rate = learning_rate \n",
    "\t\tself.iterations = iterations \n",
    "\t\tself.l1_penalty = l1_penalty \n",
    "\n",
    "\t# Function for model training \n",
    "\tdef fit(self, X, Y): \n",
    "\t\t# no_of_training_examples, no_of_features \n",
    "\t\tself.m, self.n = X.shape \n",
    "\t\t# weight initialization \n",
    "\t\tself.W = np.zeros(self.n) \n",
    "\t\tself.b = 0\n",
    "\t\tself.X = X \n",
    "\t\tself.Y = Y \n",
    "\t\t# gradient descent learning \n",
    "\t\tfor i in range(self.iterations): \n",
    "\t\t\tself.update_weights() \n",
    "\t\treturn self\n",
    "\n",
    "\t# Helper function to update weights in gradient descent \n",
    "\tdef update_weights(self): \n",
    "\t\tY_pred = self.predict(self.X) \n",
    "\t\t# calculate gradients \n",
    "\t\tdW = np.zeros(self.n) \n",
    "\t\tfor j in range(self.n): \n",
    "\t\t\tif self.W[j] > 0: \n",
    "\t\t\t\tdW[j] = (-2 * (self.X[:, j]).dot(self.Y - Y_pred) +\n",
    "\t\t\t\t\t\tself.l1_penalty) / self.m \n",
    "\t\t\telse: \n",
    "\t\t\t\tdW[j] = (-2 * (self.X[:, j]).dot(self.Y - Y_pred) -\n",
    "\t\t\t\t\t\tself.l1_penalty) / self.m \n",
    "\n",
    "\t\tdb = -2 * np.sum(self.Y - Y_pred) / self.m \n",
    "\n",
    "\t\t# update weights \n",
    "\t\tself.W = self.W - self.learning_rate * dW \n",
    "\t\tself.b = self.b - self.learning_rate * db \n",
    "\t\treturn self\n",
    "\n",
    "\t# Hypothetical function h(x) \n",
    "\tdef predict(self, X): \n",
    "\t\treturn X.dot(self.W) + self.b \n"
   ]
  },
  {
   "cell_type": "code",
   "execution_count": 22,
   "metadata": {},
   "outputs": [
    {
     "data": {
      "text/plain": [
       "array([ -2.84390873,  -5.35285014,  69.63598822,  -7.36129504,\n",
       "       -26.801148  ,  -0.46529976])"
      ]
     },
     "execution_count": 22,
     "metadata": {},
     "output_type": "execute_result"
    }
   ],
   "source": [
    "N = 4000\n",
    "np.random.seed(2024)\n",
    "X = np.random.uniform(0, 1, (N, 6))\n",
    "Y = X.sum(axis=1) + np.random.normal(0, 0.1*N, N) # Gaussian noise wiht zero mean and variance 0.1\n",
    "\n",
    "from sklearn.model_selection import train_test_split \n",
    "\n",
    "X_train, X_test, Y_train, Y_test = train_test_split( \n",
    "        X, Y, test_size=1/3, random_state=0) \n",
    "  \n",
    "# Model training \n",
    "model = LassoRegression( \n",
    "    iterations=10000, learning_rate=0.01, l1_penalty=1) \n",
    "model.fit(X_train, Y_train) \n",
    "model.W"
   ]
  },
  {
   "cell_type": "code",
   "execution_count": 23,
   "metadata": {},
   "outputs": [
    {
     "data": {
      "text/plain": [
       "array([ -0.        ,  -0.        ,  57.34798193,  -0.        ,\n",
       "       -14.54131918,  -0.        ])"
      ]
     },
     "execution_count": 23,
     "metadata": {},
     "output_type": "execute_result"
    }
   ],
   "source": [
    "from sklearn.linear_model import Lasso\n",
    "lasso = Lasso(alpha=1)\n",
    "lasso.fit(X_train, Y_train)\n",
    "lasso.coef_"
   ]
  },
  {
   "cell_type": "code",
   "execution_count": 19,
   "metadata": {},
   "outputs": [
    {
     "data": {
      "text/plain": [
       "-0.00034784938212228944"
      ]
     },
     "execution_count": 19,
     "metadata": {},
     "output_type": "execute_result"
    }
   ],
   "source": [
    "lasso.score(X_test, Y_test)"
   ]
  }
 ],
 "metadata": {
  "kernelspec": {
   "display_name": "onlineCP",
   "language": "python",
   "name": "python3"
  },
  "language_info": {
   "codemirror_mode": {
    "name": "ipython",
    "version": 3
   },
   "file_extension": ".py",
   "mimetype": "text/x-python",
   "name": "python",
   "nbconvert_exporter": "python",
   "pygments_lexer": "ipython3",
   "version": "3.11.9"
  }
 },
 "nbformat": 4,
 "nbformat_minor": 2
}
