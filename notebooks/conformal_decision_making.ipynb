{
 "cells": [
  {
   "cell_type": "markdown",
   "metadata": {},
   "source": [
    "# Conformal predictive decision making\n",
    "\n",
    "We tackle the same problem as https://www.alrw.net/articles/19.pdf, using our Nearest neighbours prediction machine"
   ]
  },
  {
   "cell_type": "code",
   "execution_count": 1,
   "metadata": {},
   "outputs": [],
   "source": [
    "from ucimlrepo import fetch_ucirepo \n",
    "import pandas as pd\n",
    "from online_cp.CPS import NearestNeighboursPredictionMachine\n",
    "from sklearn.preprocessing import LabelEncoder\n",
    "import numpy as np\n",
    "rnd_gen = np.random.default_rng(2024)\n",
    "import matplotlib.pyplot as plt\n",
    "MACHINE_EPSILON = lambda x: np.abs(x) * np.finfo(np.float64).eps\n",
    "from tqdm.notebook import tqdm"
   ]
  },
  {
   "cell_type": "code",
   "execution_count": 2,
   "metadata": {},
   "outputs": [],
   "source": [
    "# fetch dataset \n",
    "mushroom = fetch_ucirepo(id=73) \n",
    "  \n",
    "# data (as pandas dataframes) \n",
    "X_raw = mushroom.data.features \n",
    "y_raw = mushroom.data.targets \n",
    "\n",
    "X = np.array([LabelEncoder().fit(col).transform(col) for col in X_raw.values.T]).T\n",
    "y = y_raw.values.reshape(1, -1)[0]"
   ]
  },
  {
   "cell_type": "code",
   "execution_count": 3,
   "metadata": {},
   "outputs": [],
   "source": [
    "N = 8\n",
    "X_train = X[:N]\n",
    "y_train = y[:N]"
   ]
  },
  {
   "cell_type": "code",
   "execution_count": 4,
   "metadata": {},
   "outputs": [],
   "source": [
    "def U(y, d):\n",
    "    if y == 'e':\n",
    "        if d == 'eat':\n",
    "            util = 1\n",
    "        if d == 'not eat':\n",
    "            util = 0\n",
    "    if y == 'p':\n",
    "        if d == 'eat':\n",
    "            util = -10\n",
    "        if d == 'not eat':\n",
    "            util = 1\n",
    "    return util"
   ]
  },
  {
   "cell_type": "code",
   "execution_count": 5,
   "metadata": {},
   "outputs": [],
   "source": [
    "d = 'eat'\n",
    "tau = rnd_gen.uniform(0, 1)\n",
    "U_train_d = np.array([U(y, d) for y in y_train]).astype('float')\n",
    "\n",
    "cps = NearestNeighboursPredictionMachine(k=3, distance='hamming', rnd_state=2024)\n",
    "cps.learn_initial_training_set(X_train, U_train_d)\n",
    "cpd = cps.predict_cpd(X[N])"
   ]
  },
  {
   "cell_type": "code",
   "execution_count": 6,
   "metadata": {},
   "outputs": [
    {
     "name": "stdout",
     "output_type": "stream",
     "text": [
      "{'eat': -1.9050951221178458, 'not eat': 0.7106365304665183}\n",
      "p\n"
     ]
    },
    {
     "data": {
      "text/plain": [
       "'not eat'"
      ]
     },
     "execution_count": 6,
     "metadata": {},
     "output_type": "execute_result"
    },
    {
     "data": {
      "image/png": "[encoded data removed]",
      "text/plain": [
       "<Figure size 640x480 with 1 Axes>"
      ]
     },
     "metadata": {},
     "output_type": "display_data"
    }
   ],
   "source": [
    "utility = {}\n",
    "for d in ['eat', 'not eat']:\n",
    "    tau = rnd_gen.uniform(0, 1)\n",
    "    U_train_d = np.array([U(y, d) for y in y_train]).astype('float')\n",
    "\n",
    "    cps = NearestNeighboursPredictionMachine(k=1, distance='hamming', rnd_state=2024)\n",
    "    cps.learn_initial_training_set(X_train, U_train_d)\n",
    "    cpd = cps.predict_cpd(X[N])\n",
    "\n",
    "    jump_points = np.unique(cpd.Y[1:-1])\n",
    "    Delta_Q = np.array([cpd(y=y + MACHINE_EPSILON(y), tau=tau) - cpd(y=y - MACHINE_EPSILON(y), tau=tau) for y in jump_points])\n",
    "    utility[d] = jump_points @ Delta_Q\n",
    "\n",
    "    yrange = np.linspace(-50, 50, num=1000, endpoint=True) \n",
    "\n",
    "    tau = rnd_gen.uniform(0, 1)\n",
    "    plt.plot(\n",
    "        yrange,\n",
    "        [cpd(y=y, tau=tau) for y in yrange],\n",
    "        label=d\n",
    "    )\n",
    "\n",
    "print(utility)\n",
    "print(y[N])\n",
    "\n",
    "plt.legend()\n",
    "max(utility, key=utility.get)"
   ]
  },
  {
   "cell_type": "markdown",
   "metadata": {},
   "source": [
    "# Try the same experimental setup as Vovk and Bendtsen\n",
    "\"We draw 1000 random\n",
    "balanced training sets for each of a range of sizes ({4, 6, . . . , 20}), evaluating the\n",
    "performance of the two procedures on each training set using random balanced\n",
    "test sets of size 10.\"\n",
    "\n",
    "It seems that the problem could be that the NearestNeighboursPredictionMachine requires all labels and distances to be distinct. This is a bit of a limitation. Hopefully it can be fixed, but it may take some work..."
   ]
  },
  {
   "cell_type": "code",
   "execution_count": 7,
   "metadata": {},
   "outputs": [],
   "source": [
    "from copy import deepcopy\n",
    "df = deepcopy(X_raw)\n",
    "df['poisonous'] = y_raw.poisonous"
   ]
  },
  {
   "cell_type": "code",
   "execution_count": 8,
   "metadata": {},
   "outputs": [],
   "source": [
    "# Function to sample a balanced training set\n",
    "def sample_balanced_training_set_and_encode(df, target_column, n, random_state=None):\n",
    "    # Ensure N is even\n",
    "    if n % 2 != 0:\n",
    "        raise ValueError(\"N must be an even number to balance classes.\")\n",
    "    \n",
    "    # Check that both classes have enough samples\n",
    "    class_counts = df[target_column].value_counts()\n",
    "    if any(class_counts < n // 2):\n",
    "        raise ValueError(\"Not enough samples in one of the classes to create a balanced set.\")\n",
    "    \n",
    "    # Split the DataFrame by class\n",
    "    class_0 = df[df[target_column] == 'e']\n",
    "    class_1 = df[df[target_column] == 'p']\n",
    "    \n",
    "    # Sample N/2 from each class\n",
    "    sample_0 = class_0.sample(n=n // 2, random_state=random_state)  # random_state for reproducibility\n",
    "    sample_1 = class_1.sample(n=n // 2, random_state=random_state)\n",
    "    \n",
    "    # Combine and shuffle the samples\n",
    "    balanced_sample = pd.concat([sample_0, sample_1]).sample(frac=1, random_state=42).reset_index(drop=True)\n",
    "    \n",
    "    X = balanced_sample.drop(columns=[target_column])\n",
    "    Y = balanced_sample[target_column]\n",
    "\n",
    "    X = np.array([LabelEncoder().fit(col).transform(col) for col in X.values.T]).T\n",
    "    Y = Y.values.reshape(1, -1)[0]\n",
    "\n",
    "    return X, Y"
   ]
  },
  {
   "cell_type": "code",
   "execution_count": null,
   "metadata": {},
   "outputs": [
    {
     "name": "stdout",
     "output_type": "stream",
     "text": [
      "Size: 4\n",
      "Average utility: 0.41202039857788225\n"
     ]
    },
    {
     "name": "stderr",
     "output_type": "stream",
     "text": [
      "/tmp/ipykernel_561087/2538654545.py:18: RuntimeWarning: invalid value encountered in scalar add\n",
      "  Delta_Q = np.array([cpd(y=y + MACHINE_EPSILON(y), tau=tau) - cpd(y=y - MACHINE_EPSILON(y), tau=tau) for y in jump_points])\n"
     ]
    },
    {
     "ename": "ValueError",
     "evalue": "zero-size array to reduction operation maximum which has no identity",
     "output_type": "error",
     "traceback": [
      "\u001b[0;31m---------------------------------------------------------------------------\u001b[0m",
      "\u001b[0;31mValueError\u001b[0m                                Traceback (most recent call last)",
      "Cell \u001b[0;32mIn[9], line 18\u001b[0m\n\u001b[1;32m     15\u001b[0m     cpd \u001b[38;5;241m=\u001b[39m cps\u001b[38;5;241m.\u001b[39mpredict_cpd(obj)\n\u001b[1;32m     17\u001b[0m     jump_points \u001b[38;5;241m=\u001b[39m np\u001b[38;5;241m.\u001b[39munique(cpd\u001b[38;5;241m.\u001b[39mY[\u001b[38;5;241m1\u001b[39m:\u001b[38;5;241m-\u001b[39m\u001b[38;5;241m1\u001b[39m])\n\u001b[0;32m---> 18\u001b[0m     Delta_Q \u001b[38;5;241m=\u001b[39m np\u001b[38;5;241m.\u001b[39marray(\u001b[43m[\u001b[49m\u001b[43mcpd\u001b[49m\u001b[43m(\u001b[49m\u001b[43my\u001b[49m\u001b[38;5;241;43m=\u001b[39;49m\u001b[43my\u001b[49m\u001b[43m \u001b[49m\u001b[38;5;241;43m+\u001b[39;49m\u001b[43m \u001b[49m\u001b[43mMACHINE_EPSILON\u001b[49m\u001b[43m(\u001b[49m\u001b[43my\u001b[49m\u001b[43m)\u001b[49m\u001b[43m,\u001b[49m\u001b[43m \u001b[49m\u001b[43mtau\u001b[49m\u001b[38;5;241;43m=\u001b[39;49m\u001b[43mtau\u001b[49m\u001b[43m)\u001b[49m\u001b[43m \u001b[49m\u001b[38;5;241;43m-\u001b[39;49m\u001b[43m \u001b[49m\u001b[43mcpd\u001b[49m\u001b[43m(\u001b[49m\u001b[43my\u001b[49m\u001b[38;5;241;43m=\u001b[39;49m\u001b[43my\u001b[49m\u001b[43m \u001b[49m\u001b[38;5;241;43m-\u001b[39;49m\u001b[43m \u001b[49m\u001b[43mMACHINE_EPSILON\u001b[49m\u001b[43m(\u001b[49m\u001b[43my\u001b[49m\u001b[43m)\u001b[49m\u001b[43m,\u001b[49m\u001b[43m \u001b[49m\u001b[43mtau\u001b[49m\u001b[38;5;241;43m=\u001b[39;49m\u001b[43mtau\u001b[49m\u001b[43m)\u001b[49m\u001b[43m \u001b[49m\u001b[38;5;28;43;01mfor\u001b[39;49;00m\u001b[43m \u001b[49m\u001b[43my\u001b[49m\u001b[43m \u001b[49m\u001b[38;5;129;43;01min\u001b[39;49;00m\u001b[43m \u001b[49m\u001b[43mjump_points\u001b[49m\u001b[43m]\u001b[49m)\n\u001b[1;32m     19\u001b[0m     utility[d] \u001b[38;5;241m=\u001b[39m jump_points \u001b[38;5;241m@\u001b[39m Delta_Q\n\u001b[1;32m     21\u001b[0m decision \u001b[38;5;241m=\u001b[39m  \u001b[38;5;28mmax\u001b[39m(utility, key\u001b[38;5;241m=\u001b[39mutility\u001b[38;5;241m.\u001b[39mget)\n",
      "Cell \u001b[0;32mIn[9], line 18\u001b[0m, in \u001b[0;36m<listcomp>\u001b[0;34m(.0)\u001b[0m\n\u001b[1;32m     15\u001b[0m     cpd \u001b[38;5;241m=\u001b[39m cps\u001b[38;5;241m.\u001b[39mpredict_cpd(obj)\n\u001b[1;32m     17\u001b[0m     jump_points \u001b[38;5;241m=\u001b[39m np\u001b[38;5;241m.\u001b[39munique(cpd\u001b[38;5;241m.\u001b[39mY[\u001b[38;5;241m1\u001b[39m:\u001b[38;5;241m-\u001b[39m\u001b[38;5;241m1\u001b[39m])\n\u001b[0;32m---> 18\u001b[0m     Delta_Q \u001b[38;5;241m=\u001b[39m np\u001b[38;5;241m.\u001b[39marray([\u001b[43mcpd\u001b[49m\u001b[43m(\u001b[49m\u001b[43my\u001b[49m\u001b[38;5;241;43m=\u001b[39;49m\u001b[43my\u001b[49m\u001b[43m \u001b[49m\u001b[38;5;241;43m+\u001b[39;49m\u001b[43m \u001b[49m\u001b[43mMACHINE_EPSILON\u001b[49m\u001b[43m(\u001b[49m\u001b[43my\u001b[49m\u001b[43m)\u001b[49m\u001b[43m,\u001b[49m\u001b[43m \u001b[49m\u001b[43mtau\u001b[49m\u001b[38;5;241;43m=\u001b[39;49m\u001b[43mtau\u001b[49m\u001b[43m)\u001b[49m \u001b[38;5;241m-\u001b[39m cpd(y\u001b[38;5;241m=\u001b[39my \u001b[38;5;241m-\u001b[39m MACHINE_EPSILON(y), tau\u001b[38;5;241m=\u001b[39mtau) \u001b[38;5;28;01mfor\u001b[39;00m y \u001b[38;5;129;01min\u001b[39;00m jump_points])\n\u001b[1;32m     19\u001b[0m     utility[d] \u001b[38;5;241m=\u001b[39m jump_points \u001b[38;5;241m@\u001b[39m Delta_Q\n\u001b[1;32m     21\u001b[0m decision \u001b[38;5;241m=\u001b[39m  \u001b[38;5;28mmax\u001b[39m(utility, key\u001b[38;5;241m=\u001b[39mutility\u001b[38;5;241m.\u001b[39mget)\n",
      "File \u001b[0;32m~/Documents/PhD/PREMACOP/OnlineConformalPrediction/src/online_cp/CPS.py:393\u001b[0m, in \u001b[0;36mNearestNeighboursPredictiveDistributionFunction.__call__\u001b[0;34m(self, y, tau)\u001b[0m\n\u001b[1;32m    391\u001b[0m     interval \u001b[38;5;241m=\u001b[39m (\u001b[38;5;28mself\u001b[39m\u001b[38;5;241m.\u001b[39mL[k\u001b[38;5;241m-\u001b[39m\u001b[38;5;241m1\u001b[39m], \u001b[38;5;28mself\u001b[39m\u001b[38;5;241m.\u001b[39mU[k])\n\u001b[1;32m    392\u001b[0m \u001b[38;5;28;01melse\u001b[39;00m:\n\u001b[0;32m--> 393\u001b[0m     k \u001b[38;5;241m=\u001b[39m \u001b[43mnp\u001b[49m\u001b[38;5;241;43m.\u001b[39;49m\u001b[43mwhere\u001b[49m\u001b[43m(\u001b[49m\u001b[43mY\u001b[49m\u001b[43m \u001b[49m\u001b[38;5;241;43m<\u001b[39;49m\u001b[38;5;241;43m=\u001b[39;49m\u001b[43m \u001b[49m\u001b[43my\u001b[49m\u001b[43m)\u001b[49m\u001b[43m[\u001b[49m\u001b[38;5;241;43m0\u001b[39;49m\u001b[43m]\u001b[49m\u001b[38;5;241;43m.\u001b[39;49m\u001b[43mmax\u001b[49m\u001b[43m(\u001b[49m\u001b[43m)\u001b[49m\n\u001b[1;32m    394\u001b[0m     interval \u001b[38;5;241m=\u001b[39m (\u001b[38;5;28mself\u001b[39m\u001b[38;5;241m.\u001b[39mL[k], \u001b[38;5;28mself\u001b[39m\u001b[38;5;241m.\u001b[39mU[k])\n\u001b[1;32m    396\u001b[0m Pi0 \u001b[38;5;241m=\u001b[39m interval[\u001b[38;5;241m0\u001b[39m]\n",
      "File \u001b[0;32m~/miniconda3/envs/onlineCP/lib/python3.11/site-packages/numpy/core/_methods.py:41\u001b[0m, in \u001b[0;36m_amax\u001b[0;34m(a, axis, out, keepdims, initial, where)\u001b[0m\n\u001b[1;32m     39\u001b[0m \u001b[38;5;28;01mdef\u001b[39;00m \u001b[38;5;21m_amax\u001b[39m(a, axis\u001b[38;5;241m=\u001b[39m\u001b[38;5;28;01mNone\u001b[39;00m, out\u001b[38;5;241m=\u001b[39m\u001b[38;5;28;01mNone\u001b[39;00m, keepdims\u001b[38;5;241m=\u001b[39m\u001b[38;5;28;01mFalse\u001b[39;00m,\n\u001b[1;32m     40\u001b[0m           initial\u001b[38;5;241m=\u001b[39m_NoValue, where\u001b[38;5;241m=\u001b[39m\u001b[38;5;28;01mTrue\u001b[39;00m):\n\u001b[0;32m---> 41\u001b[0m     \u001b[38;5;28;01mreturn\u001b[39;00m umr_maximum(a, axis, \u001b[38;5;28;01mNone\u001b[39;00m, out, keepdims, initial, where)\n",
      "\u001b[0;31mValueError\u001b[0m: zero-size array to reduction operation maximum which has no identity"
     ]
    }
   ],
   "source": [
    "# runs = 100\n",
    "# for training_set_size in [4, 6, 8, 10, 12, 14, 16, 18, 20]:\n",
    "#     TRAINING_SETS = [sample_balanced_training_set_and_encode(df, target_column='poisonous', n=training_set_size, random_state=r) for r in range(runs)]\n",
    "#     TEST_SETS = [sample_balanced_training_set_and_encode(df, target_column='poisonous', n=10, random_state=r) for r in range(runs)]    \n",
    "#     util = 0\n",
    "#     for (X_train, y_train), (X_test, y_test) in zip(TRAINING_SETS, TEST_SETS):\n",
    "#         for obj, lab in zip(X_test, y_test):\n",
    "#             utility = {}\n",
    "#             for d in ['eat', 'not eat']:\n",
    "#                 tau = rnd_gen.uniform(0, 1)\n",
    "#                 U_train_d = np.array([U(y, d) for y in y_train]).astype('float')\n",
    "\n",
    "#                 cps = NearestNeighboursPredictionMachine(k=3, distance='hamming', rnd_state=2024)\n",
    "#                 cps.learn_initial_training_set(X_train, U_train_d)\n",
    "#                 cpd = cps.predict_cpd(obj)\n",
    "\n",
    "#                 jump_points = np.unique(cpd.Y[1:-1])\n",
    "#                 Delta_Q = np.array([cpd(y=y + MACHINE_EPSILON(y), tau=tau) - cpd(y=y - MACHINE_EPSILON(y), tau=tau) for y in jump_points])\n",
    "#                 utility[d] = jump_points @ Delta_Q\n",
    "                \n",
    "#             decision =  max(utility, key=utility.get)\n",
    "#             util += utility[decision]\n",
    "\n",
    "#     print(f'Size: {training_set_size}')\n",
    "#     print(f'Average utility: {util/(10*runs)}')\n",
    "    "
   ]
  }
 ],
 "metadata": {
  "kernelspec": {
   "display_name": "onlineCP",
   "language": "python",
   "name": "python3"
  },
  "language_info": {
   "codemirror_mode": {
    "name": "ipython",
    "version": 3
   },
   "file_extension": ".py",
   "mimetype": "text/x-python",
   "name": "python",
   "nbconvert_exporter": "python",
   "pygments_lexer": "ipython3",
   "version": "3.11.9"
  }
 },
 "nbformat": 4,
 "nbformat_minor": 2
}
