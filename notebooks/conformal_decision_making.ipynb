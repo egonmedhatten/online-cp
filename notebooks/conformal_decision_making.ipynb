{
 "cells": [
  {
   "cell_type": "markdown",
   "metadata": {},
   "source": [
    "# Conformal predictive decision making\n",
    "\n",
    "We tackle the same problem as https://www.alrw.net/articles/19.pdf, using our Nearest neighbours prediction machine"
   ]
  },
  {
   "cell_type": "code",
   "execution_count": 91,
   "metadata": {},
   "outputs": [],
   "source": [
    "from ucimlrepo import fetch_ucirepo \n",
    "import pandas as pd\n",
    "from online_cp.CPS import NearestNeighboursPredictionMachine\n",
    "from sklearn.preprocessing import LabelEncoder\n",
    "import numpy as np\n",
    "rnd_gen = np.random.default_rng(2024)\n",
    "import matplotlib.pyplot as plt\n",
    "MACHINE_EPSILON = lambda x: np.abs(x) * np.finfo(np.float64).eps"
   ]
  },
  {
   "cell_type": "code",
   "execution_count": 92,
   "metadata": {},
   "outputs": [],
   "source": [
    "# fetch dataset \n",
    "mushroom = fetch_ucirepo(id=73) \n",
    "  \n",
    "# data (as pandas dataframes) \n",
    "X_raw = mushroom.data.features \n",
    "y_raw = mushroom.data.targets \n",
    "\n",
    "X = np.array([LabelEncoder().fit(col).transform(col) for col in X_raw.values.T]).T\n",
    "y = y_raw.values.reshape(1, -1)[0]"
   ]
  },
  {
   "cell_type": "code",
   "execution_count": 119,
   "metadata": {},
   "outputs": [],
   "source": [
    "N = 8\n",
    "X_train = X[:N]\n",
    "y_train = y[:N]"
   ]
  },
  {
   "cell_type": "code",
   "execution_count": 120,
   "metadata": {},
   "outputs": [],
   "source": [
    "def U(y, d):\n",
    "    if y == 'e':\n",
    "        if d == 'eat':\n",
    "            return 1\n",
    "        if d == 'not eat':\n",
    "            return 0\n",
    "    if y == 'p':\n",
    "        if d == 'eat':\n",
    "            return -10\n",
    "        if d == 'not eat':\n",
    "            return 1"
   ]
  },
  {
   "cell_type": "code",
   "execution_count": 121,
   "metadata": {},
   "outputs": [],
   "source": [
    "d = 'eat'\n",
    "tau = rnd_gen.uniform(0, 1)\n",
    "U_train_d = np.array([U(y, d) for y in y_train]).astype('float')\n",
    "\n",
    "cps = NearestNeighboursPredictionMachine(k=3, distance='hamming', rnd_state=2024)\n",
    "cps.learn_initial_training_set(X_train, U_train_d)\n",
    "cpd = cps.predict_cpd(X[N])"
   ]
  },
  {
   "cell_type": "code",
   "execution_count": 122,
   "metadata": {},
   "outputs": [
    {
     "name": "stdout",
     "output_type": "stream",
     "text": [
      "{'eat': -2.382781062823371, 'not eat': 0.4152967234003031}\n",
      "p\n"
     ]
    },
    {
     "data": {
      "text/plain": [
       "<matplotlib.legend.Legend at 0x74c7d02b0150>"
      ]
     },
     "execution_count": 122,
     "metadata": {},
     "output_type": "execute_result"
    },
    {
     "data": {
      "image/png": "[encoded data removed]",
      "text/plain": [
       "<Figure size 640x480 with 1 Axes>"
      ]
     },
     "metadata": {},
     "output_type": "display_data"
    }
   ],
   "source": [
    "utility = {}\n",
    "for d in ['eat', 'not eat']:\n",
    "    tau = rnd_gen.uniform(0, 1)\n",
    "    U_train_d = np.array([U(y, d) for y in y_train]).astype('float')\n",
    "\n",
    "    cps = NearestNeighboursPredictionMachine(k=1, distance='hamming', rnd_state=2024)\n",
    "    cps.learn_initial_training_set(X_train, U_train_d)\n",
    "    cpd = cps.predict_cpd(X[N])\n",
    "\n",
    "    jump_points = np.unique(cpd.Y[1:-1])\n",
    "    Delta_Q = np.array([cpd(y=y + MACHINE_EPSILON(y), tau=tau) - cpd(y=y - MACHINE_EPSILON(y), tau=tau) for y in jump_points])\n",
    "    utility[d] = jump_points @ Delta_Q\n",
    "\n",
    "    yrange = np.linspace(-50, 50, num=1000, endpoint=True) \n",
    "\n",
    "    tau = rnd_gen.uniform(0, 1)\n",
    "    plt.plot(\n",
    "        yrange,\n",
    "        [cpd(y=y, tau=tau) for y in yrange],\n",
    "        label=d\n",
    "    )\n",
    "\n",
    "print(utility)\n",
    "print(y[N])\n",
    "\n",
    "plt.legend()"
   ]
  }
 ],
 "metadata": {
  "kernelspec": {
   "display_name": "onlineCP",
   "language": "python",
   "name": "python3"
  },
  "language_info": {
   "codemirror_mode": {
    "name": "ipython",
    "version": 3
   },
   "file_extension": ".py",
   "mimetype": "text/x-python",
   "name": "python",
   "nbconvert_exporter": "python",
   "pygments_lexer": "ipython3",
   "version": "3.11.9"
  }
 },
 "nbformat": 4,
 "nbformat_minor": 2
}
