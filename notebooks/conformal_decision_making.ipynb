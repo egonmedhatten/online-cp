{
 "cells": [
  {
   "cell_type": "markdown",
   "metadata": {},
   "source": [
    "# Conformal predictive decision making\n",
    "\n",
    "We tackle the same problem as https://www.alrw.net/articles/19.pdf, using our Nearest neighbours prediction machine"
   ]
  },
  {
   "cell_type": "code",
   "execution_count": 1,
   "metadata": {},
   "outputs": [],
   "source": [
    "from ucimlrepo import fetch_ucirepo \n",
    "import pandas as pd\n",
    "from online_cp.CPS import NearestNeighboursPredictionMachine\n",
    "from sklearn.preprocessing import LabelEncoder\n",
    "import numpy as np\n",
    "rnd_gen = np.random.default_rng(2024)\n",
    "import matplotlib.pyplot as plt"
   ]
  },
  {
   "cell_type": "code",
   "execution_count": 2,
   "metadata": {},
   "outputs": [],
   "source": [
    "# fetch dataset \n",
    "mushroom = fetch_ucirepo(id=73) \n",
    "  \n",
    "# data (as pandas dataframes) \n",
    "X_raw = mushroom.data.features \n",
    "y_raw = mushroom.data.targets \n",
    "\n",
    "X = np.array([LabelEncoder().fit(col).transform(col) for col in X_raw.values.T]).T\n",
    "y = y_raw.values.reshape(1, -1)[0]"
   ]
  },
  {
   "cell_type": "code",
   "execution_count": 3,
   "metadata": {},
   "outputs": [],
   "source": [
    "N = 8\n",
    "X_train = X[:N]\n",
    "y_train = y[:N]"
   ]
  },
  {
   "cell_type": "code",
   "execution_count": 4,
   "metadata": {},
   "outputs": [],
   "source": [
    "def U(y, d):\n",
    "    if y == 'e':\n",
    "        if d == 'eat':\n",
    "            return 1\n",
    "        if d == 'not eat':\n",
    "            return 0\n",
    "    if y == 'p':\n",
    "        if d == 'eat':\n",
    "            return -10\n",
    "        if d == 'not eat':\n",
    "            return 1"
   ]
  },
  {
   "cell_type": "code",
   "execution_count": 5,
   "metadata": {},
   "outputs": [
    {
     "name": "stdout",
     "output_type": "stream",
     "text": [
      "d=eat: Jump at y=-9.95995995995996: ΔQ*=0.6007389670944727\n",
      "d=not eat: Jump at y=1.0510510510510542: ΔQ*=0.2750684718948371\n",
      "{'eat': -5.983336058648653, 'not eat': 0.28911100649607585}\n",
      "p\n"
     ]
    },
    {
     "data": {
      "text/plain": [
       "<matplotlib.legend.Legend at 0x75f2de55d9d0>"
      ]
     },
     "execution_count": 5,
     "metadata": {},
     "output_type": "execute_result"
    },
    {
     "data": {
      "image/png": "[encoded data removed]",
      "text/plain": [
       "<Figure size 640x480 with 1 Axes>"
      ]
     },
     "metadata": {},
     "output_type": "display_data"
    }
   ],
   "source": [
    "utility = {}\n",
    "for d in ['eat', 'not eat']:\n",
    "    tau = rnd_gen.uniform(0, 1)\n",
    "    U_train_d = np.array([U(y, d) for y in y_train]).astype('float')\n",
    "\n",
    "    cps = NearestNeighboursPredictionMachine(k=1, distance='hamming', rnd_state=2024)\n",
    "    cps.learn_initial_training_set(X_train, U_train_d)\n",
    "    cpd = cps.predict_cpd(X[N])\n",
    "\n",
    "    # NOTE: There must be a better way to do the integral. The issue for now, is that I had to add random noise to\n",
    "    #       labels to avoid duplicates in the NNPM. This complicates things here...\n",
    "\n",
    "    yrange = np.linspace(-50, 50, num=1000, endpoint=True) \n",
    "    Q_star_values = np.array([cpd(y=y, tau=tau) for y in yrange])  # Corresponding Q^*(y) values at y_values\n",
    "\n",
    "    # Compute the differences to find jumps\n",
    "    delta_Q_star = np.diff(Q_star_values)\n",
    "    jump_points = yrange[1:]  # Corresponding points are shifted by one due to diff\n",
    "\n",
    "    # Filter for non-zero jumps\n",
    "    nonzero_jumps = delta_Q_star != 0\n",
    "    nonzero_delta_Q_star = delta_Q_star[nonzero_jumps]\n",
    "    corresponding_y = jump_points[nonzero_jumps]\n",
    "\n",
    "    # Output the results\n",
    "    for y_val, delta in zip(corresponding_y, nonzero_delta_Q_star):\n",
    "        print(f\"d={d}: Jump at y={y_val}: ΔQ*={delta}\")\n",
    "\n",
    "    tau = rnd_gen.uniform(0, 1)\n",
    "    plt.plot(\n",
    "        yrange,\n",
    "        [cpd(y=y, tau=tau) for y in yrange],\n",
    "        label=d\n",
    "    )\n",
    "\n",
    "    utility[d] = corresponding_y @ nonzero_delta_Q_star\n",
    "\n",
    "print(utility)\n",
    "print(y[N])\n",
    "\n",
    "plt.legend()"
   ]
  }
 ],
 "metadata": {
  "kernelspec": {
   "display_name": "onlineCP",
   "language": "python",
   "name": "python3"
  },
  "language_info": {
   "codemirror_mode": {
    "name": "ipython",
    "version": 3
   },
   "file_extension": ".py",
   "mimetype": "text/x-python",
   "name": "python",
   "nbconvert_exporter": "python",
   "pygments_lexer": "ipython3",
   "version": "3.11.9"
  }
 },
 "nbformat": 4,
 "nbformat_minor": 2
}
