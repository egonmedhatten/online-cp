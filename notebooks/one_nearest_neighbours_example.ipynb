{
 "cells": [
  {
   "cell_type": "code",
   "execution_count": 12,
   "metadata": {},
   "outputs": [],
   "source": [
    "import numpy as np\n",
    "rnd_gen = np.random.default_rng(2024)\n",
    "from tqdm.notebook import tqdm\n",
    "import matplotlib.pyplot as plt\n",
    "from classifiers import ConformalNearestNeighbours\n",
    "from copy import deepcopy\n",
    "from sklearn.datasets import make_classification"
   ]
  },
  {
   "cell_type": "markdown",
   "metadata": {},
   "source": [
    "# Example from day 1"
   ]
  },
  {
   "cell_type": "code",
   "execution_count": 13,
   "metadata": {},
   "outputs": [],
   "source": [
    "X = np.array([3, -2, -1, 1, 2]).reshape(-1,1)\n",
    "Y = np.array([1, -1, -1, 1, 1])"
   ]
  },
  {
   "cell_type": "code",
   "execution_count": 14,
   "metadata": {},
   "outputs": [],
   "source": [
    "cp = ConformalNearestNeighbours(k=1)"
   ]
  },
  {
   "cell_type": "code",
   "execution_count": 15,
   "metadata": {},
   "outputs": [
    {
     "name": "stdout",
     "output_type": "stream",
     "text": [
      "NC scores for true hypothesis y=1: [nan]\n",
      "NC scores for false hypothesis y=-1: [nan]\n",
      "p-values: {-1: 0.21432320123825765, 1: 0.3094520308816917}\n"
     ]
    },
    {
     "name": "stderr",
     "output_type": "stream",
     "text": [
      "/tmp/ipykernel_3752344/1325023172.py:8: RuntimeWarning: invalid value encountered in divide\n",
      "  print(f'NC scores for true hypothesis y={true_label}: {d_same / d_other}')\n",
      "/tmp/ipykernel_3752344/1325023172.py:14: RuntimeWarning: invalid value encountered in divide\n",
      "  print(f'NC scores for false hypothesis y={-true_label}: {d_same / d_other}')\n"
     ]
    }
   ],
   "source": [
    "i = 0\n",
    "Gamma, p_values = cp.predict(X[i], Y[i], return_p_values=True)\n",
    "cp.learn_one(X[i], Y[i])\n",
    "p_values\n",
    "d_same, d_other = cp._find_nearest_distances(cp.D, cp.y)\n",
    "\n",
    "true_label = Y[i]\n",
    "print(f'NC scores for true hypothesis y={true_label}: {d_same / d_other}')\n",
    "\n",
    "false_array = deepcopy(cp.y)\n",
    "false_array[-1] = -true_label\n",
    "d_same, d_other = cp._find_nearest_distances(cp.D, false_array)\n",
    "\n",
    "print(f'NC scores for false hypothesis y={-true_label}: {d_same / d_other}')\n",
    "\n",
    "print(f'p-values: {p_values}')"
   ]
  },
  {
   "cell_type": "code",
   "execution_count": 16,
   "metadata": {},
   "outputs": [
    {
     "name": "stdout",
     "output_type": "stream",
     "text": [
      "NC scores for true hypothesis y=-1: [inf inf]\n",
      "NC scores for false hypothesis y=1: [0. 0.]\n",
      "p-values: {-1: 0.7994660967748332, 1: 0.7994660967748332}\n"
     ]
    }
   ],
   "source": [
    "i = 1\n",
    "Gamma, p_values = cp.predict(X[i], Y[i], return_p_values=True)\n",
    "cp.learn_one(X[i], Y[i])\n",
    "p_values\n",
    "d_same, d_other = cp._find_nearest_distances(cp.D, cp.y)\n",
    "\n",
    "true_label = Y[i]\n",
    "print(f'NC scores for true hypothesis y={true_label}: {d_same / d_other}')\n",
    "\n",
    "false_array = deepcopy(cp.y)\n",
    "false_array[-1] = -true_label\n",
    "d_same, d_other = cp._find_nearest_distances(cp.D, false_array)\n",
    "\n",
    "print(f'NC scores for false hypothesis y={-true_label}: {d_same / d_other}')\n",
    "\n",
    "print(f'p-values: {p_values}')"
   ]
  },
  {
   "cell_type": "code",
   "execution_count": 17,
   "metadata": {},
   "outputs": [
    {
     "name": "stdout",
     "output_type": "stream",
     "text": [
      "NC scores for true hypothesis y=-1: [ inf 0.2  0.25]\n",
      "NC scores for false hypothesis y=1: [0.8 inf 4. ]\n",
      "p-values: {-1: 0.6652673662884889, 1: 0.6652673662884889}\n"
     ]
    }
   ],
   "source": [
    "i = 2\n",
    "Gamma, p_values = cp.predict(X[i], Y[i], return_p_values=True)\n",
    "cp.learn_one(X[i], Y[i])\n",
    "p_values\n",
    "d_same, d_other = cp._find_nearest_distances(cp.D, cp.y)\n",
    "\n",
    "true_label = Y[i]\n",
    "print(f'NC scores for true hypothesis y={true_label}: {d_same / d_other}')\n",
    "\n",
    "false_array = deepcopy(cp.y)\n",
    "false_array[-1] = -true_label\n",
    "d_same, d_other = cp._find_nearest_distances(cp.D, false_array)\n",
    "\n",
    "print(f'NC scores for false hypothesis y={-true_label}: {d_same / d_other}')\n",
    "\n",
    "print(f'p-values: {p_values}')"
   ]
  },
  {
   "cell_type": "code",
   "execution_count": 18,
   "metadata": {},
   "outputs": [
    {
     "name": "stdout",
     "output_type": "stream",
     "text": [
      "NC scores for true hypothesis y=1: [0.5        0.33333333 0.5        1.        ]\n",
      "NC scores for false hypothesis y=-1: [ inf 0.2  0.25 1.  ]\n",
      "p-values: {-1: 0.2855579538200129, 1: 0.03555795382001295}\n"
     ]
    }
   ],
   "source": [
    "i = 3\n",
    "Gamma, p_values = cp.predict(X[i], Y[i], return_p_values=True)\n",
    "cp.learn_one(X[i], Y[i])\n",
    "p_values\n",
    "d_same, d_other = cp._find_nearest_distances(cp.D, cp.y)\n",
    "\n",
    "true_label = Y[i]\n",
    "print(f'NC scores for true hypothesis y={true_label}: {d_same / d_other}')\n",
    "\n",
    "false_array = deepcopy(cp.y)\n",
    "false_array[-1] = -true_label\n",
    "d_same, d_other = cp._find_nearest_distances(cp.D, false_array)\n",
    "\n",
    "print(f'NC scores for false hypothesis y={-true_label}: {d_same / d_other}')\n",
    "\n",
    "print(f'p-values: {p_values}')"
   ]
  },
  {
   "cell_type": "code",
   "execution_count": 19,
   "metadata": {},
   "outputs": [
    {
     "name": "stdout",
     "output_type": "stream",
     "text": [
      "NC scores for true hypothesis y=1: [0.25       0.33333333 0.5        0.5        0.33333333]\n",
      "NC scores for false hypothesis y=-1: [2.         0.33333333 0.5        2.         3.        ]\n",
      "p-values: {-1: 0.015745106752399797, 1: 0.4314902135047996}\n"
     ]
    }
   ],
   "source": [
    "i = 4\n",
    "Gamma, p_values = cp.predict(X[i], Y[i], return_p_values=True)\n",
    "cp.learn_one(X[i], Y[i])\n",
    "p_values\n",
    "d_same, d_other = cp._find_nearest_distances(cp.D, cp.y)\n",
    "\n",
    "true_label = Y[i]\n",
    "print(f'NC scores for true hypothesis y={true_label}: {d_same / d_other}')\n",
    "\n",
    "false_array = deepcopy(cp.y)\n",
    "false_array[-1] = -true_label\n",
    "d_same, d_other = cp._find_nearest_distances(cp.D, false_array)\n",
    "\n",
    "print(f'NC scores for false hypothesis y={-true_label}: {d_same / d_other}')\n",
    "\n",
    "print(f'p-values: {p_values}')"
   ]
  },
  {
   "cell_type": "markdown",
   "metadata": {},
   "source": [
    "Note to me: It would have been nice to get the p-values on the form given by Ilia, e.g. $\\frac{2+2\\tau_5}{5}$, and then they could be evaluated by drawing a uniform random number."
   ]
  },
  {
   "cell_type": "markdown",
   "metadata": {},
   "source": [
    "# Larger example"
   ]
  },
  {
   "cell_type": "code",
   "execution_count": 20,
   "metadata": {},
   "outputs": [
    {
     "data": {
      "image/png": "[encoded data removed]",
      "text/plain": [
       "<Figure size 800x600 with 1 Axes>"
      ]
     },
     "metadata": {},
     "output_type": "display_data"
    }
   ],
   "source": [
    "N = 500\n",
    "\n",
    "X, Y = make_classification(n_samples=N, n_features=2, n_informative=2, n_redundant=0, \n",
    "                           n_classes=3, n_clusters_per_class=1, random_state=2024)\n",
    "\n",
    "\n",
    "# Create a scatter plot with different symbols for each class\n",
    "plt.figure(figsize=(8, 6))\n",
    "\n",
    "# Define different markers for each class\n",
    "markers = ['o', 's', 'D']\n",
    "colors = ['red', 'blue', 'green']\n",
    "\n",
    "# Plot each class with a different marker\n",
    "for label, marker, color in zip(np.unique(Y), markers, colors):\n",
    "    plt.scatter(X[Y == label, 0], X[Y == label, 1], label=f'Class {label}', marker=marker, color=color, edgecolor='k')\n",
    "\n",
    "# Add labels and a legend\n",
    "plt.title('Synthetic Classification Dataset with 3 Classes')\n",
    "plt.xlabel(r'$x_1$')\n",
    "plt.ylabel(r'$x_2$')\n",
    "plt.legend()\n",
    "plt.grid(True)\n",
    "plt.show()"
   ]
  },
  {
   "cell_type": "markdown",
   "metadata": {},
   "source": [
    "Online prediction using one nearest neighbours"
   ]
  },
  {
   "cell_type": "code",
   "execution_count": 21,
   "metadata": {},
   "outputs": [
    {
     "data": {
      "application/vnd.jupyter.widget-view+json": {
       "model_id": "2bc61414135944fbbc4dfb19835c6fd0",
       "version_major": 2,
       "version_minor": 0
      },
      "text/plain": [
       "Running online conformal prediction:   0%|          | 0/500 [00:00<?, ?it/s]"
      ]
     },
     "metadata": {},
     "output_type": "display_data"
    },
    {
     "name": "stdout",
     "output_type": "stream",
     "text": [
      "Neighbours: 1\n",
      "Average error: 0.104\n",
      "Average observed excess: 0.324\n",
      "Average observed fuzziness: 0.12601178913900468\n"
     ]
    }
   ],
   "source": [
    "epsilon = 0.1\n",
    "k = 1\n",
    "cp = ConformalNearestNeighbours(k=k, label_space=np.unique(Y))\n",
    "for i, (object, label) in tqdm(enumerate(zip(X, Y)), total=Y.shape[0], desc='Running online conformal prediction'):\n",
    "\n",
    "    # Reality outputs object\n",
    "    x = object\n",
    "\n",
    "    # Forecaster outputs prediction set\n",
    "    Gamma, p_values = cp.predict(x, epsilon=epsilon, return_p_values=True)\n",
    "\n",
    "    # Reality outputs label\n",
    "    y = label\n",
    "\n",
    "    # Check error\n",
    "    cp.err(Gamma, label)\n",
    "\n",
    "    # Learn the label\n",
    "    cp.learn_one(object, y)\n",
    "    \n",
    "    # Prefferred efficiency criteria\n",
    "\n",
    "    # Observed excess\n",
    "    cp.oe(Gamma, y)\n",
    "\n",
    "    # Observed fuzziness\n",
    "    cp.of(p_values, y)\n",
    "\n",
    "print(f'Neighbours: {k}')\n",
    "print(f'Average error: {cp.Err/Y.shape[0]}')\n",
    "print(f'Average observed excess: {cp.OE/Y.shape[0]}')\n",
    "print(f'Average observed fuzziness: {cp.OF/Y.shape[0]}')"
   ]
  },
  {
   "cell_type": "markdown",
   "metadata": {},
   "source": [
    "And 5 nearest neighbours"
   ]
  },
  {
   "cell_type": "code",
   "execution_count": 22,
   "metadata": {},
   "outputs": [
    {
     "data": {
      "application/vnd.jupyter.widget-view+json": {
       "model_id": "1e629249221746f5bf433c41ae0170a3",
       "version_major": 2,
       "version_minor": 0
      },
      "text/plain": [
       "Running online conformal prediction:   0%|          | 0/500 [00:00<?, ?it/s]"
      ]
     },
     "metadata": {},
     "output_type": "display_data"
    },
    {
     "name": "stdout",
     "output_type": "stream",
     "text": [
      "Neighbours: 3\n",
      "Average error: 0.1\n",
      "Average observed excess: 0.238\n",
      "Average observed fuzziness: 0.08955868638002344\n"
     ]
    }
   ],
   "source": [
    "epsilon = 0.1\n",
    "k = 3\n",
    "cp = ConformalNearestNeighbours(k=k, label_space=np.unique(Y))\n",
    "for i, (object, label) in tqdm(enumerate(zip(X, Y)), total=Y.shape[0], desc='Running online conformal prediction'):\n",
    "\n",
    "    # Reality outputs object\n",
    "    x = object\n",
    "\n",
    "    # Forecaster outputs prediction set\n",
    "    Gamma, p_values = cp.predict(x, epsilon=epsilon, return_p_values=True)\n",
    "\n",
    "    # Reality outputs label\n",
    "    y = label\n",
    "\n",
    "    # Check error\n",
    "    cp.err(Gamma, label)\n",
    "\n",
    "    # Learn the label\n",
    "    cp.learn_one(object, y)\n",
    "    \n",
    "    # Prefferred efficiency criteria\n",
    "\n",
    "    # Observed excess\n",
    "    cp.oe(Gamma, y)\n",
    "\n",
    "    # Observed fuzziness\n",
    "    cp.of(p_values, y)\n",
    "\n",
    "print(f'Neighbours: {k}')\n",
    "print(f'Average error: {cp.Err/Y.shape[0]}')\n",
    "print(f'Average observed excess: {cp.OE/Y.shape[0]}')\n",
    "print(f'Average observed fuzziness: {cp.OF/Y.shape[0]}')"
   ]
  }
 ],
 "metadata": {
  "kernelspec": {
   "display_name": "onlineCP",
   "language": "python",
   "name": "python3"
  },
  "language_info": {
   "codemirror_mode": {
    "name": "ipython",
    "version": 3
   },
   "file_extension": ".py",
   "mimetype": "text/x-python",
   "name": "python",
   "nbconvert_exporter": "python",
   "pygments_lexer": "ipython3",
   "version": "3.11.9"
  }
 },
 "nbformat": 4,
 "nbformat_minor": 2
}
