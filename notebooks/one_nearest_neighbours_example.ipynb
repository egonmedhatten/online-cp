{
 "cells": [
  {
   "cell_type": "code",
   "execution_count": 1,
   "metadata": {},
   "outputs": [],
   "source": [
    "import numpy as np\n",
    "rnd_gen = np.random.default_rng(2024)\n",
    "from tqdm.notebook import tqdm\n",
    "import matplotlib.pyplot as plt\n",
    "from oncp import ConformalNearestNeighboursClassifier\n",
    "from copy import deepcopy\n",
    "from sklearn.datasets import make_classification"
   ]
  },
  {
   "cell_type": "markdown",
   "metadata": {},
   "source": [
    "# Example from day 1"
   ]
  },
  {
   "cell_type": "code",
   "execution_count": 2,
   "metadata": {},
   "outputs": [],
   "source": [
    "X = np.array([3, -2, -1, 1, 2]).reshape(-1,1)\n",
    "Y = np.array([1, -1, -1, 1, 1])"
   ]
  },
  {
   "cell_type": "code",
   "execution_count": 3,
   "metadata": {},
   "outputs": [],
   "source": [
    "cp = ConformalNearestNeighboursClassifier(k=1)"
   ]
  },
  {
   "cell_type": "code",
   "execution_count": 4,
   "metadata": {},
   "outputs": [
    {
     "name": "stdout",
     "output_type": "stream",
     "text": [
      "Nonconformity scores for hypothesis y=-1: [inf]\n",
      "p-value for hypothesis y=-1: (0 + 1*tau)/1\n",
      "Nonconformity scores for hypothesis y=1: [inf]\n",
      "p-value for hypothesis y=1: (0 + 1*tau)/1\n"
     ]
    }
   ],
   "source": [
    "i = 0\n",
    "Gamma, p_values = cp.predict(X[i], Y[i], return_p_values=True, verbose=100)\n",
    "cp.learn_one(X[i], Y[i])\n",
    "# d_same, d_other = cp._find_nearest_distances(cp.D, cp.y)\n",
    "\n",
    "# true_label = Y[i]\n",
    "# print(f'NC scores for true hypothesis y={true_label}: {d_same / d_other}')\n",
    "\n",
    "# false_array = deepcopy(cp.y)\n",
    "# false_array[-1] = -true_label\n",
    "# d_same, d_other = cp._find_nearest_distances(cp.D, false_array)\n",
    "\n",
    "# print(f'NC scores for false hypothesis y={-true_label}: {d_same / d_other}')\n",
    "\n",
    "# print(f'p-values: {p_values}') \n",
    "\n",
    "# print(f'Gamma: {Gamma}')"
   ]
  },
  {
   "cell_type": "code",
   "execution_count": 5,
   "metadata": {},
   "outputs": [
    {
     "name": "stdout",
     "output_type": "stream",
     "text": [
      "NC scores for true hypothesis y=-1: [inf inf]\n",
      "NC scores for false hypothesis y=1: [0. 0.]\n",
      "p-values: {-1: 0.9706866970316781, 1: 0.9706866970316781}\n",
      "Gamma: [-1  1]\n"
     ]
    }
   ],
   "source": [
    "i = 1\n",
    "Gamma, p_values = cp.predict(X[i], return_p_values=True)\n",
    "cp.learn_one(X[i], Y[i])\n",
    "p_values\n",
    "d_same, d_other = cp._find_nearest_distances(cp.D, cp.y)\n",
    "\n",
    "true_label = Y[i]\n",
    "print(f'NC scores for true hypothesis y={true_label}: {d_same / d_other}')\n",
    "\n",
    "false_array = deepcopy(cp.y)\n",
    "false_array[-1] = -true_label\n",
    "d_same, d_other = cp._find_nearest_distances(cp.D, false_array)\n",
    "\n",
    "print(f'NC scores for false hypothesis y={-true_label}: {d_same / d_other}')\n",
    "\n",
    "print(f'p-values: {p_values}')\n",
    "\n",
    "print(f'Gamma: {Gamma}')"
   ]
  },
  {
   "cell_type": "code",
   "execution_count": 6,
   "metadata": {},
   "outputs": [
    {
     "name": "stdout",
     "output_type": "stream",
     "text": [
      "NC scores for true hypothesis y=-1: [ inf 0.2  0.25]\n",
      "NC scores for false hypothesis y=1: [0.8 inf 4. ]\n",
      "p-values: {-1: 0.4116196966703651, 1: 0.4116196966703651}\n",
      "Gamma: [-1  1]\n"
     ]
    }
   ],
   "source": [
    "i = 2\n",
    "Gamma, p_values = cp.predict(X[i], return_p_values=True)\n",
    "cp.learn_one(X[i], Y[i])\n",
    "p_values\n",
    "d_same, d_other = cp._find_nearest_distances(cp.D, cp.y)\n",
    "\n",
    "true_label = Y[i]\n",
    "print(f'NC scores for true hypothesis y={true_label}: {d_same / d_other}')\n",
    "\n",
    "false_array = deepcopy(cp.y)\n",
    "false_array[-1] = -true_label\n",
    "d_same, d_other = cp._find_nearest_distances(cp.D, false_array)\n",
    "\n",
    "print(f'NC scores for false hypothesis y={-true_label}: {d_same / d_other}')\n",
    "\n",
    "print(f'p-values: {p_values}')\n",
    "\n",
    "print(f'Gamma: {Gamma}')"
   ]
  },
  {
   "cell_type": "code",
   "execution_count": 7,
   "metadata": {},
   "outputs": [
    {
     "name": "stdout",
     "output_type": "stream",
     "text": [
      "NC scores for true hypothesis y=1: [0.5        0.33333333 0.5        1.        ]\n",
      "NC scores for false hypothesis y=-1: [ inf 0.2  0.25 1.  ]\n",
      "p-values: {-1: 0.43800339181943293, 1: 0.18800339181943296}\n",
      "Gamma: [-1  1]\n"
     ]
    }
   ],
   "source": [
    "i = 3\n",
    "Gamma, p_values = cp.predict(X[i], return_p_values=True)\n",
    "cp.learn_one(X[i], Y[i])\n",
    "p_values\n",
    "d_same, d_other = cp._find_nearest_distances(cp.D, cp.y)\n",
    "\n",
    "true_label = Y[i]\n",
    "print(f'NC scores for true hypothesis y={true_label}: {d_same / d_other}')\n",
    "\n",
    "false_array = deepcopy(cp.y)\n",
    "false_array[-1] = -true_label\n",
    "d_same, d_other = cp._find_nearest_distances(cp.D, false_array)\n",
    "\n",
    "print(f'NC scores for false hypothesis y={-true_label}: {d_same / d_other}')\n",
    "\n",
    "print(f'p-values: {p_values}')\n",
    "\n",
    "print(f'Gamma: {Gamma}')"
   ]
  },
  {
   "cell_type": "code",
   "execution_count": 8,
   "metadata": {},
   "outputs": [
    {
     "name": "stdout",
     "output_type": "stream",
     "text": [
      "NC scores for true hypothesis y=1: [0.25       0.33333333 0.5        0.5        0.33333333]\n",
      "NC scores for false hypothesis y=-1: [2.         0.33333333 0.5        2.         3.        ]\n",
      "p-values: {-1: 0.18969513817093991, 1: 0.7793902763418799}\n",
      "Gamma: [-1  1]\n"
     ]
    }
   ],
   "source": [
    "i = 4\n",
    "Gamma, p_values = cp.predict(X[i], return_p_values=True)\n",
    "cp.learn_one(X[i], Y[i])\n",
    "p_values\n",
    "d_same, d_other = cp._find_nearest_distances(cp.D, cp.y)\n",
    "\n",
    "true_label = Y[i]\n",
    "print(f'NC scores for true hypothesis y={true_label}: {d_same / d_other}')\n",
    "\n",
    "false_array = deepcopy(cp.y)\n",
    "false_array[-1] = -true_label\n",
    "d_same, d_other = cp._find_nearest_distances(cp.D, false_array)\n",
    "\n",
    "print(f'NC scores for false hypothesis y={-true_label}: {d_same / d_other}')\n",
    "\n",
    "print(f'p-values: {p_values}')\n",
    "\n",
    "print(f'Gamma: {Gamma}')"
   ]
  },
  {
   "cell_type": "markdown",
   "metadata": {},
   "source": [
    "Note to me: It would have been nice to get the p-values on the form given by Ilia, e.g. $\\frac{2+2\\tau_5}{5}$, and then they could be evaluated by drawing a uniform random number."
   ]
  },
  {
   "cell_type": "markdown",
   "metadata": {},
   "source": [
    "# Larger example"
   ]
  },
  {
   "cell_type": "code",
   "execution_count": 9,
   "metadata": {},
   "outputs": [
    {
     "data": {
      "image/png": "[encoded data removed]",
      "text/plain": [
       "<Figure size 800x600 with 1 Axes>"
      ]
     },
     "metadata": {},
     "output_type": "display_data"
    }
   ],
   "source": [
    "N = 100\n",
    "\n",
    "X, Y = make_classification(n_samples=N, n_features=2, n_informative=2, n_redundant=0, \n",
    "                           n_classes=3, n_clusters_per_class=1, random_state=2024)\n",
    "\n",
    "\n",
    "# Create a scatter plot with different symbols for each class\n",
    "plt.figure(figsize=(8, 6))\n",
    "\n",
    "# Define different markers for each class\n",
    "markers = ['o', 's', 'D']\n",
    "colors = ['red', 'blue', 'green']\n",
    "\n",
    "# Plot each class with a different marker\n",
    "for label, marker, color in zip(np.unique(Y), markers, colors):\n",
    "    plt.scatter(X[Y == label, 0], X[Y == label, 1], label=f'Class {label}', marker=marker, color=color, edgecolor='k')\n",
    "\n",
    "# Add labels and a legend\n",
    "plt.title('Synthetic Classification Dataset with 3 Classes')\n",
    "plt.xlabel(r'$x_1$')\n",
    "plt.ylabel(r'$x_2$')\n",
    "plt.legend()\n",
    "plt.grid(True)\n",
    "plt.show()"
   ]
  },
  {
   "cell_type": "markdown",
   "metadata": {},
   "source": [
    "Online prediction using one nearest neighbours"
   ]
  },
  {
   "cell_type": "code",
   "execution_count": 10,
   "metadata": {},
   "outputs": [
    {
     "data": {
      "application/vnd.jupyter.widget-view+json": {
       "model_id": "5733c5f3132c40cb9213dad61f0216cb",
       "version_major": 2,
       "version_minor": 0
      },
      "text/plain": [
       "Running online conformal prediction:   0%|          | 0/100 [00:00<?, ?it/s]"
      ]
     },
     "metadata": {},
     "output_type": "display_data"
    },
    {
     "name": "stdout",
     "output_type": "stream",
     "text": [
      "Neighbours: 1\n",
      "Average error: 0.13\n",
      "Average observed excess: 0.15\n",
      "Average observed fuzziness: 0.07935693987972134\n"
     ]
    }
   ],
   "source": [
    "epsilon = 0.1\n",
    "k = 1\n",
    "cp = ConformalNearestNeighboursClassifier(k=k, label_space=np.unique(Y))\n",
    "for i, (object, label) in tqdm(enumerate(zip(X, Y)), total=Y.shape[0], desc='Running online conformal prediction'):\n",
    "\n",
    "    # Reality outputs object\n",
    "    x = object\n",
    "\n",
    "    # Forecaster outputs prediction set\n",
    "    Gamma, p_values, D = cp.predict(x, epsilon=epsilon, return_p_values=True, return_update=True)\n",
    "\n",
    "    # Reality outputs label\n",
    "    y = label\n",
    "\n",
    "    # Check error\n",
    "    cp.err(Gamma, label)\n",
    "\n",
    "    # Learn the label\n",
    "    cp.learn_one(object, y, D)\n",
    "    \n",
    "    # Prefferred efficiency criteria\n",
    "\n",
    "    # Observed excess\n",
    "    cp.oe(Gamma, y)\n",
    "\n",
    "    # Observed fuzziness\n",
    "    cp.of(p_values, y)\n",
    "\n",
    "print(f'Neighbours: {k}')\n",
    "print(f'Average error: {cp.Err/Y.shape[0]}')\n",
    "print(f'Average observed excess: {cp.OE/Y.shape[0]}')\n",
    "print(f'Average observed fuzziness: {cp.OF/Y.shape[0]}')"
   ]
  },
  {
   "cell_type": "markdown",
   "metadata": {},
   "source": [
    "And 5 nearest neighbours"
   ]
  },
  {
   "cell_type": "code",
   "execution_count": 11,
   "metadata": {},
   "outputs": [
    {
     "data": {
      "application/vnd.jupyter.widget-view+json": {
       "model_id": "7535e377d6be42acab4e8d8e3bd29b6a",
       "version_major": 2,
       "version_minor": 0
      },
      "text/plain": [
       "Running online conformal prediction:   0%|          | 0/100 [00:00<?, ?it/s]"
      ]
     },
     "metadata": {},
     "output_type": "display_data"
    },
    {
     "name": "stdout",
     "output_type": "stream",
     "text": [
      "Neighbours: 3\n",
      "Average error: 0.1\n",
      "Average observed excess: 0.18\n",
      "Average observed fuzziness: 0.09046277189079367\n"
     ]
    }
   ],
   "source": [
    "epsilon = 0.1\n",
    "k = 3\n",
    "cp = ConformalNearestNeighboursClassifier(k=k, label_space=np.unique(Y))\n",
    "for i, (object, label) in tqdm(enumerate(zip(X, Y)), total=Y.shape[0], desc='Running online conformal prediction'):\n",
    "\n",
    "    # Reality outputs object\n",
    "    x = object\n",
    "\n",
    "    # Forecaster outputs prediction set\n",
    "    Gamma, p_values = cp.predict(x, epsilon=epsilon, return_p_values=True)\n",
    "\n",
    "    # Reality outputs label\n",
    "    y = label\n",
    "\n",
    "    # Check error\n",
    "    cp.err(Gamma, label)\n",
    "\n",
    "    # Learn the label\n",
    "    cp.learn_one(object, y)\n",
    "    \n",
    "    # Prefferred efficiency criteria\n",
    "\n",
    "    # Observed excess\n",
    "    cp.oe(Gamma, y)\n",
    "\n",
    "    # Observed fuzziness\n",
    "    cp.of(p_values, y)\n",
    "\n",
    "print(f'Neighbours: {k}')\n",
    "print(f'Average error: {cp.Err/Y.shape[0]}')\n",
    "print(f'Average observed excess: {cp.OE/Y.shape[0]}')\n",
    "print(f'Average observed fuzziness: {cp.OF/Y.shape[0]}')"
   ]
  }
 ],
 "metadata": {
  "kernelspec": {
   "display_name": "onlineCP",
   "language": "python",
   "name": "python3"
  },
  "language_info": {
   "codemirror_mode": {
    "name": "ipython",
    "version": 3
   },
   "file_extension": ".py",
   "mimetype": "text/x-python",
   "name": "python",
   "nbconvert_exporter": "python",
   "pygments_lexer": "ipython3",
   "version": "3.11.9"
  }
 },
 "nbformat": 4,
 "nbformat_minor": 2
}
