{
 "cells": [
  {
   "cell_type": "code",
   "execution_count": 4,
   "metadata": {},
   "outputs": [],
   "source": [
    "import numpy as np\n",
    "rnd_gen = np.random.default_rng(2024)\n",
    "from tqdm.notebook import tqdm\n",
    "import matplotlib.pyplot as plt\n",
    "\n",
    "from oncp.CPS import NearestNeighboursPredictionMachine"
   ]
  },
  {
   "cell_type": "code",
   "execution_count": 5,
   "metadata": {},
   "outputs": [],
   "source": [
    "X = rnd_gen.normal(loc=0, scale=1, size=(1000, 4))\n",
    "beta = np.array([2, 1, 0, 0])\n",
    "Y = X @ beta + rnd_gen.normal(loc=0, scale=1, size=1000)"
   ]
  },
  {
   "cell_type": "code",
   "execution_count": null,
   "metadata": {},
   "outputs": [
    {
     "ename": "ModuleNotFoundError",
     "evalue": "No module named 'martingale'",
     "output_type": "error",
     "traceback": [
      "\u001b[0;31m---------------------------------------------------------------------------\u001b[0m",
      "\u001b[0;31mModuleNotFoundError\u001b[0m                       Traceback (most recent call last)",
      "Cell \u001b[0;32mIn[6], line 3\u001b[0m\n\u001b[1;32m      1\u001b[0m cps \u001b[38;5;241m=\u001b[39m NearestNeighboursPredictionMachine(k\u001b[38;5;241m=\u001b[39m\u001b[38;5;241m31\u001b[39m)\n\u001b[0;32m----> 3\u001b[0m \u001b[38;5;28;01mfrom\u001b[39;00m \u001b[38;5;21;01mmartingale\u001b[39;00m \u001b[38;5;28;01mimport\u001b[39;00m PluginMartingale\n\u001b[1;32m      5\u001b[0m martingale \u001b[38;5;241m=\u001b[39m PluginMartingale(warning_level\u001b[38;5;241m=\u001b[39m\u001b[38;5;241m100\u001b[39m)\n\u001b[1;32m      7\u001b[0m epsilon \u001b[38;5;241m=\u001b[39m \u001b[38;5;241m0.1\u001b[39m\n",
      "\u001b[0;31mModuleNotFoundError\u001b[0m: No module named 'martingale'"
     ]
    }
   ],
   "source": [
    "cps = NearestNeighboursPredictionMachine(k=31)\n",
    "\n",
    "from oncp.martingale import PluginMartingale\n",
    "\n",
    "martingale = PluginMartingale(warning_level=100)\n",
    "\n",
    "epsilon = 0.1\n",
    "\n",
    "Err = 0 \n",
    "\n",
    "cps.learn_initial_training_set(X[:int(np.ceil(2/epsilon))], Y[:int(np.ceil(2/epsilon))])\n",
    "\n",
    "res = np.zeros(shape=(980, 8))\n",
    "\n",
    "for i, (object, label) in tqdm(enumerate(zip(X[int(np.ceil(2/epsilon)):], Y[int(np.ceil(2/epsilon)):])), total=980, desc='Running online conformal prediction'):\n",
    "    # Reality outputs object and a random number tau\n",
    "    tau = rnd_gen.uniform(0, 1)\n",
    "\n",
    "    # Forecaster outputs a conformal predictive distribution\n",
    "    cpd, precomputed = cps.predict_cpd(x=object, return_update=True) # We return the precomputed update for later use\n",
    "    \n",
    "    # Which can be used to compute a prediction set\n",
    "    Gamma = cpd.predict_set(tau=tau, epsilon=epsilon)\n",
    "\n",
    "    # And perhaps the median is interesting too\n",
    "    median = cpd.quantile(0.5, tau=tau)\n",
    "\n",
    "    # Reality outputs label\n",
    "\n",
    "    # Observe error\n",
    "    err = cpd.err(Gamma=Gamma, y=label)\n",
    "    Err += err\n",
    "\n",
    "    # Learn new object\n",
    "    cps.learn_one(x=object, y=label, precomputed=precomputed) # We pass precomputed as an argument to avoid redundant computations\n",
    "\n",
    "    # Compute p-value\n",
    "    p = cpd(y=label, tau=tau) # We pass precomputed as an argument to avoid redundant computations\n",
    "\n",
    "    # Update martingale\n",
    "    martingale.update_log_martingale(p)\n",
    "\n",
    "    res[i, 0] = Gamma[0]\n",
    "    res[i, 1] = Gamma[1]\n",
    "    res[i, 2] = label\n",
    "    res[i, 3] = err\n",
    "    res[i, 4] = Err\n",
    "    res[i, 5] = cpd.width(Gamma)\n",
    "    res[i, 6] = martingale.logM\n",
    "    res[i, 7] = median\n",
    "\n",
    "print(f'Error rate: {Err/980}')\n",
    "print(f'Maximum martingale value: {martingale.max}')\n",
    "\n",
    "fig, axs = plt.subplots(ncols=2, nrows=2, figsize=(8,8))\n",
    "axs[0,0].plot(res[:, 2], label='Truth')\n",
    "axs[0,0].fill_between(\n",
    "    x=[i for i in range(980)],\n",
    "    y1=res[:, 0],\n",
    "    y2=res[:, 1],\n",
    "    color='C2',\n",
    "    alpha=0.7,\n",
    "    label='Prediction'\n",
    ")\n",
    "axs[0,0].legend()\n",
    "\n",
    "axs[0,1].plot(res[:,6], label='Log Martingale')\n",
    "axs[0,1].legend()\n",
    "\n",
    "axs[1,0].plot(res[:, 4], label='Cummulative error')\n",
    "axs[1,0].legend()\n",
    "\n",
    "axs[1,1].plot(res[:, 5], label='Width')\n",
    "axs[1,1].legend()"
   ]
  },
  {
   "cell_type": "code",
   "execution_count": null,
   "metadata": {},
   "outputs": [
    {
     "data": {
      "text/plain": [
       "<matplotlib.lines.Line2D at 0x7cab3f546dd0>"
      ]
     },
     "execution_count": 19,
     "metadata": {},
     "output_type": "execute_result"
    },
    {
     "data": {
      "image/png": "[encoded data removed]",
      "text/plain": [
       "<Figure size 640x480 with 1 Axes>"
      ]
     },
     "metadata": {},
     "output_type": "display_data"
    }
   ],
   "source": [
    "yrange = np.linspace(-7, 7, num=1000, endpoint=True)\n",
    "plt.plot(\n",
    "    yrange,\n",
    "    [cpd(y=y, tau=tau) for y in yrange]\n",
    ")\n",
    "plt.axhline(cpd(y=label, tau=tau))\n",
    "plt.axvline(cpd.quantile(quantile=0.95, tau=tau))\n",
    "plt.axvline(cpd.quantile(quantile=0.05, tau=tau))"
   ]
  }
 ],
 "metadata": {
  "kernelspec": {
   "display_name": "onlineCP",
   "language": "python",
   "name": "python3"
  },
  "language_info": {
   "codemirror_mode": {
    "name": "ipython",
    "version": 3
   },
   "file_extension": ".py",
   "mimetype": "text/x-python",
   "name": "python",
   "nbconvert_exporter": "python",
   "pygments_lexer": "ipython3",
   "version": "3.11.9"
  }
 },
 "nbformat": 4,
 "nbformat_minor": 2
}
