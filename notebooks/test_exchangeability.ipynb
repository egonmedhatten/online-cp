{
 "cells": [
  {
   "cell_type": "code",
   "execution_count": null,
   "metadata": {},
   "outputs": [],
   "source": [
    "import numpy as np\n",
    "from online_cp import ConformalRidgeRegressor\n",
    "\n",
    "cp = ConformalRidgeRegressor()"
   ]
  },
  {
   "cell_type": "code",
   "execution_count": null,
   "metadata": {},
   "outputs": [],
   "source": [
    "N = 150\n",
    "mu0 = 0\n",
    "mu1 = 1\n",
    "X0 = np.random.uniform(0, 1, (N, 2))\n",
    "y0 = X0.sum(axis=1) + np.random.normal(mu0, 0.1, N) # Gaussian noise wiht zero mean and variance 0.1\n",
    "X1 = np.random.uniform(0, 1, (N, 2))\n",
    "y1 = X1.sum(axis=1) + np.random.normal(mu1, 0.1, N) # Gaussian noise wiht 0.1 mean and variance 0.1\n",
    "\n",
    "X = np.vstack([X0, X1])\n",
    "y = np.hstack([y0, y1])"
   ]
  },
  {
   "cell_type": "code",
   "execution_count": null,
   "metadata": {},
   "outputs": [],
   "source": [
    "from online_cp import ConformalRidgeRegressor\n",
    "from online_cp import PluginMartingale\n",
    "\n",
    "ridge_a = 1\n",
    "cp = ConformalRidgeRegressor(a=ridge_a)\n",
    "\n",
    "martingale = PluginMartingale()\n",
    "\n",
    "p_values = []\n",
    "martingale_values = []\n",
    "\n",
    "for i, (obj, lab) in enumerate(zip(X, y)):\n",
    "    p = cp.compute_p_value(obj, lab)\n",
    "    p_values.append(p)\n",
    "    cp.learn_one(obj, lab)\n",
    "    martingale.update_martingale_value(p)\n",
    "    martingale_values.append(martingale.logM)"
   ]
  },
  {
   "cell_type": "code",
   "execution_count": null,
   "metadata": {},
   "outputs": [],
   "source": [
    "import matplotlib.pyplot as plt\n",
    "plt.plot(martingale_values)"
   ]
  },
  {
   "cell_type": "code",
   "execution_count": null,
   "metadata": {},
   "outputs": [],
   "source": [
    "from online_cp.regressors import KernelConformalRidgeRegressor\n",
    "from online_cp.kernels import LinearKernel, GaussianKernel\n",
    "from online_cp import PluginMartingale\n",
    "\n",
    "ker = GaussianKernel(1)\n",
    "\n",
    "kernel_a = 1\n",
    "cp = KernelConformalRidgeRegressor(a=kernel_a, kernel=ker)\n",
    "\n",
    "martingale = PluginMartingale()\n",
    "\n",
    "p_values = []\n",
    "martingale_values_kernel = []\n",
    "\n",
    "for i, (obj, lab) in enumerate(zip(X, y)):\n",
    "    p = cp.compute_p_value(obj, lab)\n",
    "    p_values.append(p)\n",
    "    cp.learn_one(obj, lab)\n",
    "    martingale.update_martingale_value(p)\n",
    "    martingale_values_kernel.append(martingale.logM)"
   ]
  },
  {
   "cell_type": "code",
   "execution_count": null,
   "metadata": {},
   "outputs": [],
   "source": [
    "import matplotlib.pyplot as plt\n",
    "plt.plot(martingale_values_kernel)"
   ]
  },
  {
   "cell_type": "code",
   "execution_count": null,
   "metadata": {},
   "outputs": [],
   "source": [
    "plt.plot(martingale_values, label=f'Ridge: a={ridge_a}')\n",
    "plt.plot(martingale_values_kernel, label=f'KernelRidge: a={kernel_a}, kernel={ker.name}')\n",
    "plt.legend()"
   ]
  }
 ],
 "metadata": {
  "kernelspec": {
   "display_name": "onlineCP",
   "language": "python",
   "name": "python3"
  },
  "language_info": {
   "codemirror_mode": {
    "name": "ipython",
    "version": 3
   },
   "file_extension": ".py",
   "mimetype": "text/x-python",
   "name": "python",
   "nbconvert_exporter": "python",
   "pygments_lexer": "ipython3",
   "version": "3.11.9"
  }
 },
 "nbformat": 4,
 "nbformat_minor": 2
}
