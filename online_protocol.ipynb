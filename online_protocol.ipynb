{
 "cells": [
  {
   "cell_type": "code",
   "execution_count": 6,
   "metadata": {},
   "outputs": [],
   "source": [
    "from sklearn.datasets import fetch_openml\n",
    "import numpy as np\n",
    "from tqdm.notebook import tqdm\n",
    "import matplotlib.pyplot as plt\n",
    "\n",
    "def unison_shuffled_copies(a, b):\n",
    "    assert len(a) == len(b)\n",
    "    p = np.random.permutation(len(a))\n",
    "    return a[p], b[p]\n",
    "\n",
    "# dataset = fetch_openml(name=\"California-Housing-Classification\", parser=\"auto\")\n",
    "# low_class_name = 'False'\n",
    "# high_class_name = 'True'\n",
    "\n",
    "dataset = fetch_openml(name=\"spambase\", parser=\"auto\")\n",
    "low_class_name = '0'\n",
    "high_class_name = '1'\n",
    "\n",
    "# Really, we should shuffle the data to be on the safe side\n",
    "X = dataset.data.values.astype(float)\n",
    "Y = dataset.target.to_numpy()\n",
    "Y = (Y == high_class_name).astype(int) - (Y == low_class_name).astype(int)\n",
    "\n",
    "X, Y = unison_shuffled_copies(X, Y)\n",
    "\n",
    "N = 1000\n",
    "X = X[:N]\n",
    "Y = Y[:N]"
   ]
  },
  {
   "cell_type": "code",
   "execution_count": 7,
   "metadata": {},
   "outputs": [
    {
     "data": {
      "application/vnd.jupyter.widget-view+json": {
       "model_id": "71f9fce4c9a745b3b84f76fca0da4184",
       "version_major": 2,
       "version_minor": 0
      },
      "text/plain": [
       "  0%|          | 0/1000 [00:00<?, ?it/s]"
      ]
     },
     "metadata": {},
     "output_type": "display_data"
    },
    {
     "name": "stderr",
     "output_type": "stream",
     "text": [
      "/home/johan/Documents/PhD/PREMACOP/OnlineConformalPrediction/classifiers.py:373: RuntimeWarning: divide by zero encountered in divide\n",
      "  Alpha = np.nan_to_num(same_label_distances / different_label_distances, nan=np.inf)\n",
      "/home/johan/Documents/PhD/PREMACOP/OnlineConformalPrediction/classifiers.py:373: RuntimeWarning: invalid value encountered in divide\n",
      "  Alpha = np.nan_to_num(same_label_distances / different_label_distances, nan=np.inf)\n"
     ]
    }
   ],
   "source": [
    "from classifiers import ConformalPassiveAggressive, OnlineConfidencePrediction, ConformalOneNearestNeighbours, ConformalPassiveAggressive_I\n",
    "\n",
    "# cp = ConformalPassiveAggressive(X.shape[1])\n",
    "# cp = ConformalPassiveAggressive_I(X.shape[1], 0.001)\n",
    "cp = ConformalOneNearestNeighbours()\n",
    "\n",
    "\n",
    "Epsilon = np.linspace(0.05, 0.5, num=10, endpoint=True)\n",
    "protocol = OnlineConfidencePrediction(cp, Epsilon)\n",
    "\n",
    "for i, (x, y) in tqdm(enumerate(zip(X, Y)), total=X.shape[0]):\n",
    "    # Reality revieals x\n",
    "    # Predictor predicts set and p-values\n",
    "    p_values = protocol.predict_p(x)\n",
    "    Gammas = protocol.compute_Gamma(p_values)\n",
    "\n",
    "    # Reality revieals y\n",
    "    protocol.learn_one(x, y)\n",
    "\n",
    "    # Update metrics\n",
    "    protocol.update_metrics(p_values, Gammas, y)\n",
    "\n",
    "\n"
   ]
  },
  {
   "cell_type": "code",
   "execution_count": 8,
   "metadata": {},
   "outputs": [
    {
     "name": "stdout",
     "output_type": "stream",
     "text": [
      "Observed average Error\n",
      "0.05: 0.053\n",
      "0.1: 0.103\n",
      "0.15000000000000002: 0.153\n",
      "0.2: 0.202\n",
      "0.25: 0.26\n",
      "0.3: 0.314\n",
      "0.35000000000000003: 0.352\n",
      "0.4: 0.397\n",
      "0.45: 0.44\n",
      "0.5: 0.498\n"
     ]
    }
   ],
   "source": [
    "print('Observed average Error')\n",
    "for epsilon, Err in protocol.Err.items():\n",
    "    print(f'{epsilon}: {Err / Y.shape[0]}')"
   ]
  },
  {
   "cell_type": "code",
   "execution_count": 9,
   "metadata": {},
   "outputs": [
    {
     "name": "stdout",
     "output_type": "stream",
     "text": [
      "Average Observed Excess\n",
      "0.05: 0.741\n",
      "0.1: 0.614\n",
      "0.15000000000000002: 0.516\n",
      "0.2: 0.422\n",
      "0.25: 0.341\n",
      "0.3: 0.288\n",
      "0.35000000000000003: 0.243\n",
      "0.4: 0.205\n",
      "0.45: 0.182\n",
      "0.5: 0.158\n"
     ]
    }
   ],
   "source": [
    "print('Average Observed Excess')\n",
    "for epsilon, Err in protocol.OE.items():\n",
    "    print(f'{epsilon}: {Err / Y.shape[0]}')"
   ]
  },
  {
   "cell_type": "code",
   "execution_count": 10,
   "metadata": {},
   "outputs": [
    {
     "data": {
      "text/plain": [
       "234.40546753304596"
      ]
     },
     "execution_count": 10,
     "metadata": {},
     "output_type": "execute_result"
    }
   ],
   "source": [
    "protocol.OF"
   ]
  }
 ],
 "metadata": {
  "kernelspec": {
   "display_name": "onlineCP",
   "language": "python",
   "name": "python3"
  },
  "language_info": {
   "codemirror_mode": {
    "name": "ipython",
    "version": 3
   },
   "file_extension": ".py",
   "mimetype": "text/x-python",
   "name": "python",
   "nbconvert_exporter": "python",
   "pygments_lexer": "ipython3",
   "version": "3.11.9"
  }
 },
 "nbformat": 4,
 "nbformat_minor": 2
}
