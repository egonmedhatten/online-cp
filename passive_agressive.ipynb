{
 "cells": [
  {
   "cell_type": "code",
   "execution_count": 1,
   "metadata": {},
   "outputs": [],
   "source": [
    "from sklearn.datasets import fetch_openml\n",
    "import numpy as np\n",
    "from tqdm.notebook import tqdm\n",
    "import matplotlib.pyplot as plt"
   ]
  },
  {
   "cell_type": "code",
   "execution_count": 2,
   "metadata": {},
   "outputs": [],
   "source": [
    "def unison_shuffled_copies(a, b):\n",
    "    assert len(a) == len(b)\n",
    "    p = np.random.permutation(len(a))\n",
    "    return a[p], b[p]"
   ]
  },
  {
   "cell_type": "code",
   "execution_count": 3,
   "metadata": {},
   "outputs": [],
   "source": [
    "# dataset = fetch_openml(name=\"California-Housing-Classification\", parser=\"auto\")\n",
    "# low_class_name = 'False'\n",
    "# high_class_name = 'True'\n",
    "\n",
    "dataset = fetch_openml(name=\"spambase\", parser=\"auto\")\n",
    "low_class_name = '0'\n",
    "high_class_name = '1'\n",
    "\n",
    "# Really, we should shuffle the data to be on the safe side\n",
    "X = dataset.data.values.astype(float)\n",
    "Y = dataset.target.to_numpy()\n",
    "Y = (Y == high_class_name).astype(int) - (Y == low_class_name).astype(int)\n",
    "\n",
    "X, Y = unison_shuffled_copies(X, Y)\n",
    "\n",
    "N = 1000\n",
    "X = X[:N]\n",
    "Y = Y[:N]"
   ]
  },
  {
   "cell_type": "markdown",
   "metadata": {},
   "source": [
    "# Conformal test"
   ]
  },
  {
   "cell_type": "code",
   "execution_count": 4,
   "metadata": {},
   "outputs": [
    {
     "data": {
      "application/vnd.jupyter.widget-view+json": {
       "model_id": "8163fa8212e6423cb730474d3cd4f935",
       "version_major": 2,
       "version_minor": 0
      },
      "text/plain": [
       "  0%|          | 0/1000 [00:00<?, ?it/s]"
      ]
     },
     "metadata": {},
     "output_type": "display_data"
    },
    {
     "name": "stdout",
     "output_type": "stream",
     "text": [
      "epsilon: 0.1\n",
      "Err: 0.098\n",
      "OE: 0.899\n",
      "OF: 0.4972895245176404\n",
      "Avg size: 1.801\n"
     ]
    }
   ],
   "source": [
    "from classifiers import ConformalPassiveAggressive, ConformalPassiveAggressive_I, ConformalPassiveAggressive_II, ConformalOneNearestNeighbours\n",
    "from martingale import PluginMartingale\n",
    "\n",
    "cp = ConformalPassiveAggressive(X.shape[1])\n",
    "# cp = ConformalOneNearestNeighbours()\n",
    "martingale = PluginMartingale()\n",
    "\n",
    "p_vals = []\n",
    "\n",
    "sizes = []\n",
    "\n",
    "epsilon = 0.1\n",
    "\n",
    "for i, (x, y) in tqdm(enumerate(zip(X, Y)), total=X.shape[0]):\n",
    "    Gamma, p_values = cp.predict_set(x, epsilon=epsilon, return_p_values=True)\n",
    "\n",
    "    cp.learn_one(x, y)\n",
    "    cp.err(Gamma, y)\n",
    "    cp.oe(Gamma, y)\n",
    "    cp.of(p_values, y)\n",
    "\n",
    "    sizes.append(Gamma.shape[0])\n",
    "\n",
    "    if y == 1:\n",
    "        p_vals.append(p_values[1])\n",
    "        # martingale.update_log_martingale(p_values[1])\n",
    "    else:\n",
    "        p_vals.append(p_values[-1])\n",
    "        # martingale.update_log_martingale(p_values[-1])\n",
    "\n",
    "print(f'epsilon: {epsilon}')\n",
    "print(f'Err: {cp.Err / cp.y.shape[0]}')\n",
    "print(f'OE: {cp.OE / cp.y.shape[0]}')\n",
    "print(f'OF: {cp.OF / cp.y.shape[0]}')\n",
    "print(f'Avg size: {np.mean(sizes)}')"
   ]
  }
 ],
 "metadata": {
  "kernelspec": {
   "display_name": "onlineCP",
   "language": "python",
   "name": "python3"
  },
  "language_info": {
   "codemirror_mode": {
    "name": "ipython",
    "version": 3
   },
   "file_extension": ".py",
   "mimetype": "text/x-python",
   "name": "python",
   "nbconvert_exporter": "python",
   "pygments_lexer": "ipython3",
   "version": "3.11.9"
  }
 },
 "nbformat": 4,
 "nbformat_minor": 2
}
