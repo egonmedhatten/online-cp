{
 "cells": [
  {
   "cell_type": "code",
   "execution_count": 14,
   "metadata": {},
   "outputs": [],
   "source": [
    "import numpy as np\n",
    "import matplotlib.pyplot as plt\n",
    "\n",
    "N = 100\n",
    "np.random.seed(1)\n",
    "X = np.random.uniform(0, 2*np.pi, (N,4))\n",
    "y = np.sin(X[:,0] + X[:,1]) + np.random.normal(0, 0.1, N) "
   ]
  },
  {
   "cell_type": "code",
   "execution_count": 15,
   "metadata": {},
   "outputs": [],
   "source": [
    "def kernel(x_i,x_j):\n",
    "    # return np.dot(x_j,x_i) # Linear Kernel, same as not using Kernels at all\n",
    "    # return np.dot(x_j,x_i)**2 # Polynomial Kernel\n",
    "    return np.exp(-0.5*np.linalg.norm(x_i-x_j)) # Gaussian Kernel\n",
    "\n",
    "# We could just call the kernel function every time\n",
    "# Instead we store the solutions in this matrix\n",
    "# to save some computations\n",
    "K = np.zeros((X.shape[0],X.shape[0]))\n",
    "for i, row in enumerate(K):\n",
    "    for j, col in enumerate(K.T):\n",
    "        K[i,j]=kernel(X[i,:],X[j,:])"
   ]
  },
  {
   "cell_type": "code",
   "execution_count": 16,
   "metadata": {},
   "outputs": [],
   "source": [
    "from kernels import RBF\n",
    "ker = RBF(1)\n",
    "K2 = ker(X)"
   ]
  },
  {
   "cell_type": "code",
   "execution_count": 17,
   "metadata": {},
   "outputs": [
    {
     "data": {
      "text/plain": [
       "array([[1.        , 0.10751204, 0.15360609, ..., 0.11719949, 0.03496241,\n",
       "        0.16899852],\n",
       "       [0.10751204, 1.        , 0.12699465, ..., 0.14158969, 0.12416919,\n",
       "        0.08246242],\n",
       "       [0.15360609, 0.12699465, 1.        , ..., 0.27152396, 0.16599782,\n",
       "        0.42531818],\n",
       "       ...,\n",
       "       [0.11719949, 0.14158969, 0.27152396, ..., 1.        , 0.1254418 ,\n",
       "        0.16950826],\n",
       "       [0.03496241, 0.12416919, 0.16599782, ..., 0.1254418 , 1.        ,\n",
       "        0.08308055],\n",
       "       [0.16899852, 0.08246242, 0.42531818, ..., 0.16950826, 0.08308055,\n",
       "        1.        ]])"
      ]
     },
     "execution_count": 17,
     "metadata": {},
     "output_type": "execute_result"
    }
   ],
   "source": [
    "K"
   ]
  },
  {
   "cell_type": "code",
   "execution_count": 18,
   "metadata": {},
   "outputs": [
    {
     "data": {
      "text/plain": [
       "array([[1.00000000e+00, 4.78633783e-05, 8.94734219e-04, ...,\n",
       "        1.01807857e-04, 1.70603269e-10, 1.79704777e-03],\n",
       "       [4.78633783e-05, 1.00000000e+00, 2.00043649e-04, ...,\n",
       "        4.79552451e-04, 1.65968664e-04, 3.90142590e-06],\n",
       "       [8.94734219e-04, 2.00043649e-04, 1.00000000e+00, ...,\n",
       "        3.33968789e-02, 1.58106578e-03, 2.31825896e-01],\n",
       "       ...,\n",
       "       [1.01807857e-04, 4.79552451e-04, 3.33968789e-02, ...,\n",
       "        1.00000000e+00, 1.80671053e-04, 1.83591754e-03],\n",
       "       [1.70603269e-10, 1.65968664e-04, 1.58106578e-03, ...,\n",
       "        1.80671053e-04, 1.00000000e+00, 4.20289173e-06],\n",
       "       [1.79704777e-03, 3.90142590e-06, 2.31825896e-01, ...,\n",
       "        1.83591754e-03, 4.20289173e-06, 1.00000000e+00]])"
      ]
     },
     "execution_count": 18,
     "metadata": {},
     "output_type": "execute_result"
    }
   ],
   "source": [
    "K2"
   ]
  },
  {
   "cell_type": "code",
   "execution_count": 19,
   "metadata": {},
   "outputs": [
    {
     "data": {
      "text/plain": [
       "array([[2.62022653e+00, 4.52593227e+00, 7.18638172e-04, 1.89961158e+00]])"
      ]
     },
     "execution_count": 19,
     "metadata": {},
     "output_type": "execute_result"
    }
   ],
   "source": [
    "np.atleast_2d(X[0,:])"
   ]
  },
  {
   "cell_type": "code",
   "execution_count": 20,
   "metadata": {},
   "outputs": [],
   "source": [
    "k = ker(X, np.array([0.2, 0.8, 0.3, 0.1])).reshape(-1,1)"
   ]
  },
  {
   "cell_type": "code",
   "execution_count": 21,
   "metadata": {},
   "outputs": [],
   "source": [
    "x = np.array([0.2, 0.8, 0.3, 0.1])\n",
    "kappa = ker(x,x)"
   ]
  },
  {
   "cell_type": "code",
   "execution_count": 22,
   "metadata": {},
   "outputs": [
    {
     "data": {
      "text/plain": [
       "array([[1.00000000e+00, 1.07512039e-01, 1.53606092e-01, ...,\n",
       "        3.49624099e-02, 1.68998523e-01, 9.79029008e-06],\n",
       "       [1.07512039e-01, 1.00000000e+00, 1.26994652e-01, ...,\n",
       "        1.24169191e-01, 8.24624173e-02, 6.02912392e-02],\n",
       "       [1.53606092e-01, 1.26994652e-01, 1.00000000e+00, ...,\n",
       "        1.65997819e-01, 4.25318182e-01, 2.41923404e-08],\n",
       "       ...,\n",
       "       [3.49624099e-02, 1.24169191e-01, 1.65997819e-01, ...,\n",
       "        1.00000000e+00, 8.30805458e-02, 7.61337035e-10],\n",
       "       [1.68998523e-01, 8.24624173e-02, 4.25318182e-01, ...,\n",
       "        8.30805458e-02, 1.00000000e+00, 2.68177366e-09],\n",
       "       [9.79029008e-06, 6.02912392e-02, 2.41923404e-08, ...,\n",
       "        7.61337035e-10, 2.68177366e-09, 1.00000000e+00]])"
      ]
     },
     "execution_count": 22,
     "metadata": {},
     "output_type": "execute_result"
    }
   ],
   "source": [
    "np.block([[K, k], [k.T, kappa]])"
   ]
  },
  {
   "cell_type": "code",
   "execution_count": 27,
   "metadata": {},
   "outputs": [],
   "source": [
    "from CRR import KernelConformalRidgeRegressor\n",
    "from kernels import RBF\n",
    "\n",
    "kernel = RBF(1)\n",
    "\n",
    "cp = KernelConformalRidgeRegressor(a=1, kernel=kernel)\n",
    "for i, (obj, lab) in enumerate(zip(X, y)):\n",
    "    cp.predict(x, epsilon=0.1)\n",
    "    cp.learn_one(obj, lab)"
   ]
  },
  {
   "cell_type": "code",
   "execution_count": 28,
   "metadata": {},
   "outputs": [
    {
     "data": {
      "text/plain": [
       "False"
      ]
     },
     "execution_count": 28,
     "metadata": {},
     "output_type": "execute_result"
    }
   ],
   "source": [
    "np.allclose(cp.Kinv @ cp.K, np.identity(cp.K.shape[0]))"
   ]
  }
 ],
 "metadata": {
  "kernelspec": {
   "display_name": "onlineCP",
   "language": "python",
   "name": "python3"
  },
  "language_info": {
   "codemirror_mode": {
    "name": "ipython",
    "version": 3
   },
   "file_extension": ".py",
   "mimetype": "text/x-python",
   "name": "python",
   "nbconvert_exporter": "python",
   "pygments_lexer": "ipython3",
   "version": "3.11.9"
  }
 },
 "nbformat": 4,
 "nbformat_minor": 2
}
