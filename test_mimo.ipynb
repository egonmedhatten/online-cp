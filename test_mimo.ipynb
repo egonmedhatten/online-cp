{
 "cells": [
  {
   "cell_type": "code",
   "execution_count": 1,
   "metadata": {},
   "outputs": [],
   "source": [
    "import pandas as pd\n",
    "import numpy as np\n",
    "import matplotlib.pyplot as plt\n",
    "from CRR import MimoConformalRidgeRegressor\n",
    "from tqdm.notebook import tqdm"
   ]
  },
  {
   "cell_type": "code",
   "execution_count": 2,
   "metadata": {},
   "outputs": [],
   "source": [
    "N = 300\n",
    "p = 5\n",
    "np.random.seed(2024)\n",
    "X = np.random.uniform(-1, 1, (N, p))\n",
    "Y = np.array([X.sum(axis=1), X.sum(axis=1)]).T + np.random.normal(0, 0.1, (N, 2)) # Gaussian noise wiht zero mean and variance 0.1"
   ]
  },
  {
   "cell_type": "code",
   "execution_count": 3,
   "metadata": {},
   "outputs": [],
   "source": [
    "initial_training_size = int(X.shape[0]//2)\n",
    "\n",
    "X_train = X[:initial_training_size]\n",
    "y_train = Y[:initial_training_size]\n",
    "\n",
    "X_run = X[initial_training_size:]\n",
    "y_run = Y[initial_training_size:]"
   ]
  },
  {
   "cell_type": "code",
   "execution_count": 4,
   "metadata": {},
   "outputs": [
    {
     "data": {
      "application/vnd.jupyter.widget-view+json": {
       "model_id": "b4a59985092b42429ed59d0b9d84efee",
       "version_major": 2,
       "version_minor": 0
      },
      "text/plain": [
       "  0%|          | 0/150 [00:00<?, ?it/s]"
      ]
     },
     "metadata": {},
     "output_type": "display_data"
    }
   ],
   "source": [
    "cp = MimoConformalRidgeRegressor(a=1, h=2)\n",
    "\n",
    "cp.learn_initial_training_set(X_train[:-1], y_train[:-1])\n",
    "\n",
    "Err = np.zeros(2) # Record error at each hour\n",
    "\n",
    "for i, (obj, label) in tqdm(enumerate(zip(X_run, y_run)), total=y_run.shape[0]):\n",
    "    # Reality presents the object x\n",
    "    x = obj\n",
    "    # Forecaster outputs Gamma\n",
    "    Gamma= cp.predict(x, epsilon=0.1, bounds='both')\n",
    "    width = cp.width(Gamma)\n",
    "    # Reality presents the label\n",
    "    cp.learn_one(x, label) \n",
    "    err = cp.err(Gamma, label) # This is not realistic. We have to wait to get the true labels. \n",
    "    Err += err"
   ]
  },
  {
   "cell_type": "code",
   "execution_count": 5,
   "metadata": {},
   "outputs": [
    {
     "ename": "TypeError",
     "evalue": "MimoConformalRidgeRegressor.compute_A_and_B() missing 1 required positional argument: 'h'",
     "output_type": "error",
     "traceback": [
      "\u001b[0;31m---------------------------------------------------------------------------\u001b[0m",
      "\u001b[0;31mTypeError\u001b[0m                                 Traceback (most recent call last)",
      "Cell \u001b[0;32mIn[5], line 1\u001b[0m\n\u001b[0;32m----> 1\u001b[0m \u001b[43mcp\u001b[49m\u001b[38;5;241;43m.\u001b[39;49m\u001b[43mcompute_smoothed_p_value\u001b[49m\u001b[43m(\u001b[49m\u001b[43mx\u001b[49m\u001b[43m,\u001b[49m\u001b[43m \u001b[49m\u001b[43mlabel\u001b[49m\u001b[43m)\u001b[49m\n",
      "File \u001b[0;32m~/Documents/PhD/PREMACOP/OnlineConformalPrediction/CRR.py:393\u001b[0m, in \u001b[0;36mConformalRidgeRegressor.compute_smoothed_p_value\u001b[0;34m(self, x, y, precomputed)\u001b[0m\n\u001b[1;32m    391\u001b[0m     X \u001b[38;5;241m=\u001b[39m np\u001b[38;5;241m.\u001b[39mappend(\u001b[38;5;28mself\u001b[39m\u001b[38;5;241m.\u001b[39mX, x\u001b[38;5;241m.\u001b[39mreshape(\u001b[38;5;241m1\u001b[39m, \u001b[38;5;241m-\u001b[39m\u001b[38;5;241m1\u001b[39m), axis\u001b[38;5;241m=\u001b[39m\u001b[38;5;241m0\u001b[39m)\n\u001b[1;32m    392\u001b[0m     XTXinv \u001b[38;5;241m=\u001b[39m \u001b[38;5;28mself\u001b[39m\u001b[38;5;241m.\u001b[39mXTXinv \u001b[38;5;241m-\u001b[39m (\u001b[38;5;28mself\u001b[39m\u001b[38;5;241m.\u001b[39mXTXinv \u001b[38;5;241m@\u001b[39m np\u001b[38;5;241m.\u001b[39mouter(x, x) \u001b[38;5;241m@\u001b[39m \u001b[38;5;28mself\u001b[39m\u001b[38;5;241m.\u001b[39mXTXinv) \u001b[38;5;241m/\u001b[39m (\u001b[38;5;241m1\u001b[39m \u001b[38;5;241m+\u001b[39m x\u001b[38;5;241m.\u001b[39mT \u001b[38;5;241m@\u001b[39m \u001b[38;5;28mself\u001b[39m\u001b[38;5;241m.\u001b[39mXTXinv \u001b[38;5;241m@\u001b[39m x)\n\u001b[0;32m--> 393\u001b[0m     A, B \u001b[38;5;241m=\u001b[39m \u001b[38;5;28;43mself\u001b[39;49m\u001b[38;5;241;43m.\u001b[39;49m\u001b[43mcompute_A_and_B\u001b[49m\u001b[43m(\u001b[49m\u001b[43mX\u001b[49m\u001b[43m,\u001b[49m\u001b[43m \u001b[49m\u001b[43mXTXinv\u001b[49m\u001b[43m,\u001b[49m\u001b[43m \u001b[49m\u001b[38;5;28;43mself\u001b[39;49m\u001b[38;5;241;43m.\u001b[39;49m\u001b[43my\u001b[49m\u001b[43m)\u001b[49m\n\u001b[1;32m    394\u001b[0m     p_y \u001b[38;5;241m=\u001b[39m calc_p(A, B, y)\n\u001b[1;32m    396\u001b[0m \u001b[38;5;28;01melse\u001b[39;00m:\n",
      "\u001b[0;31mTypeError\u001b[0m: MimoConformalRidgeRegressor.compute_A_and_B() missing 1 required positional argument: 'h'"
     ]
    }
   ],
   "source": [
    "cp.compute_smoothed_p_value(x, label)"
   ]
  },
  {
   "cell_type": "code",
   "execution_count": null,
   "metadata": {},
   "outputs": [
    {
     "data": {
      "text/plain": [
       "array([0.092, 0.122])"
      ]
     },
     "execution_count": 6,
     "metadata": {},
     "output_type": "execute_result"
    }
   ],
   "source": [
    "Err / (i+1)"
   ]
  },
  {
   "cell_type": "markdown",
   "metadata": {},
   "source": [
    "All CPUs\n",
    "* No update: 4m 19.3s\n",
    "* With update: 4m 35.5s\n",
    "\n",
    "'Opt' CPUs:\n",
    "* No update: 4m 5.0s\n",
    "* With update: 3m 55.0s"
   ]
  }
 ],
 "metadata": {
  "kernelspec": {
   "display_name": "onlineCP",
   "language": "python",
   "name": "python3"
  },
  "language_info": {
   "codemirror_mode": {
    "name": "ipython",
    "version": 3
   },
   "file_extension": ".py",
   "mimetype": "text/x-python",
   "name": "python",
   "nbconvert_exporter": "python",
   "pygments_lexer": "ipython3",
   "version": "3.11.9"
  }
 },
 "nbformat": 4,
 "nbformat_minor": 2
}
