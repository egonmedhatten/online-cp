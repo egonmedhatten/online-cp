{
 "cells": [
  {
   "cell_type": "code",
   "execution_count": 3,
   "metadata": {},
   "outputs": [],
   "source": [
    "import numpy as np\n",
    "from scipy.stats import beta"
   ]
  },
  {
   "cell_type": "code",
   "execution_count": 43,
   "metadata": {},
   "outputs": [],
   "source": [
    "class BayesianBetaEstimator:\n",
    "    def __init__(self, prior_alpha=10, prior_beta=10):\n",
    "        self.alpha = prior_alpha\n",
    "        self.beta = prior_beta\n",
    "        self.n = 0  # Keep track of sample size\n",
    "\n",
    "    def update(self, x):\n",
    "        if not (0 <= x <= 1):\n",
    "            raise ValueError(\"Data points must be in the range [0, 1].\")\n",
    "        self.alpha += x\n",
    "        self.beta += (1 - x)\n",
    "        self.n += 1\n",
    "\n",
    "    def point_estimate(self, scale=2):\n",
    "        \"\"\"Estimate the parameters of the data-generating distribution.\"\"\"\n",
    "        total = self.alpha + self.beta\n",
    "        alpha_hat = (self.alpha / total) * scale\n",
    "        beta_hat = (self.beta / total) * scale\n",
    "        return alpha_hat, beta_hat\n",
    "\n",
    "    def get_posterior_params(self):\n",
    "        \"\"\"Get raw posterior parameters.\"\"\"\n",
    "        return self.alpha, self.beta\n",
    "    \n",
    "    def get_params(self, scale=2):\n",
    "        return self.point_estimate(scale=scale)\n",
    "    \n",
    "class OnlineBetaMOM:\n",
    "    def __init__(self, min_sample_size=20):\n",
    "        self.n = 0  # Number of observations\n",
    "        self.mean = 0.0  # Running mean\n",
    "        self.M2 = 0.0  # Sum of squared differences from the mean (for variance)\n",
    "        self.min_sample_size = min_sample_size\n",
    "    \n",
    "    def update(self, x):\n",
    "        \"\"\"\n",
    "        Update the running mean and variance with a new data point x.\n",
    "        \"\"\"\n",
    "        if x <= 0 or x >= 1:\n",
    "            raise ValueError(\"Data points must be in the range (0, 1).\")\n",
    "        \n",
    "        self.n += 1\n",
    "        delta = x - self.mean\n",
    "        self.mean += delta / self.n\n",
    "        delta2 = x - self.mean\n",
    "        self.M2 += delta * delta2  # Incremental update for variance\n",
    "\n",
    "    def get_mean_variance(self):\n",
    "        \"\"\"\n",
    "        Compute the current mean and sample variance.\n",
    "        \"\"\"\n",
    "        if self.n < 2:\n",
    "            return self.mean, float('nan')  # Variance undefined for n < 2\n",
    "        sample_variance = self.M2 / (self.n - 1)\n",
    "        return self.mean, sample_variance\n",
    "\n",
    "    def estimate_params(self):\n",
    "        \"\"\"\n",
    "        Estimate alpha and beta using the method of moments.\n",
    "        \"\"\"\n",
    "        mean, variance = self.get_mean_variance()\n",
    "        if self.n < self.min_sample_size or variance <= 0:\n",
    "            return 1.0, 1.0  # Parameters undefined, choose uniform as default\n",
    "        \n",
    "        common_factor = (mean * (1 - mean) / variance) - 1\n",
    "        alpha = mean * common_factor\n",
    "        beta = (1 - mean) * common_factor\n",
    "        return alpha, beta\n",
    "\n",
    "    def get_params(self):\n",
    "        return self.estimate_params()"
   ]
  },
  {
   "cell_type": "code",
   "execution_count": 70,
   "metadata": {},
   "outputs": [],
   "source": [
    "p_values = np.concatenate([np.random.uniform(0, 1, size=3000), np.random.beta(1, 2, size=3000)])"
   ]
  },
  {
   "cell_type": "code",
   "execution_count": 71,
   "metadata": {},
   "outputs": [
    {
     "name": "stdout",
     "output_type": "stream",
     "text": [
      "(0.8265861237991285, 1.1734138762008715)\n",
      "(0.9123651518970946, 1.2967298356691772)\n"
     ]
    }
   ],
   "source": [
    "bbe = BayesianBetaEstimator()\n",
    "bmom = OnlineBetaMOM()\n",
    "for p in p_values:\n",
    "    bbe.update(p)\n",
    "    bmom.update(p)\n",
    "print(bbe.get_params())\n",
    "print(bmom.get_params())"
   ]
  },
  {
   "cell_type": "code",
   "execution_count": 73,
   "metadata": {},
   "outputs": [
    {
     "name": "stdout",
     "output_type": "stream",
     "text": [
      "(0.8265861237991307, 1.1734138762008692)\n",
      "(0.9123651518970913, 1.296729835669172)\n"
     ]
    }
   ],
   "source": [
    "bbe = BayesianBetaEstimator()\n",
    "bmom = OnlineBetaMOM()\n",
    "for p in p_values[np.random.permutation(p_values.shape[0])]:    \n",
    "    bbe.update(p)\n",
    "    bmom.update(p)\n",
    "print(bbe.get_params())\n",
    "print(bmom.get_params())"
   ]
  },
  {
   "cell_type": "code",
   "execution_count": 74,
   "metadata": {},
   "outputs": [
    {
     "data": {
      "text/plain": [
       "(0.9339987845749813,\n",
       " 1.3030315412931242,\n",
       " 0.00040363596282244613,\n",
       " 1.0030119440994247)"
      ]
     },
     "execution_count": 74,
     "metadata": {},
     "output_type": "execute_result"
    }
   ],
   "source": [
    "beta.fit(p_values, loc=0, scale=1)"
   ]
  }
 ],
 "metadata": {
  "kernelspec": {
   "display_name": "onlineCP",
   "language": "python",
   "name": "python3"
  },
  "language_info": {
   "codemirror_mode": {
    "name": "ipython",
    "version": 3
   },
   "file_extension": ".py",
   "mimetype": "text/x-python",
   "name": "python",
   "nbconvert_exporter": "python",
   "pygments_lexer": "ipython3",
   "version": "3.11.9"
  }
 },
 "nbformat": 4,
 "nbformat_minor": 2
}
