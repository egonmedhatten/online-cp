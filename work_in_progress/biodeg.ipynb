{
 "cells": [
  {
   "cell_type": "code",
   "execution_count": 29,
   "id": "680f8d0e",
   "metadata": {},
   "outputs": [],
   "source": [
    "from sklearn.datasets import fetch_openml\n",
    "import numpy as np\n",
    "from tqdm.notebook import tqdm\n",
    "dataset = fetch_openml(name=\"qsar-biodeg\", parser=\"auto\")\n",
    "\n",
    "X = dataset.data.values.astype(float)\n",
    "y = dataset.target.values\n",
    "\n",
    "X_init_train = X[:300]\n",
    "y_init_train = y[:300]\n",
    "\n",
    "X_run = X[300:]\n",
    "y_run = y[300:]"
   ]
  },
  {
   "cell_type": "code",
   "execution_count": 30,
   "id": "087fcfa2",
   "metadata": {},
   "outputs": [
    {
     "data": {
      "application/vnd.jupyter.widget-view+json": {
       "model_id": "4b0859e6161443f1a4108f9e59a21dc9",
       "version_major": 2,
       "version_minor": 0
      },
      "text/plain": [
       "  0%|          | 0/755 [00:00<?, ?it/s]"
      ]
     },
     "metadata": {},
     "output_type": "display_data"
    },
    {
     "name": "stderr",
     "output_type": "stream",
     "text": [
      "/home/johan/Documents/PhD/PREMACOP/OnlineConformalPrediction/src/online_cp/classifiers.py:306: RuntimeWarning: divide by zero encountered in divide\n",
      "  Alpha = np.nan_to_num(same_label_distances / different_label_distances, nan=np.inf)\n"
     ]
    }
   ],
   "source": [
    "from online_cp import ConformalNearestNeighboursClassifier\n",
    "from online_cp import Evaluation, Err, OF, OE\n",
    "cp = ConformalNearestNeighboursClassifier(k=1, label_space=np.unique(y))\n",
    "\n",
    "metrics = Evaluation(err=Err, oe=OE, of=OF)\n",
    "\n",
    "cp.learn_initial_training_set(X_init_train, y_init_train)\n",
    "\n",
    "P_values = {'1': [], '2': []}\n",
    "\n",
    "for i, (obj, lab) in tqdm(enumerate(zip(X_run, y_run)), total=y_run.size):\n",
    "    \n",
    "    # Make prediction\n",
    "    Gamma, p_values, D = cp.predict(obj, epsilon=0.1, return_p_values=True, return_update=True) \n",
    "\n",
    "    P_values['1'].append(p_values['1'])\n",
    "    P_values['2'].append(p_values['2'])\n",
    "    # Learn the label\n",
    "    # cp.learn_one(obj, lab, D)\n",
    "\n",
    "    metrics.update(y=lab, Gamma=Gamma, p_values=p_values)"
   ]
  },
  {
   "cell_type": "code",
   "execution_count": 31,
   "id": "c4aaa78e",
   "metadata": {},
   "outputs": [],
   "source": [
    "import pandas as pd\n",
    "\n",
    "df_p = pd.DataFrame(P_values)"
   ]
  },
  {
   "cell_type": "code",
   "execution_count": 32,
   "id": "2b830c06",
   "metadata": {},
   "outputs": [
    {
     "data": {
      "text/plain": [
       "<matplotlib.collections.PathCollection at 0x71ec85448950>"
      ]
     },
     "execution_count": 32,
     "metadata": {},
     "output_type": "execute_result"
    },
    {
     "data": {
      "image/png": "[encoded data removed]",
      "text/plain": [
       "<Figure size 640x480 with 1 Axes>"
      ]
     },
     "metadata": {},
     "output_type": "display_data"
    }
   ],
   "source": [
    "import matplotlib.pyplot as plt\n",
    "\n",
    "plt.scatter(df_p['1'], df_p['2'])"
   ]
  }
 ],
 "metadata": {
  "kernelspec": {
   "display_name": "online-cp",
   "language": "python",
   "name": "python3"
  },
  "language_info": {
   "codemirror_mode": {
    "name": "ipython",
    "version": 3
   },
   "file_extension": ".py",
   "mimetype": "text/x-python",
   "name": "python",
   "nbconvert_exporter": "python",
   "pygments_lexer": "ipython3",
   "version": "3.11.11"
  }
 },
 "nbformat": 4,
 "nbformat_minor": 5
}
