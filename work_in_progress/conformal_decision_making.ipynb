{
 "cells": [
  {
   "cell_type": "markdown",
   "metadata": {},
   "source": [
    "# Conformal predictive decision making\n",
    "\n",
    "We tackle the same problem as https://www.alrw.net/articles/19.pdf, using our Nearest neighbours prediction machine"
   ]
  },
  {
   "cell_type": "code",
   "execution_count": 1,
   "metadata": {},
   "outputs": [],
   "source": [
    "from ucimlrepo import fetch_ucirepo \n",
    "import pandas as pd\n",
    "from online_cp.CPS import NearestNeighboursPredictionMachine\n",
    "from sklearn.preprocessing import LabelEncoder\n",
    "import numpy as np\n",
    "rnd_gen = np.random.default_rng(2024)\n",
    "import matplotlib.pyplot as plt\n",
    "MACHINE_EPSILON = lambda x: np.abs(x) * np.finfo(np.float64).eps\n",
    "from tqdm.notebook import tqdm"
   ]
  },
  {
   "cell_type": "code",
   "execution_count": 2,
   "metadata": {},
   "outputs": [],
   "source": [
    "# fetch dataset \n",
    "mushroom = fetch_ucirepo(id=73) \n",
    "  \n",
    "# data (as pandas dataframes) \n",
    "X_raw = mushroom.data.features \n",
    "y_raw = mushroom.data.targets \n",
    "\n",
    "X = np.array([LabelEncoder().fit(col).transform(col) for col in X_raw.values.T]).T\n",
    "y = y_raw.values.reshape(1, -1)[0]"
   ]
  },
  {
   "cell_type": "code",
   "execution_count": 3,
   "metadata": {},
   "outputs": [],
   "source": [
    "N = 100\n",
    "X_train = X[:N]\n",
    "y_train = y[:N]"
   ]
  },
  {
   "cell_type": "code",
   "execution_count": 4,
   "metadata": {},
   "outputs": [],
   "source": [
    "def U(y, d):\n",
    "    if y == 'e':\n",
    "        if d == 'eat':\n",
    "            util = 1\n",
    "        if d == 'not eat':\n",
    "            util = 0\n",
    "    if y == 'p':\n",
    "        if d == 'eat':\n",
    "            util = -10\n",
    "        if d == 'not eat':\n",
    "            util = 1\n",
    "    return util"
   ]
  },
  {
   "cell_type": "code",
   "execution_count": 5,
   "metadata": {},
   "outputs": [],
   "source": [
    "d = 'eat'\n",
    "tau = rnd_gen.uniform(0, 1)\n",
    "U_train_d = np.array([U(y, d) for y in y_train]).astype('float')\n",
    "\n",
    "cps = NearestNeighboursPredictionMachine(k=3, distance='hamming', rnd_state=2024)\n",
    "cps.learn_initial_training_set(X_train, U_train_d)\n",
    "cpd = cps.predict_cpd(X[N])"
   ]
  },
  {
   "cell_type": "code",
   "execution_count": 6,
   "metadata": {},
   "outputs": [
    {
     "name": "stdout",
     "output_type": "stream",
     "text": [
      "{'eat': 0.21220118934480955, 'not eat': 0.0}\n",
      "e\n"
     ]
    },
    {
     "data": {
      "text/plain": [
       "'eat'"
      ]
     },
     "execution_count": 6,
     "metadata": {},
     "output_type": "execute_result"
    },
    {
     "data": {
      "image/png": "[encoded data removed]",
      "text/plain": [
       "<Figure size 640x480 with 1 Axes>"
      ]
     },
     "metadata": {},
     "output_type": "display_data"
    }
   ],
   "source": [
    "utility = {}\n",
    "for d in ['eat', 'not eat']:\n",
    "    tau = rnd_gen.uniform(0, 1)\n",
    "    U_train_d = np.array([U(y, d) for y in y_train]).astype('float')\n",
    "\n",
    "    cps = NearestNeighboursPredictionMachine(k=1, distance='hamming', rnd_state=2024)\n",
    "    cps.learn_initial_training_set(X_train, U_train_d)\n",
    "    cpd = cps.predict_cpd(X[N])\n",
    "\n",
    "    jump_points = np.unique(cpd.Y[1:-1])\n",
    "    Delta_Q = np.array([cpd(y=y + MACHINE_EPSILON(y), tau=tau) - cpd(y=y - MACHINE_EPSILON(y), tau=tau) for y in jump_points])\n",
    "    utility[d] = jump_points @ Delta_Q\n",
    "\n",
    "    yrange = np.linspace(-50, 50, num=1000, endpoint=True) \n",
    "\n",
    "    tau = rnd_gen.uniform(0, 1)\n",
    "    plt.plot(\n",
    "        yrange,\n",
    "        [cpd(y=y, tau=tau) for y in yrange],\n",
    "        label=d\n",
    "    )\n",
    "\n",
    "print(utility)\n",
    "print(y[N])\n",
    "\n",
    "plt.legend()\n",
    "max(utility, key=utility.get)"
   ]
  },
  {
   "cell_type": "markdown",
   "metadata": {},
   "source": [
    "# Try the same experimental setup as Vovk and Bendtsen\n",
    "\"We draw 1000 random\n",
    "balanced training sets for each of a range of sizes ({4, 6, . . . , 20}), evaluating the\n",
    "performance of the two procedures on each training set using random balanced\n",
    "test sets of size 10.\"\n",
    "\n",
    "It seems that the problem could be that the NearestNeighboursPredictionMachine requires all labels and distances to be distinct. This is a bit of a limitation. Hopefully it can be fixed, but it may take some work..."
   ]
  },
  {
   "cell_type": "code",
   "execution_count": 7,
   "metadata": {},
   "outputs": [],
   "source": [
    "from copy import deepcopy\n",
    "df = deepcopy(X_raw)\n",
    "df['poisonous'] = y_raw.poisonous"
   ]
  },
  {
   "cell_type": "code",
   "execution_count": 8,
   "metadata": {},
   "outputs": [],
   "source": [
    "# Function to sample a balanced training set\n",
    "def sample_balanced_training_set_and_encode(df, target_column, n, random_state=None):\n",
    "    # Ensure N is even\n",
    "    if n % 2 != 0:\n",
    "        raise ValueError(\"N must be an even number to balance classes.\")\n",
    "    \n",
    "    # Check that both classes have enough samples\n",
    "    class_counts = df[target_column].value_counts()\n",
    "    if any(class_counts < n // 2):\n",
    "        raise ValueError(\"Not enough samples in one of the classes to create a balanced set.\")\n",
    "    \n",
    "    # Split the DataFrame by class\n",
    "    class_0 = df[df[target_column] == 'e']\n",
    "    class_1 = df[df[target_column] == 'p']\n",
    "    \n",
    "    # Sample N/2 from each class\n",
    "    sample_0 = class_0.sample(n=n // 2, random_state=random_state)  # random_state for reproducibility\n",
    "    sample_1 = class_1.sample(n=n // 2, random_state=random_state)\n",
    "    \n",
    "    # Combine and shuffle the samples\n",
    "    balanced_sample = pd.concat([sample_0, sample_1]).sample(frac=1, random_state=42).reset_index(drop=True)\n",
    "    \n",
    "    X = balanced_sample.drop(columns=[target_column])\n",
    "    Y = balanced_sample[target_column]\n",
    "\n",
    "    X = np.array([LabelEncoder().fit(col).transform(col) for col in X.values.T]).T\n",
    "    Y = Y.values.reshape(1, -1)[0]\n",
    "\n",
    "    return X, Y"
   ]
  },
  {
   "cell_type": "code",
   "execution_count": 9,
   "metadata": {},
   "outputs": [],
   "source": [
    "# runs = 100\n",
    "# for training_set_size in [4, 6, 8, 10, 12, 14, 16, 18, 20]:\n",
    "#     TRAINING_SETS = [sample_balanced_training_set_and_encode(df, target_column='poisonous', n=training_set_size, random_state=r) for r in range(runs)]\n",
    "#     TEST_SETS = [sample_balanced_training_set_and_encode(df, target_column='poisonous', n=10, random_state=r) for r in range(runs)]    \n",
    "#     util = 0\n",
    "#     for (X_train, y_train), (X_test, y_test) in zip(TRAINING_SETS, TEST_SETS):\n",
    "#         for obj, lab in zip(X_test, y_test):\n",
    "#             utility = {}\n",
    "#             for d in ['eat', 'not eat']:\n",
    "#                 tau = rnd_gen.uniform(0, 1)\n",
    "#                 U_train_d = np.array([U(y, d) for y in y_train]).astype('float')\n",
    "\n",
    "#                 cps = NearestNeighboursPredictionMachine(k=3, distance='hamming', rnd_state=2024)\n",
    "#                 cps.learn_initial_training_set(X_train, U_train_d)\n",
    "#                 cpd = cps.predict_cpd(obj)\n",
    "\n",
    "#                 jump_points = np.unique(cpd.Y[1:-1])\n",
    "#                 Delta_Q = np.array([cpd(y=y + MACHINE_EPSILON(y), tau=tau) - cpd(y=y - MACHINE_EPSILON(y), tau=tau) for y in jump_points])\n",
    "#                 utility[d] = jump_points @ Delta_Q\n",
    "                \n",
    "#             decision =  max(utility, key=utility.get)\n",
    "#             util += utility[decision]\n",
    "\n",
    "#     print(f'Size: {training_set_size}')\n",
    "#     print(f'Average utility: {util/(10*runs)}')\n",
    "    "
   ]
  }
 ],
 "metadata": {
  "kernelspec": {
   "display_name": "onlineCP",
   "language": "python",
   "name": "python3"
  },
  "language_info": {
   "codemirror_mode": {
    "name": "ipython",
    "version": 3
   },
   "file_extension": ".py",
   "mimetype": "text/x-python",
   "name": "python",
   "nbconvert_exporter": "python",
   "pygments_lexer": "ipython3",
   "version": "3.11.9"
  }
 },
 "nbformat": 4,
 "nbformat_minor": 2
}
