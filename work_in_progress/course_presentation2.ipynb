{
 "cells": [
  {
   "cell_type": "markdown",
   "metadata": {},
   "source": [
    "# Ideas for presentation\n",
    "1. Impossibility results: Why do we need multi-probabilistic predictions?\n",
    "2. Full Venn-ABERS implementation. Requires quite a bit of coding... I am not sure I want to implement the PAVA algorithm on my own...\n",
    "3. Full Venn-prediction implementation? Not necessarily Venn-ABERS, but some other predictor could be nice. E.g. nearest neighbours and such.\n",
    "3. Venn decision making? Can we use the multi-probabilities to maximise e.g. expected utility?\n",
    "4. Perhaps not for presentation, but can we improve on the PAVA algorithm? This is a nice optimisation problem to tackle with Yishao, perhaps?"
   ]
  },
  {
   "cell_type": "markdown",
   "metadata": {},
   "source": [
    "If I have a utility function $U:Y\\times D \\to \\mathbb{R}$, where $D$ is some decision space, I can compute the utility of any decision $d$.If I also have probabilities for each label $y$, I can compute the conditional expected utility, given a test object $x$!"
   ]
  },
  {
   "cell_type": "code",
   "execution_count": 2,
   "metadata": {},
   "outputs": [],
   "source": [
    "from ucimlrepo import fetch_ucirepo \n",
    "from sklearn.preprocessing import LabelEncoder\n",
    "import numpy as np\n",
    "from sklearn.model_selection import train_test_split\n",
    "from venn_abers import VennAbersCalibrator\n",
    "from copy import deepcopy\n",
    "import pandas as pd\n",
    "from sklearn.neighbors import KNeighborsClassifier\n",
    "from sklearn.ensemble import RandomForestClassifier\n",
    "import warnings\n",
    "warnings.filterwarnings('ignore')\n",
    "from tqdm.notebook import tqdm\n",
    "from sklearn.isotonic import IsotonicRegression\n",
    "import matplotlib.pyplot as plt\n",
    "\n",
    "# fetch dataset \n",
    "mushroom = fetch_ucirepo(id=73) \n",
    "  \n",
    "# data (as pandas dataframes) \n",
    "X_raw = mushroom.data.features \n",
    "y_raw = mushroom.data.targets \n",
    "\n",
    "X = np.array([LabelEncoder().fit(col).transform(col) for col in X_raw.values.T]).T\n",
    "y = y_raw.values.reshape(1, -1)[0]\n",
    "y = (y=='p').astype('int')\n",
    "\n",
    "df = deepcopy(X_raw)\n",
    "df['poisonous'] = y"
   ]
  },
  {
   "cell_type": "code",
   "execution_count": 3,
   "metadata": {},
   "outputs": [],
   "source": [
    "# Function to sample balanced training and test sets\n",
    "def sample_balanced_datasets_and_encode(df, target_column, train_size, test_size, random_state=None):\n",
    "    # Ensure train_size and test_size are even\n",
    "    if train_size % 2 != 0 or test_size % 2 != 0:\n",
    "        raise ValueError(\"train_size and test_size must be even numbers to balance classes.\")\n",
    "    \n",
    "    # Check that both classes have enough samples\n",
    "    class_counts = df[target_column].value_counts()\n",
    "    if any(class_counts < (train_size + test_size) // 2):\n",
    "        raise ValueError(\"Not enough samples in one of the classes to create the requested balanced sets.\")\n",
    "    \n",
    "    # Split the DataFrame by class\n",
    "    class_0 = df[df[target_column] == 0]\n",
    "    class_1 = df[df[target_column] == 1]\n",
    "    \n",
    "    # Sample train_size / 2 and test_size / 2 from each class\n",
    "    train_sample_0 = class_0.sample(n=train_size // 2, random_state=random_state)\n",
    "    train_sample_1 = class_1.sample(n=train_size // 2, random_state=random_state)\n",
    "    test_sample_0 = class_0.drop(train_sample_0.index).sample(n=test_size // 2, random_state=random_state)\n",
    "    test_sample_1 = class_1.drop(train_sample_1.index).sample(n=test_size // 2, random_state=random_state)\n",
    "    \n",
    "    # Combine and shuffle the samples\n",
    "    balanced_train = pd.concat([train_sample_0, train_sample_1]).sample(frac=1, random_state=random_state).reset_index(drop=True)\n",
    "    balanced_test = pd.concat([test_sample_0, test_sample_1]).sample(frac=1, random_state=random_state).reset_index(drop=True)\n",
    "    \n",
    "    # Split into features and target\n",
    "    X_train = balanced_train.drop(columns=[target_column])\n",
    "    Y_train = balanced_train[target_column]\n",
    "    X_test = balanced_test.drop(columns=[target_column])\n",
    "    Y_test = balanced_test[target_column]\n",
    "\n",
    "    # Encode the features\n",
    "    X_train = np.array([LabelEncoder().fit(col).transform(col) for col in X_train.values.T]).T\n",
    "    X_test = np.array([LabelEncoder().fit(col).transform(col) for col in X_test.values.T]).T\n",
    "    Y_train = Y_train.values.reshape(1, -1)[0]\n",
    "    Y_test = Y_test.values.reshape(1, -1)[0]\n",
    "\n",
    "    return X_train, Y_train, X_test, Y_test\n",
    "\n",
    "def U(y, d):\n",
    "    if y == 0:\n",
    "        if d == 'eat':\n",
    "            util = 1\n",
    "        if d == 'not eat':\n",
    "            util = 0\n",
    "    if y == 1:\n",
    "        if d == 'eat':\n",
    "            util = -10\n",
    "        if d == 'not eat':\n",
    "            util = 1\n",
    "    return util\n",
    "\n",
    "def make_decision_based_on_prediction(yhat):\n",
    "    d_arr = np.empty_like(yhat)\n",
    "    for i, y in enumerate(yhat):\n",
    "        d_arr[i] = 'eat' if y == 'e' else 'not eat'\n",
    "    return d_arr"
   ]
  },
  {
   "cell_type": "code",
   "execution_count": null,
   "metadata": {},
   "outputs": [
    {
     "data": {
      "text/plain": [
       "<matplotlib.legend.Legend at 0x78aeebe3fe10>"
      ]
     },
     "execution_count": 28,
     "metadata": {},
     "output_type": "execute_result"
    },
    {
     "data": {
      "image/png": "[encoded data removed]",
      "text/plain": [
       "<Figure size 640x480 with 1 Axes>"
      ]
     },
     "metadata": {},
     "output_type": "display_data"
    }
   ],
   "source": [
    "r = 2024\n",
    "test_size = 100\n",
    "training_set_size = 1000\n",
    "\n",
    "X_train, Y_train, X_test, Y_test = sample_balanced_datasets_and_encode(df, target_column='poisonous', train_size=training_set_size, test_size=test_size, random_state=r)\n",
    "\n",
    "clf = KNeighborsClassifier(n_neighbors=5)\n",
    "\n",
    "# Define Venn-ABERS calibrator\n",
    "va = VennAbersCalibrator(estimator=clf, inductive=True, cal_size=0.5, random_state=101)\n",
    "\n",
    "# Fit on the training set\n",
    "va.fit(X_train, Y_train)\n",
    "\n",
    "# Generate probabilities and class predictions on the test set\n",
    "p_prime, P0_P1 = va.predict_proba(X_test, p0_p1_output=True)\n",
    "P0_P1 = P0_P1[0]\n",
    "\n",
    "plt.hist(P0_P1[:,1] / (1 - P0_P1[:,0] + P0_P1[:,1]), label=r'$p$')\n",
    "plt.hist(p_prime[:,1], label=r\"$p'$\")\n",
    "plt.legend()"
   ]
  },
  {
   "cell_type": "code",
   "execution_count": 25,
   "metadata": {},
   "outputs": [
    {
     "data": {
      "text/plain": [
       "array([ True,  True,  True,  True,  True,  True,  True,  True,  True,\n",
       "        True,  True,  True,  True,  True,  True,  True,  True,  True,\n",
       "        True,  True,  True,  True,  True,  True,  True,  True,  True,\n",
       "        True,  True,  True, False,  True,  True,  True,  True,  True,\n",
       "        True,  True,  True,  True,  True,  True,  True,  True,  True,\n",
       "        True,  True,  True,  True,  True,  True, False,  True,  True,\n",
       "        True,  True,  True,  True,  True,  True,  True,  True,  True,\n",
       "        True,  True,  True,  True,  True,  True,  True,  True,  True,\n",
       "        True,  True,  True,  True,  True, False,  True,  True,  True,\n",
       "        True,  True,  True,  True,  True,  True,  True,  True,  True,\n",
       "        True,  True,  True,  True,  True,  True,  True,  True,  True,\n",
       "        True])"
      ]
     },
     "execution_count": 25,
     "metadata": {},
     "output_type": "execute_result"
    }
   ],
   "source": [
    "P0_P1[:,1] / (1 - P0_P1[:,0] + P0_P1[:,1]) == p_prime[:,1]"
   ]
  },
  {
   "cell_type": "markdown",
   "metadata": {},
   "source": [
    "# Very carefully, check"
   ]
  },
  {
   "cell_type": "code",
   "execution_count": 121,
   "metadata": {},
   "outputs": [
    {
     "name": "stdout",
     "output_type": "stream",
     "text": [
      "Multiprobability output: (0.0, 0.4)\n",
      "True label: 0\n"
     ]
    },
    {
     "data": {
      "image/png": "[encoded data removed]",
      "text/plain": [
       "<Figure size 640x480 with 1 Axes>"
      ]
     },
     "metadata": {},
     "output_type": "display_data"
    }
   ],
   "source": [
    "r = 2024\n",
    "test_size = 100\n",
    "training_set_size = 100\n",
    "\n",
    "from sklearn.naive_bayes import GaussianNB\n",
    "\n",
    "\n",
    "X_train, Y_train, X_test, Y_test = sample_balanced_datasets_and_encode(df, target_column='poisonous', train_size=training_set_size, test_size=test_size, random_state=r)\n",
    "\n",
    "i = 9\n",
    "x = X_test[0]\n",
    "\n",
    "clf = KNeighborsClassifier(n_neighbors=5)\n",
    "\n",
    "y_hyp = 0\n",
    "\n",
    "X_fit = np.vstack((X_train, x))\n",
    "y_fit = np.append(Y_train, y_hyp)\n",
    "clf.fit(X_fit, y_fit)\n",
    "\n",
    "scores = clf.predict_proba(X_fit)\n",
    "\n",
    "IR = IsotonicRegression(y_min=0, y_max=1)\n",
    "IR.fit(scores[:,1], y_fit)\n",
    "cal_scores = IR.predict(scores[:,1])\n",
    "plt.scatter(scores[:,1], cal_scores, label=r'$g^0$')\n",
    "p0 = cal_scores[-1]\n",
    "plt.scatter(scores[-1,1], p0, label=r'$g^0(S^0(x))$', color='red')\n",
    "\n",
    "y_hyp = 1\n",
    "\n",
    "X_fit = np.vstack((X_train, x))\n",
    "y_fit = np.append(Y_train, y_hyp)\n",
    "clf.fit(X_fit, y_fit)\n",
    "\n",
    "scores = clf.predict_proba(X_fit)\n",
    "\n",
    "IR = IsotonicRegression(y_min=0, y_max=1)\n",
    "IR.fit(scores[:,1], y_fit)\n",
    "cal_scores = IR.predict(scores[:,1])\n",
    "plt.scatter(scores[:,1], cal_scores, label=r'$g^1$')\n",
    "p1 = cal_scores[-1]\n",
    "plt.scatter(scores[-1,1], p1, label=r'$g^1(S^1(x))$', color='green')\n",
    "\n",
    "plt.legend()\n",
    "\n",
    "print(f'Multiprobability output: ({p0}, {p1})')\n",
    "print(f'True label: {Y_test[i]}')"
   ]
  },
  {
   "cell_type": "code",
   "execution_count": 122,
   "metadata": {},
   "outputs": [
    {
     "data": {
      "text/plain": [
       "array([0.28571429, 0.42857143])"
      ]
     },
     "execution_count": 122,
     "metadata": {},
     "output_type": "execute_result"
    }
   ],
   "source": []
  },
  {
   "cell_type": "markdown",
   "metadata": {},
   "source": [
    "# The below approach does not work! Do it again."
   ]
  },
  {
   "cell_type": "code",
   "execution_count": null,
   "metadata": {},
   "outputs": [
    {
     "name": "stdout",
     "output_type": "stream",
     "text": [
      "Petej: [0.33333333 0.75       0.33333333 0.5       ]\n"
     ]
    },
    {
     "data": {
      "text/plain": [
       "array([[0., 1.],\n",
       "       [0., 1.],\n",
       "       [0., 1.],\n",
       "       [0., 1.]])"
      ]
     },
     "execution_count": 6,
     "metadata": {},
     "output_type": "execute_result"
    }
   ],
   "source": [
    "r = 2024\n",
    "neighbours = 5\n",
    "test_size = 4\n",
    "training_set_size = 10\n",
    "\n",
    "X_train, Y_train, X_test, Y_test = sample_balanced_datasets_and_encode(df, target_column='poisonous', train_size=training_set_size, test_size=test_size, random_state=r)\n",
    "\n",
    "ivap_rf = RandomForestClassifier(random_state=r)\n",
    "ivap = VennAbersCalibrator(estimator=ivap_rf, inductive=True, cal_size=0.3, random_state=r)\n",
    "ivap.fit(X_train, Y_train)\n",
    "P = ivap.predict_proba(X_test)\n",
    "print(f'Petej: {P[:,1]}')\n",
    "\n",
    "\n",
    "clf = RandomForestClassifier(random_state=r)\n",
    "clf.fit(X_train, Y_train)\n",
    "P0_P1 = np.empty(shape=(X_test.shape[0],2))\n",
    "for i, x in enumerate(X_test):\n",
    "    \n",
    "    for j, y_hyp in enumerate(clf.classes_):\n",
    "        clf = RandomForestClassifier(random_state=r)\n",
    "        clf.fit(np.vstack((X_train, x)), np.append(Y_train, y_hyp))\n",
    "        P = clf.predict_proba(np.vstack((X_train, x)))\n",
    "        IR = IsotonicRegression(y_min=0, y_max=1)\n",
    "\n",
    "        IR.fit(P[:,1], (np.append(Y_train, y_hyp)=='p').astype('float'))\n",
    "        py = IR.predict(np.atleast_1d(clf.predict_proba(x.reshape(1,-1))[0,1]))\n",
    "        P0_P1[i, j] = py\n",
    "\n",
    "P0_P1[:,1] / (1 - P0_P1[:,0] + P0_P1[:,1])\n",
    "P0_P1"
   ]
  },
  {
   "cell_type": "code",
   "execution_count": null,
   "metadata": {},
   "outputs": [
    {
     "data": {
      "text/plain": [
       "<matplotlib.collections.PathCollection at 0x74a2959845d0>"
      ]
     },
     "execution_count": 7,
     "metadata": {},
     "output_type": "execute_result"
    },
    {
     "data": {
      "image/png": "[encoded data removed]",
      "text/plain": [
       "<Figure size 640x480 with 1 Axes>"
      ]
     },
     "metadata": {},
     "output_type": "display_data"
    }
   ],
   "source": [
    "sorted_scores = sorted(clf.predict_proba(np.vstack((X_train, x)))[:,1])\n",
    "sorted_cal = IR.predict(sorted_scores)\n",
    "plt.step(sorted_scores, sorted_cal)\n",
    "plt.scatter(sorted_scores, sorted_scores)"
   ]
  },
  {
   "cell_type": "code",
   "execution_count": 8,
   "metadata": {},
   "outputs": [
    {
     "data": {
      "text/plain": [
       "array(['e', 'p', 'p', 'e'], dtype=object)"
      ]
     },
     "execution_count": 8,
     "metadata": {},
     "output_type": "execute_result"
    }
   ],
   "source": [
    "Y_test"
   ]
  },
  {
   "cell_type": "markdown",
   "metadata": {},
   "source": [
    "# Try to mimic exactly their experiment"
   ]
  },
  {
   "cell_type": "code",
   "execution_count": null,
   "metadata": {},
   "outputs": [
    {
     "data": {
      "application/vnd.jupyter.widget-view+json": {
       "model_id": "0ce4c3de5390413b8b2c9da70f3ee516",
       "version_major": 2,
       "version_minor": 0
      },
      "text/plain": [
       "  0%|          | 0/21 [00:00<?, ?it/s]"
      ]
     },
     "metadata": {},
     "output_type": "display_data"
    },
    {
     "name": "stdout",
     "output_type": "stream",
     "text": [
      "Size=20: [-0.12  0.47  0.11  0.5 ]\n",
      "Size=22: [0.41 0.66 0.5  0.5 ]\n",
      "Size=24: [0.54 0.65 0.5  0.5 ]\n",
      "Size=26: [0.37 0.56 0.5  0.5 ]\n",
      "Size=28: [0.05 0.75 0.5  0.5 ]\n",
      "Size=30: [0.49 0.65 0.5  0.5 ]\n",
      "Size=32: [0.56 0.64 0.5  0.5 ]\n",
      "Size=34: [0.27 0.56 0.5  0.5 ]\n",
      "Size=36: [0.16 0.67 0.5  0.5 ]\n",
      "Size=38: [0.16 0.52 0.5  0.5 ]\n",
      "Size=40: [0.15 0.41 0.5  0.5 ]\n",
      "Size=42: [0.39 0.69 0.5  0.5 ]\n",
      "Size=44: [0.08 0.59 0.5  0.5 ]\n",
      "Size=46: [0.57 0.72 0.5  0.5 ]\n",
      "Size=48: [0.19 0.52 0.5  0.5 ]\n",
      "Size=50: [0.41 0.49 0.5  0.5 ]\n",
      "Size=52: [0.57 0.64 0.5  0.5 ]\n",
      "Size=54: [-0.27  0.47  0.5   0.52]\n",
      "Size=56: [0.38 0.8  0.5  0.54]\n",
      "Size=58: [-0.04  0.77  0.5   0.5 ]\n",
      "Size=60: [0.45 0.61 0.5  0.5 ]\n"
     ]
    }
   ],
   "source": [
    "neighbours = 5\n",
    "test_size = 10#00\n",
    "runs = 10\n",
    "result = {}\n",
    "for training_set_size in tqdm(range(20, 62, 2)):\n",
    "\n",
    "    res = np.zeros(shape=(runs, 4))\n",
    "    for r in range(runs):\n",
    "        X_train, Y_train, X_test, Y_test = sample_balanced_datasets_and_encode(df, target_column='poisonous', train_size=training_set_size, test_size=test_size, random_state=r)\n",
    "        knn = KNeighborsClassifier(n_neighbors=neighbours, metric='hamming')\n",
    "        knn.fit(X_train, Y_train)\n",
    "\n",
    "        ivap_knn = KNeighborsClassifier(n_neighbors=neighbours, metric='hamming')\n",
    "        ivap = VennAbersCalibrator(estimator=ivap_knn, inductive=True, cal_size=0.3, random_state=r)\n",
    "        ivap.fit(X_train, Y_train)\n",
    "\n",
    "        # Base: utility of predictions\n",
    "        yhat = knn.predict(X_test)\n",
    "        decisions = make_decision_based_on_prediction(yhat)\n",
    "        Utility = 0\n",
    "        for d, y_true in zip(decisions, Y_test):\n",
    "            Utility += U(y_true, d)\n",
    "\n",
    "        U_base = Utility\n",
    "\n",
    "        # Base proba: Use predict_proba to maximise expectation\n",
    "        Utility = 0\n",
    "        P_proba = knn.predict_proba(X_test)\n",
    "        for probs, y_true in zip(P_proba, Y_test):\n",
    "            utility = {}\n",
    "            for d in ['eat', 'not eat']:\n",
    "                u = 0\n",
    "                for p, y in zip(probs, knn.classes_):\n",
    "                    u += p*U(y, d)\n",
    "                utility[d] = u\n",
    "            # Choose decision with highest expected utility\n",
    "            d = max(utility, key=utility.get)\n",
    "            Utility += U(y_true, d)\n",
    "\n",
    "        U_base_prob = Utility\n",
    "\n",
    "        # Venn-ABERS Minimax\n",
    "        P0_P1 = np.empty(shape=(X_test.shape[0],2))\n",
    "        for i, x in enumerate(X_test):\n",
    "            \n",
    "            for j, y_hyp in enumerate(knn.classes_):\n",
    "                clf = KNeighborsClassifier(n_neighbors=neighbours, metric='hamming')\n",
    "                clf.fit(np.vstack((X_train, x)), np.append(Y_train, y_hyp))\n",
    "                P = clf.predict_proba(np.vstack((X_train, x)))\n",
    "                IR = IsotonicRegression(y_min=0, y_max=1)\n",
    "\n",
    "                IR.fit(P[:,1], (np.append(Y_train, y_hyp)=='p').astype('float'))\n",
    "                py = IR.predict(np.atleast_1d(clf.predict_proba(x.reshape(1,-1))[0,1]))\n",
    "                P0_P1[1, j] = py\n",
    "\n",
    "        Utility = 0\n",
    "\n",
    "        for probs, y_true in zip(P0_P1, Y_test):\n",
    "\n",
    "            utility_mat = np.zeros((2,2))\n",
    "            probs0 = [1-probs[0], probs[0]]\n",
    "            probs1 = [1-probs[1], probs[1]]\n",
    "\n",
    "            for i, d in enumerate(['eat', 'not eat']):\n",
    "                u = 0\n",
    "                for p, y in zip(probs0, knn.classes_):\n",
    "                    u += p*U(y, d)\n",
    "                utility_mat[0, i] = u\n",
    "\n",
    "                u = 0\n",
    "                for p, y in zip(probs1, knn.classes_):\n",
    "                    u += p*U(y, d)\n",
    "                utility_mat[1, i] = u\n",
    "\n",
    "            regret = utility_mat.max() - utility_mat\n",
    "            d = 'not eat' if np.argwhere(regret == regret.max(axis=0).min())[0,1] == 1 else 'eat'\n",
    "            Utility += U(y_true, d)\n",
    "\n",
    "        U_minimax = Utility\n",
    "\n",
    "        # Venn-ABERS\n",
    "        Utility = 0\n",
    "        P = ivap.predict_proba(X_test)\n",
    "        for probs, y_true in zip(P, Y_test):\n",
    "            utility = {}\n",
    "            for d in ['eat', 'not eat']:\n",
    "                u = 0\n",
    "                for p, y in zip(probs, ivap.classes):\n",
    "                    u += p*U(y, d)\n",
    "                utility[d] = u\n",
    "\n",
    "            # Choose decision with highest expected utility\n",
    "            d = max(utility, key=utility.get)\n",
    "            Utility += U(y_true, d)\n",
    "        \n",
    "        U_va = Utility\n",
    "\n",
    "        res[r, 0] = U_base\n",
    "        res[r, 1] = U_base_prob\n",
    "        res[r, 2] = U_minimax\n",
    "        res[r, 3] = U_va\n",
    "\n",
    "    result[training_set_size] = res.mean(axis=0)\n",
    "    print(f'Size={training_set_size}: {res.mean(axis=0)/Y_test.shape[0]}')"
   ]
  },
  {
   "cell_type": "code",
   "execution_count": 10,
   "metadata": {},
   "outputs": [
    {
     "data": {
      "text/plain": [
       "<matplotlib.legend.Legend at 0x74a29588f510>"
      ]
     },
     "execution_count": 10,
     "metadata": {},
     "output_type": "execute_result"
    },
    {
     "data": {
      "image/png": "[encoded data removed]",
      "text/plain": [
       "<Figure size 640x480 with 1 Axes>"
      ]
     },
     "metadata": {},
     "output_type": "display_data"
    }
   ],
   "source": [
    "plt.hist(P_proba[:,1], label='proba')\n",
    "plt.hist(P0_P1[:,1], alpha=0.7, label='P0')\n",
    "plt.hist(P0_P1[:,0], alpha=0.7, label='P1')\n",
    "plt.legend()"
   ]
  },
  {
   "cell_type": "code",
   "execution_count": 11,
   "metadata": {},
   "outputs": [
    {
     "data": {
      "text/plain": [
       "<Axes: >"
      ]
     },
     "execution_count": 11,
     "metadata": {},
     "output_type": "execute_result"
    },
    {
     "data": {
      "image/png": "[encoded data removed]",
      "text/plain": [
       "<Figure size 640x480 with 1 Axes>"
      ]
     },
     "metadata": {},
     "output_type": "display_data"
    }
   ],
   "source": [
    "df_result = pd.DataFrame(result).T/test_size\n",
    "df_result.columns = ['Base', 'Base proba', 'Minimax Venn-ABERS', 'Venn-ABERS']\n",
    "df_result.plot()#[['Base proba', 'Minimax Venn-ABERS']].plot()"
   ]
  },
  {
   "cell_type": "markdown",
   "metadata": {},
   "source": [
    "# Old stuff"
   ]
  },
  {
   "cell_type": "code",
   "execution_count": 23,
   "metadata": {},
   "outputs": [
    {
     "data": {
      "application/vnd.jupyter.widget-view+json": {
       "model_id": "1b464b76f19347a3976bbff8327c84a9",
       "version_major": 2,
       "version_minor": 0
      },
      "text/plain": [
       "  0%|          | 0/1000 [00:00<?, ?it/s]"
      ]
     },
     "metadata": {},
     "output_type": "display_data"
    },
    {
     "data": {
      "text/plain": [
       "array([-0.001504,  0.00513 ,  0.005   ,  0.005   ])"
      ]
     },
     "execution_count": 23,
     "metadata": {},
     "output_type": "execute_result"
    }
   ],
   "source": [
    "runs = 1000\n",
    "\n",
    "neighbours = 5\n",
    "\n",
    "res = np.zeros(shape=(runs, 4))\n",
    "for r in tqdm(range(runs)):\n",
    "\n",
    "    training_set_size = 20\n",
    "    test_set_size = 1000\n",
    "\n",
    "    X_train, Y_train, X_test, Y_test = sample_balanced_datasets_and_encode(df, target_column='poisonous', train_size=training_set_size, test_size=test_size, random_state=r)\n",
    "    knn = KNeighborsClassifier(n_neighbors=neighbours, metric='hamming')\n",
    "    ivap = VennAbersCalibrator(estimator=knn, inductive=True, cal_size=0.3, random_state=r)\n",
    "    ivap.fit(X_train, Y_train)\n",
    "    P, P0_P1 = ivap.predict_proba(X_test, p0_p1_output=True)\n",
    "    knn = KNeighborsClassifier(n_neighbors=neighbours, metric='hamming')\n",
    "    knn.fit(X_train, Y_train)\n",
    "    yhat = knn.predict(X_test)\n",
    "\n",
    "    res[r, 0] = run_predictions()\n",
    "    res[r, 1] = run_predict_proba()\n",
    "    res[r, 2] = run_logloss_agg()\n",
    "    res[r, 3] = run_minimax()\n",
    "\n",
    "\n",
    "# print(f'Base: {run_predictions()}')\n",
    "# print(f'Base proba: {run_predict_proba()}')\n",
    "# print(f'Logloss opt: {run_logloss_agg()}')\n",
    "# print(f'Minimax: {run_minimax()}')\n",
    "\n",
    "res.mean(axis=0)"
   ]
  },
  {
   "cell_type": "markdown",
   "metadata": {},
   "source": [
    "# All below thing should be done for a buch of different seeds!!"
   ]
  },
  {
   "cell_type": "markdown",
   "metadata": {},
   "source": [
    "## First, use the (log loss optimal) aggregated probabilities"
   ]
  },
  {
   "cell_type": "code",
   "execution_count": 16,
   "metadata": {},
   "outputs": [],
   "source": [
    "def run_logloss_agg():\n",
    "    Utility = 0\n",
    "    for probs, y_true in zip(P, Y_test):\n",
    "        utility = {}\n",
    "        for d in ['eat', 'not eat']:\n",
    "            u = 0\n",
    "            for p, y in zip(probs, ivap.classes):\n",
    "                u += p*U(y, d)\n",
    "            utility[d] = u\n",
    "\n",
    "        # Choose decision with highest expected utility\n",
    "        d = max(utility, key=utility.get)\n",
    "        Utility += U(y_true, d)\n",
    "\n",
    "    return Utility/test_set_size"
   ]
  },
  {
   "cell_type": "markdown",
   "metadata": {},
   "source": [
    "## Just using the predicted labels"
   ]
  },
  {
   "cell_type": "code",
   "execution_count": 17,
   "metadata": {},
   "outputs": [],
   "source": [
    "def run_predictions():\n",
    "    decisions = make_decision_based_on_prediction(yhat)\n",
    "    Utility = 0\n",
    "    for d, y_true in zip(decisions, Y_test):\n",
    "        # Choose decision with highest expected utility\n",
    "        Utility += U(y_true, d)\n",
    "\n",
    "    return Utility/test_set_size"
   ]
  },
  {
   "cell_type": "markdown",
   "metadata": {},
   "source": [
    "## And using predict_proba"
   ]
  },
  {
   "cell_type": "code",
   "execution_count": 18,
   "metadata": {},
   "outputs": [],
   "source": [
    "def run_predict_proba():\n",
    "    Utility = 0\n",
    "    P_proba = knn.predict_proba(X_test)\n",
    "    for probs, y_true in zip(P_proba, Y_test):\n",
    "        utility = {}\n",
    "        for d in ['eat', 'not eat']:\n",
    "            u = 0\n",
    "            for p, y in zip(probs, knn.classes_):\n",
    "                u += p*U(y, d)\n",
    "            utility[d] = u\n",
    "\n",
    "        # Choose decision with highest expected utility\n",
    "        d = max(utility, key=utility.get)\n",
    "        Utility += U(y_true, d)\n",
    "\n",
    "    return Utility/test_set_size"
   ]
  },
  {
   "cell_type": "markdown",
   "metadata": {},
   "source": [
    "# Pick out the correct choices (unrealistic but interesting)"
   ]
  },
  {
   "cell_type": "code",
   "execution_count": 19,
   "metadata": {},
   "outputs": [
    {
     "ename": "IndexError",
     "evalue": "invalid index to scalar variable.",
     "output_type": "error",
     "traceback": [
      "\u001b[0;31m---------------------------------------------------------------------------\u001b[0m",
      "\u001b[0;31mIndexError\u001b[0m                                Traceback (most recent call last)",
      "Cell \u001b[0;32mIn[19], line 7\u001b[0m\n\u001b[1;32m      5\u001b[0m \u001b[38;5;28;01mfor\u001b[39;00m probs, y_true \u001b[38;5;129;01min\u001b[39;00m \u001b[38;5;28mzip\u001b[39m(P_multi, Y_test):\n\u001b[1;32m      6\u001b[0m     \u001b[38;5;28;01mif\u001b[39;00m y_true \u001b[38;5;241m==\u001b[39m \u001b[38;5;124m'\u001b[39m\u001b[38;5;124mp\u001b[39m\u001b[38;5;124m'\u001b[39m:\n\u001b[0;32m----> 7\u001b[0m         p1 \u001b[38;5;241m=\u001b[39m \u001b[43mprobs\u001b[49m\u001b[43m[\u001b[49m\u001b[38;5;241;43m1\u001b[39;49m\u001b[43m]\u001b[49m\n\u001b[1;32m      8\u001b[0m         p0 \u001b[38;5;241m=\u001b[39m \u001b[38;5;241m1\u001b[39m \u001b[38;5;241m-\u001b[39m p1\n\u001b[1;32m      9\u001b[0m     \u001b[38;5;28;01melse\u001b[39;00m:\n",
      "\u001b[0;31mIndexError\u001b[0m: invalid index to scalar variable."
     ]
    }
   ],
   "source": [
    "Utility = 0\n",
    "\n",
    "P_multi = P0_P1[0]\n",
    "\n",
    "for probs, y_true in zip(P_multi, Y_test):\n",
    "    if y_true == 'p':\n",
    "        p1 = probs[1]\n",
    "        p0 = 1 - p1\n",
    "    else:\n",
    "        p1 = probs[0]\n",
    "        p0 = 1 - p1\n",
    "    utility = {}\n",
    "    for d in ['eat', 'not eat']:\n",
    "        u = 0\n",
    "        for p, y in zip([p0, p1], ivap.classes):\n",
    "            u += p*U(y, d)\n",
    "        utility[d] = u\n",
    "\n",
    "    # Choose decision with highest expected utility\n",
    "    d = max(utility, key=utility.get)\n",
    "    Utility += U(y_true, d)\n",
    "\n",
    "Utility/test_set_size"
   ]
  },
  {
   "cell_type": "markdown",
   "metadata": {},
   "source": [
    "It is clear that the utility maximisation seems to help a bit, especially for small training sets. However, the uncalibrated probabilities are better..."
   ]
  },
  {
   "cell_type": "markdown",
   "metadata": {},
   "source": [
    "# Now, what about using the muliti-probabilities?\n",
    "The loss function is $-U$. We aggregated to optimise log loss before. Could we get something similar for this one?\n",
    "The above is not quite correct, as this loss is with regard to the prediciton $\\hat{y}$, not the probability...\n",
    "\n",
    "Alternatively, could we somehow get an upper and lower bound on expected utility, and use it somehow?\n",
    "Perhaps coumpute upper and lower expectation, and taking decision that maximise their sum? Or require both to be positive? Otherwise reject?"
   ]
  },
  {
   "cell_type": "code",
   "execution_count": 20,
   "metadata": {},
   "outputs": [],
   "source": [
    "def run_minimax():\n",
    "    Utility = 0\n",
    "    P_multi = P0_P1[0]\n",
    "\n",
    "    for probs, y_true in zip(P_multi, Y_test):\n",
    "\n",
    "        utility_mat = np.zeros((2,2))\n",
    "        probs0 = [1-probs[0], probs[0]]\n",
    "        probs1 = [1-probs[1], probs[1]]\n",
    "\n",
    "        for i, d in enumerate(['eat', 'not eat']):\n",
    "            u = 0\n",
    "            for p, y in zip(probs0, ivap.classes):\n",
    "                u += p*U(y, d)\n",
    "            utility_mat[0, i] = u\n",
    "\n",
    "            u = 0\n",
    "            for p, y in zip(probs1, ivap.classes):\n",
    "                u += p*U(y, d)\n",
    "            utility_mat[1, i] = u\n",
    "\n",
    "        regret = utility_mat.max() - utility_mat\n",
    "        d = 'not eat' if np.argwhere(regret == regret.max(axis=0).min())[0,1] == 1 else 'eat'\n",
    "        Utility += U(y_true, d)\n",
    "\n",
    "    return Utility/test_set_size"
   ]
  },
  {
   "cell_type": "code",
   "execution_count": null,
   "metadata": {},
   "outputs": [],
   "source": []
  }
 ],
 "metadata": {
  "kernelspec": {
   "display_name": "onlineCP",
   "language": "python",
   "name": "python3"
  },
  "language_info": {
   "codemirror_mode": {
    "name": "ipython",
    "version": 3
   },
   "file_extension": ".py",
   "mimetype": "text/x-python",
   "name": "python",
   "nbconvert_exporter": "python",
   "pygments_lexer": "ipython3",
   "version": "3.11.9"
  }
 },
 "nbformat": 4,
 "nbformat_minor": 2
}
