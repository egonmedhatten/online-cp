{
 "cells": [
  {
   "cell_type": "code",
   "execution_count": 2,
   "metadata": {},
   "outputs": [],
   "source": [
    "import numpy as np\n",
    "import matplotlib.pyplot as plt"
   ]
  },
  {
   "cell_type": "code",
   "execution_count": 9,
   "metadata": {},
   "outputs": [
    {
     "data": {
      "text/plain": [
       "1.0"
      ]
     },
     "execution_count": 9,
     "metadata": {},
     "output_type": "execute_result"
    }
   ],
   "source": [
    "m = 2\n",
    "delta = 0.00001\n",
    "q = np.ones(m)/m#*(delta)/(m-1)\n",
    "# q[0] = 1 - delta\n",
    "\n",
    "q.sum()"
   ]
  },
  {
   "cell_type": "code",
   "execution_count": 10,
   "metadata": {},
   "outputs": [],
   "source": [
    "q = np.random.uniform(0, 1, m)\n",
    "q = q/q.sum()"
   ]
  },
  {
   "cell_type": "code",
   "execution_count": 25,
   "metadata": {},
   "outputs": [
    {
     "data": {
      "text/plain": [
       "[<matplotlib.lines.Line2D at 0x7ecf2455d290>]"
      ]
     },
     "execution_count": 25,
     "metadata": {},
     "output_type": "execute_result"
    },
    {
     "data": {
      "image/png": "[encoded data removed]",
      "text/plain": [
       "<Figure size 640x480 with 1 Axes>"
      ]
     },
     "metadata": {},
     "output_type": "display_data"
    }
   ],
   "source": [
    "def Gamma_q(q, epsilon):\n",
    "    q_inner = q.copy()\n",
    "    q_inner.sort()\n",
    "    Gamma = []\n",
    "    for q_i in q_inner[::-1]:\n",
    "        Gamma.append(q_i)\n",
    "        if sum(Gamma) >= 1 - epsilon:\n",
    "            break\n",
    "    return np.array(Gamma)\n",
    "\n",
    "func = lambda epsilon: Gamma_q(q, epsilon).size\n",
    "\n",
    "func2 = lambda epsilon: Gamma_q(q, epsilon).sum()\n",
    "\n",
    "q = np.sort(q)[::-1]\n",
    "\n",
    "Epsilon = 1-q.cumsum()\n",
    "plt.step(\n",
    "    Epsilon,\n",
    "    [func(e) for e in Epsilon]\n",
    ")\n",
    "# plt.step(\n",
    "#     Epsilon,\n",
    "#     [func2(e) for e in Epsilon]\n",
    "# )"
   ]
  },
  {
   "cell_type": "code",
   "execution_count": 20,
   "metadata": {},
   "outputs": [
    {
     "data": {
      "text/plain": [
       "array([0.59597216, 0.40402784])"
      ]
     },
     "execution_count": 20,
     "metadata": {},
     "output_type": "execute_result"
    }
   ],
   "source": [
    "q"
   ]
  },
  {
   "cell_type": "code",
   "execution_count": 35,
   "metadata": {},
   "outputs": [
    {
     "data": {
      "text/plain": [
       "array([0.59597216])"
      ]
     },
     "execution_count": 35,
     "metadata": {},
     "output_type": "execute_result"
    }
   ],
   "source": [
    "Gamma_q(q, q[0])"
   ]
  },
  {
   "cell_type": "code",
   "execution_count": 6,
   "metadata": {},
   "outputs": [
    {
     "data": {
      "text/plain": [
       "array([0.25160521])"
      ]
     },
     "execution_count": 6,
     "metadata": {},
     "output_type": "execute_result"
    }
   ],
   "source": [
    "Gamma_q(q, 0.999)"
   ]
  },
  {
   "cell_type": "code",
   "execution_count": 7,
   "metadata": {},
   "outputs": [
    {
     "data": {
      "text/plain": [
       "2"
      ]
     },
     "execution_count": 7,
     "metadata": {},
     "output_type": "execute_result"
    }
   ],
   "source": [
    "Gamma_q(q, 1 - q[:1].sum()).size"
   ]
  },
  {
   "cell_type": "code",
   "execution_count": 8,
   "metadata": {},
   "outputs": [
    {
     "ename": "AssertionError",
     "evalue": "",
     "output_type": "error",
     "traceback": [
      "\u001b[0;31m---------------------------------------------------------------------------\u001b[0m",
      "\u001b[0;31mAssertionError\u001b[0m                            Traceback (most recent call last)",
      "Cell \u001b[0;32mIn[8], line 7\u001b[0m\n\u001b[1;32m      4\u001b[0m \u001b[38;5;28;01massert\u001b[39;00m k \u001b[38;5;241m>\u001b[39m \u001b[38;5;241m0\u001b[39m\n\u001b[1;32m      6\u001b[0m epsilon \u001b[38;5;241m=\u001b[39m \u001b[38;5;241m1\u001b[39m \u001b[38;5;241m-\u001b[39m q[:k]\u001b[38;5;241m.\u001b[39msum()\n\u001b[0;32m----> 7\u001b[0m \u001b[38;5;28;01massert\u001b[39;00m Gamma_q(q, epsilon)\u001b[38;5;241m.\u001b[39msize \u001b[38;5;241m==\u001b[39m k\n\u001b[1;32m      9\u001b[0m \u001b[38;5;28;01massert\u001b[39;00m Gamma_q(q, epsilon)\u001b[38;5;241m.\u001b[39msum() \u001b[38;5;241m==\u001b[39m q[:k]\u001b[38;5;241m.\u001b[39msum()\n",
      "\u001b[0;31mAssertionError\u001b[0m: "
     ]
    }
   ],
   "source": [
    "for k in range(1, m):\n",
    "\n",
    "    assert k <= m\n",
    "    assert k > 0\n",
    "\n",
    "    epsilon = 1 - q[:k].sum()\n",
    "    assert Gamma_q(q, epsilon).size == k\n",
    "\n",
    "    assert Gamma_q(q, epsilon).sum() == q[:k].sum()"
   ]
  },
  {
   "cell_type": "markdown",
   "metadata": {},
   "source": [
    "# Notes\n",
    "\n",
    "## $\\Gamma$ as the complement\n",
    "\n",
    "Properness condition implies\n",
    "\n",
    "$$\\lambda(\\varepsilon)(\\mathbb{P}(\\Gamma) - \\mathbb{P}(\\Gamma^{\\varepsilon}_q)) \\leq g(|\\Gamma|) - g(|\\Gamma^{\\varepsilon}_q|).$$\n",
    "\n",
    "If $\\Gamma = \\boldsymbol{Y}\\backslash\\Gamma^{\\varepsilon}_q$, then of course $\\mathbb{P}(\\Gamma) = 1 - \\mathbb{P}(\\Gamma^{\\varepsilon}_q)$, which implies\n",
    "\n",
    "$\\lambda(\\varepsilon)(1 - 2\\mathbb{P}(\\Gamma^{\\varepsilon}_q)) \\leq g(m-|\\Gamma^{\\varepsilon}_q|) - g(|\\Gamma^{\\varepsilon}_q|)$.\n",
    "\n",
    "We know that if $\\varepsilon = 1 - \\sum_{i=1}^kq_{(i)}$, then $|\\Gamma^{\\varepsilon}_q|=k$, and $\\mathbb{P}(\\Gamma^{\\varepsilon}_q) = \\sum_{i=1}^kq_{(i)}$. Thus, we must have\n",
    "\n",
    "$\\lambda\\bigg(1 - \\sum_{i=1}^kq_{(i)}\\bigg)\\bigg(1 - 2\\sum_{i=1}^kq_{(i)}\\bigg) \\leq g(m-k) - g(k)$.\n",
    "\n",
    "By monotonicity of $g$, $m-k < k \\iff k > m/2 \\implies g(m-k) < g(k)$.\n",
    "\n",
    "Thus, setting $k = \\lceil\\frac{m}{2}\\rceil + 1$, we have that the right hand side of the inequality is negative. And since $\\lambda>0$, this says that we must have\n",
    "\n",
    "\n",
    "$1 \\leq 2\\sum_{i=1}^kq_{(i)} \\iff \\sum_{i=1}^kq_{(i)} \\geq \\frac{1}{2} \\iff \\mathbb{P}(\\Gamma^{\\varepsilon}_q) \\geq \\frac{1}{2}$.\n",
    "\n",
    "But this is allways true, since $k > m/2$. By definition, we include at least $\\varepsilon = 1 - \\sum_{i=1}^kq_{(i)}$ \"probability mass\" in $(\\Gamma^{\\varepsilon}_q)$, and for $k >m/2$, this is at least half of the probability.\n",
    "\n",
    "Thus, for $\\Gamma$ being the complement of the optimal prediction, we find no contradiction. If there exist functions $\\lambda$ and $g$ such that the condition holds, remains to be seen, but they have to satisfy\n",
    "\n",
    "$$\\lambda\\bigg(1 - \\sum_{i=1}^kq_{(i)}\\bigg)\\bigg(1 - 2\\sum_{i=1}^kq_{(i)}\\bigg) \\leq g(m-k) - g(k)$$\n",
    "for all $q$ and $1 \\leq k \\leq m$.\n",
    "\n",
    "## $\\Gamma = \\emptyset$\n",
    "Then $-\\lambda(\\varepsilon)\\mathbb{P}(\\Gamma^{\\varepsilon}_q) \\leq g(0) - g(|\\Gamma^{\\varepsilon}_q|) \\iff g(|\\Gamma^{\\varepsilon}_q|) - g(0) \\geq \\lambda(\\varepsilon)\\mathbb{P}(\\Gamma^{\\varepsilon}_q) = \\lambda\\bigg(1-\\sum_{i=1}^kq_{(i)}\\bigg)\\sum_{i=1}^kq_{(i)}$. There is no obvious contradiction here. However, $\\lambda$ and $g$ must satisfy\n",
    "\n",
    "$$g(k) - g(0) \\geq \\lambda\\bigg(1-\\sum_{i=1}^kq_{(i)}\\bigg)\\sum_{i=1}^kq_{(i)}$$\n",
    "for all $q$ and $1 \\leq k \\leq m$.\n",
    "\n",
    "## $\\Gamma = \\boldsymbol{Y}$\n",
    "Then $\\lambda(\\varepsilon)(1 - \\mathbb{P}(\\Gamma^{\\varepsilon}_q)) \\leq g(m) - g(|\\Gamma^{\\varepsilon}_q|)$ with no obvious contradiction. We note, however that\n",
    "$$\\lambda\\bigg(1-\\sum_{i=1}^kq_{(i)}\\bigg)\\bigg(1 - \\sum_{i=1}^kq_{(i)}\\bigg) \\leq g(m) - g(k)$$\n",
    "for all $q$ and $1 \\leq k \\leq m$.\n",
    "\n",
    "## $0<|\\Gamma| < |\\Gamma^{\\varepsilon}_q| = k \\leq m$\n",
    "By definition, $\\mathbb{P}(\\Gamma) < \\mathbb{P}(\\Gamma^{\\varepsilon}_q) = \\sum_{i=1}^kq_{(i)}$, so the condition is\n",
    "\n",
    "$0<\\lambda\\bigg(1-\\sum_{i=1}^kq_{(i)}\\bigg)\\bigg(\\mathbb{P}(\\Gamma) - \\sum_{i=1}^kq_{(i)}\\bigg) \\leq g(|\\Gamma|) - g(k) < 0$, with no obvious contradiction there.\n"
   ]
  },
  {
   "cell_type": "code",
   "execution_count": null,
   "metadata": {},
   "outputs": [
    {
     "data": {
      "text/plain": [
       "0.8911649000836475"
      ]
     },
     "execution_count": 8,
     "metadata": {},
     "output_type": "execute_result"
    }
   ],
   "source": [
    "k = int(np.ceil(m/2) + 1)\n",
    "epsilon = 1 - q[:k].sum()\n",
    "Gamma_q(q, epsilon).sum()"
   ]
  },
  {
   "cell_type": "code",
   "execution_count": null,
   "metadata": {},
   "outputs": [
    {
     "data": {
      "text/plain": [
       "array([0.5])"
      ]
     },
     "execution_count": 9,
     "metadata": {},
     "output_type": "execute_result"
    }
   ],
   "source": [
    "m = 10\n",
    "\n",
    "delta = 1/2\n",
    "q = np.ones(m)*(delta)/(m-1)\n",
    "q[0] = 1 - delta\n",
    "\n",
    "# q = np.ones(m)/m\n",
    "\n",
    "k = 1\n",
    "epsilon = 1 - q[:k].sum()\n",
    "Gamma_q(q, epsilon)"
   ]
  },
  {
   "cell_type": "code",
   "execution_count": null,
   "metadata": {},
   "outputs": [
    {
     "data": {
      "text/plain": [
       "0.5"
      ]
     },
     "execution_count": 10,
     "metadata": {},
     "output_type": "execute_result"
    }
   ],
   "source": [
    "q[1:].sum()"
   ]
  },
  {
   "cell_type": "code",
   "execution_count": null,
   "metadata": {},
   "outputs": [],
   "source": [
    "prob = 1-epsilon\n",
    "size = k"
   ]
  },
  {
   "cell_type": "code",
   "execution_count": null,
   "metadata": {},
   "outputs": [
    {
     "data": {
      "text/plain": [
       "array([0.33333333, 0.16666667, 0.16666667, 0.04761905, 0.04761905,\n",
       "       0.04761905, 0.04761905, 0.04761905, 0.04761905, 0.04761905])"
      ]
     },
     "execution_count": 12,
     "metadata": {},
     "output_type": "execute_result"
    }
   ],
   "source": [
    "q = np.ones(m)*((1/3)/(m-3))\n",
    "q[0] = 1/3\n",
    "q[1] = 1/6\n",
    "q[2] = 1/6\n",
    "1 - q[:3].sum()\n",
    "q"
   ]
  },
  {
   "cell_type": "code",
   "execution_count": null,
   "metadata": {},
   "outputs": [],
   "source": [
    "q = np.ones(m)/m\n",
    "q = np.zeros(m)\n",
    "q[0] = 1"
   ]
  },
  {
   "cell_type": "code",
   "execution_count": null,
   "metadata": {},
   "outputs": [
    {
     "data": {
      "text/plain": [
       "(-10.0, 3)"
      ]
     },
     "execution_count": 14,
     "metadata": {},
     "output_type": "execute_result"
    }
   ],
   "source": [
    "def g(k):\n",
    "    if k > 0:\n",
    "        return (k-m-1)/m\n",
    "    else:\n",
    "        return 2*m\n",
    "\n",
    "def lamda(epsilon):\n",
    "    return 1/epsilon\n",
    "\n",
    "# for k in range(1, m):\n",
    "#     print(f'k: {k}: \\n\\tg(m-k) - g(k): {g(m-k) - g(k)} \\n\\tg(k) - g(0): {g(k) - g(0)} \\n\\tg(m) - g(k): {g(m) - g(k)}')\n",
    "\n",
    "epsilon = 0.1\n",
    "1/epsilon * (q[1:5].sum() - Gamma_q(q, epsilon).sum()), q[1:5].size - Gamma_q(q, epsilon).size"
   ]
  },
  {
   "cell_type": "code",
   "execution_count": null,
   "metadata": {},
   "outputs": [],
   "source": [
    "from itertools import chain, combinations\n",
    "\n",
    "def all_subsets(vector):\n",
    "    \"\"\"\n",
    "    Generate all subsets of the given NumPy vector.\n",
    "    \n",
    "    Parameters:\n",
    "        vector (numpy.ndarray): A 1D NumPy array.\n",
    "    \n",
    "    Returns:\n",
    "        list: A list of NumPy arrays representing all subsets.\n",
    "    \"\"\"\n",
    "    vector = np.asarray(vector)  # Ensure input is a NumPy array\n",
    "    m = len(vector)\n",
    "    \n",
    "    # Generate all subsets\n",
    "    subsets = [np.array(subset) for r in range(m + 1) for subset in combinations(vector, r)]\n",
    "    \n",
    "    return subsets\n",
    "\n",
    "subsets = all_subsets(q)"
   ]
  },
  {
   "cell_type": "code",
   "execution_count": null,
   "metadata": {},
   "outputs": [
    {
     "name": "stdout",
     "output_type": "stream",
     "text": [
      "[0.12083564 0.19217343 0.18818496 0.49880597]\n",
      "0.5011940333665144\n",
      "-0.9952352450866423 -1\n"
     ]
    }
   ],
   "source": [
    "def g(k):\n",
    "    return k\n",
    "\n",
    "def lamda(epsilon):\n",
    "    if 1-1/m <= epsilon < 1:\n",
    "        return m*(g(1) - g(0))\n",
    "    else:\n",
    "        return 1/epsilon\n",
    "\n",
    "m = 4\n",
    "q = np.random.uniform(0, 1, m)\n",
    "q = q/q.sum()\n",
    "# q = np.ones(m)/m\n",
    "\n",
    "subsets = all_subsets(q)\n",
    "\n",
    "print(q)\n",
    "\n",
    "for epsilon in 1-q:\n",
    "    for subset in subsets:\n",
    "        try:\n",
    "            assert lamda(epsilon) * (subset.sum() - Gamma_q(q, epsilon).sum()) <= g(subset.size) - g(Gamma_q(q, epsilon).size)\n",
    "        except AssertionError:\n",
    "            # print(1/epsilon * (subset.sum() - Gamma_q(q, epsilon).sum()) - (subset.size - Gamma_q(q, epsilon).size))\n",
    "            print(epsilon)\n",
    "            print(lamda(epsilon) * (subset.sum() - Gamma_q(q, epsilon).sum()), g(subset.size) - g(Gamma_q(q, epsilon).size))\n",
    "            # print(Gamma_q(q, epsilon))\n",
    "            # print(f'size: {subset.size}')"
   ]
  },
  {
   "cell_type": "code",
   "execution_count": null,
   "metadata": {},
   "outputs": [
    {
     "name": "stdout",
     "output_type": "stream",
     "text": [
      "0.008264462809917356\n",
      "0.03305785123966942\n",
      "0.0743801652892562\n",
      "0.1322314049586777\n",
      "0.2066115702479339\n",
      "0.2975206611570248\n",
      "0.4049586776859504\n",
      "0.5289256198347108\n",
      "0.6694214876033058\n",
      "0.8264462809917356\n",
      "1.0\n"
     ]
    }
   ],
   "source": [
    "m = 11\n",
    "\n",
    "def g(k):\n",
    "    return k**2\n",
    "\n",
    "if m < (g(m) - g(0)) / (g(1) - g(0)):\n",
    "    for k in range(1, m+1):\n",
    "        print((g(k) - g(0)) / (g(m) - g(0)))"
   ]
  },
  {
   "cell_type": "code",
   "execution_count": null,
   "metadata": {},
   "outputs": [
    {
     "data": {
      "text/plain": [
       "True"
      ]
     },
     "execution_count": 153,
     "metadata": {},
     "output_type": "execute_result"
    }
   ],
   "source": [
    "1/m > (g(1) - g(0)) / (g(m) - g(0))"
   ]
  },
  {
   "cell_type": "code",
   "execution_count": null,
   "metadata": {},
   "outputs": [
    {
     "data": {
      "text/plain": [
       "0.9063876990717362"
      ]
     },
     "execution_count": 200,
     "metadata": {},
     "output_type": "execute_result"
    }
   ],
   "source": [
    "q = np.random.uniform(0, 1, m)\n",
    "q = q/q.sum()\n",
    "q.sort()\n",
    "k = 3\n",
    "q[k:].sum()"
   ]
  },
  {
   "cell_type": "code",
   "execution_count": null,
   "metadata": {},
   "outputs": [
    {
     "data": {
      "text/plain": [
       "0.7272727272727273"
      ]
     },
     "execution_count": 189,
     "metadata": {},
     "output_type": "execute_result"
    }
   ],
   "source": [
    "q = np.ones(m)/m\n",
    "q[k:].sum()"
   ]
  }
 ],
 "metadata": {
  "kernelspec": {
   "display_name": "online-cp",
   "language": "python",
   "name": "python3"
  },
  "language_info": {
   "codemirror_mode": {
    "name": "ipython",
    "version": 3
   },
   "file_extension": ".py",
   "mimetype": "text/x-python",
   "name": "python",
   "nbconvert_exporter": "python",
   "pygments_lexer": "ipython3",
   "version": "3.11.11"
  }
 },
 "nbformat": 4,
 "nbformat_minor": 2
}
