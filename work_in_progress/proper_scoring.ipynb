{
 "cells": [
  {
   "cell_type": "code",
   "execution_count": 2,
   "metadata": {},
   "outputs": [],
   "source": [
    "import numpy as np\n",
    "import matplotlib.pyplot as plt"
   ]
  },
  {
   "cell_type": "code",
   "execution_count": 24,
   "metadata": {},
   "outputs": [],
   "source": [
    "b = 1.0\n",
    "c = 1.1\n",
    "a = (b + c) / 2\n",
    "\n",
    "q1 = 0.6\n",
    "q2 = 1-q1\n",
    "\n",
    "def S(Gamma, y):\n",
    "    if y in Gamma:\n",
    "       if Gamma.size == 1:\n",
    "          return b\n",
    "       elif Gamma.size == 2:\n",
    "          return a\n",
    "    else:\n",
    "       return c\n",
    "    \n",
    "def Sq(Gamma):\n",
    "   return q1*S(Gamma, 1) + q2*S(Gamma,2)"
   ]
  },
  {
   "cell_type": "code",
   "execution_count": 25,
   "metadata": {},
   "outputs": [
    {
     "data": {
      "text/plain": [
       "1.05"
      ]
     },
     "execution_count": 25,
     "metadata": {},
     "output_type": "execute_result"
    }
   ],
   "source": [
    "Sq(np.array([1, 2]))"
   ]
  }
 ],
 "metadata": {
  "kernelspec": {
   "display_name": "online-cp",
   "language": "python",
   "name": "python3"
  },
  "language_info": {
   "codemirror_mode": {
    "name": "ipython",
    "version": 3
   },
   "file_extension": ".py",
   "mimetype": "text/x-python",
   "name": "python",
   "nbconvert_exporter": "python",
   "pygments_lexer": "ipython3",
   "version": "3.11.11"
  }
 },
 "nbformat": 4,
 "nbformat_minor": 2
}
