{
 "cells": [
  {
   "cell_type": "code",
   "execution_count": 96,
   "metadata": {},
   "outputs": [],
   "source": [
    "from ucimlrepo import fetch_ucirepo \n",
    "from venn_abers import VennAbersCalibrator\n",
    "from sklearn.ensemble import RandomForestClassifier\n",
    "from sklearn.model_selection import train_test_split\n",
    "import numpy as np\n",
    "from sklearn.isotonic import IsotonicRegression\n",
    "import matplotlib.pyplot as plt"
   ]
  },
  {
   "cell_type": "code",
   "execution_count": 110,
   "metadata": {},
   "outputs": [],
   "source": [
    "# fetch dataset \n",
    "breast_cancer_wisconsin_diagnostic = fetch_ucirepo(id=17) \n",
    "  \n",
    "# data (as pandas dataframes) \n",
    "X = breast_cancer_wisconsin_diagnostic.data.features.values\n",
    "Y = breast_cancer_wisconsin_diagnostic.data.targets.values.flatten()\n",
    "Y = (Y == 'M').astype('int')"
   ]
  },
  {
   "cell_type": "code",
   "execution_count": 111,
   "metadata": {},
   "outputs": [],
   "source": [
    "def U(decision, true_class, **params):\n",
    "    \"\"\"\n",
    "    Calculate utility based on the decision, true class, and given parameters.\n",
    "    \n",
    "    Args:\n",
    "        decision (str): One of \"DoNothing\", \"Biopsy\", \"ScanAgain\".\n",
    "        true_class (str): \"cancer\" or \"not_cancer\".\n",
    "        params (dict): Parameters defining utilities and costs.\n",
    "    \n",
    "    Returns:\n",
    "        float: Utility value.\n",
    "    \"\"\"\n",
    "    U_TP = params.get(\"U_TP\", 100)  # Utility for true positive\n",
    "    U_TN = params.get(\"U_TN\", 50)   # Utility for true negative\n",
    "    C_biopsy = params.get(\"C_biopsy\", 20)\n",
    "    C_scan = params.get(\"C_scan\", 10)\n",
    "    C_FN = params.get(\"C_FN\", 200)\n",
    "    C_FP = params.get(\"C_FP\", 15)\n",
    "    if decision == \"DoNothing\":\n",
    "        if true_class == \"M\":\n",
    "            return -C_FN  # False negative cost\n",
    "        else:\n",
    "            return U_TN  # True negative utility\n",
    "    elif decision == \"Biopsy\":\n",
    "        if true_class == \"M\":\n",
    "            return U_TP - C_biopsy  # True positive utility minus biopsy cost\n",
    "        else:\n",
    "            return U_TN - C_biopsy - C_FP  # True negative utility minus biopsy and false positive costs\n",
    "    elif decision == \"ScanAgain\":\n",
    "        return -C_scan  # Cost of scanning again (future probabilities not considered here)\n",
    "    else:\n",
    "        raise ValueError(\"Invalid decision. Choose from 'DoNothing', 'Biopsy', or 'ScanAgain'.\")\n"
   ]
  },
  {
   "cell_type": "markdown",
   "metadata": {},
   "source": [
    "# IVAP"
   ]
  },
  {
   "cell_type": "code",
   "execution_count": 196,
   "metadata": {},
   "outputs": [
    {
     "data": {
      "text/plain": [
       "50.0"
      ]
     },
     "execution_count": 199,
     "metadata": {},
     "output_type": "execute_result"
    }
   ],
   "source": [
    "train_size = 300\n",
    "\n",
    "r=2024\n",
    "\n",
    "X_train, X_test, y_train, y_test = train_test_split(X, Y, train_size=train_size, random_state=r)\n",
    "\n",
    "ivap_rf = RandomForestClassifier(random_state=r)\n",
    "ivap = VennAbersCalibrator(estimator=ivap_rf, inductive=True, cal_size=0.3, random_state=r)\n",
    "ivap.fit(X_train, y_train)\n",
    "P_ivap, P01_ivap = ivap.predict_proba(X_test, p0_p1_output=True)\n",
    "\n",
    "Utility_ivap = 0\n",
    "for probs, y_true in zip(P_ivap, y_test):\n",
    "    utility = {}\n",
    "    for d in ['DoNothing', 'Biopsy', 'ScanAgain']:\n",
    "        u = 0\n",
    "        for p, y in zip(probs, ivap.classes):\n",
    "            u += p*U(decision=d, true_class=y)\n",
    "        utility[d] = u\n",
    "    # Choose decision with highest expected utility\n",
    "    d = max(utility, key=utility.get)\n",
    "    # print(d)\n",
    "    Utility_ivap += U(decision=d, true_class=y_true)\n",
    "\n",
    "Utility_ivap/len(y_test)"
   ]
  },
  {
   "cell_type": "markdown",
   "metadata": {},
   "source": [
    "# Predict_proba"
   ]
  },
  {
   "cell_type": "code",
   "execution_count": 197,
   "metadata": {},
   "outputs": [
    {
     "data": {
      "text/plain": [
       "50.0"
      ]
     },
     "execution_count": 200,
     "metadata": {},
     "output_type": "execute_result"
    }
   ],
   "source": [
    "rf = RandomForestClassifier(random_state=r)\n",
    "rf.fit(X_train, y_train)\n",
    "P_proba = rf.predict_proba(X_test)\n",
    "\n",
    "Utility_proba = 0\n",
    "for probs, y_true in zip(P_proba, y_test):\n",
    "    utility = {}\n",
    "    for d in ['DoNothing', 'Biopsy', 'ScanAgain']:\n",
    "        u = 0\n",
    "        for p, y in zip(probs, ivap.classes):\n",
    "            u += p*U(decision=d, true_class=y)\n",
    "        utility[d] = u\n",
    "    # Choose decision with highest expected utility\n",
    "    d = max(utility, key=utility.get)\n",
    "    # print(d)\n",
    "    Utility_proba += U(decision=d, true_class=y_true)\n",
    "\n",
    "Utility_proba/len(y_test)"
   ]
  }
 ],
 "metadata": {
  "kernelspec": {
   "display_name": "onlineCP",
   "language": "python",
   "name": "python3"
  },
  "language_info": {
   "codemirror_mode": {
    "name": "ipython",
    "version": 3
   },
   "file_extension": ".py",
   "mimetype": "text/x-python",
   "name": "python",
   "nbconvert_exporter": "python",
   "pygments_lexer": "ipython3",
   "version": "3.11.9"
  }
 },
 "nbformat": 4,
 "nbformat_minor": 2
}
